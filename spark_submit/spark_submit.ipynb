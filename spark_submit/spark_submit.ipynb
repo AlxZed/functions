{
 "cells": [
  {
   "cell_type": "markdown",
   "metadata": {},
   "source": [
    "# Submiting spark"
   ]
  },
  {
   "cell_type": "code",
   "execution_count": 45,
   "metadata": {},
   "outputs": [],
   "source": [
    "#!pip install mlrun==0.4.7"
   ]
  },
  {
   "cell_type": "code",
   "execution_count": 46,
   "metadata": {},
   "outputs": [],
   "source": [
    "# nuclio: ignore\n",
    "import nuclio"
   ]
  },
  {
   "cell_type": "markdown",
   "metadata": {},
   "source": [
    "Define the MLRun environment"
   ]
  },
  {
   "cell_type": "code",
   "execution_count": 47,
   "metadata": {},
   "outputs": [
    {
     "name": "stdout",
     "output_type": "stream",
     "text": [
      "%nuclio: setting kind to 'job'\n",
      "%nuclio: setting spec.image to 'aviaigz/mlrun'\n"
     ]
    }
   ],
   "source": [
    "%nuclio config kind = \"job\"\n",
    "%nuclio config spec.image = \"aviaigz/mlrun\""
   ]
  },
  {
   "cell_type": "markdown",
   "metadata": {},
   "source": [
    "## Function"
   ]
  },
  {
   "cell_type": "code",
   "execution_count": 48,
   "metadata": {},
   "outputs": [],
   "source": [
    "from mlrun import get_or_create_ctx\n",
    "from kubernetes import config, client\n",
    "from kubernetes.stream import stream\n",
    "from mlrun.k8s_utils import get_k8s_helper"
   ]
  },
  {
   "cell_type": "code",
   "execution_count": 49,
   "metadata": {},
   "outputs": [],
   "source": [
    "def handler(context,v3io_access_key,name=None,class_param=None,jars=None,packages=None,spark_options=''):            \n",
    "    cmd = spark_command_builder(name,class_param,jars,packages,spark_options)\n",
    "    context.logger.info(\"submiting :\" + cmd)\n",
    "    cli = get_k8s_helper()\n",
    "    cli.exec_shell_cmd(cmd, v3io_access_key)\n",
    "    \n",
    "    \n",
    "def spark_command_builder(name,class_param,jars,packages,spark_options):\n",
    "    cmd = 'spark-submit' \n",
    "    if name is not None:\n",
    "        cmd += ' --name ' + name \n",
    "    \n",
    "    if class_param is not None:\n",
    "        cmd += ' --class ' + class_param \n",
    "        \n",
    "    if jars is not None:\n",
    "        cmd += ' --jars ' + jars\n",
    "            \n",
    "    if packages is not None:\n",
    "        cmd += ' --packages ' + packages\n",
    "\n",
    "    if spark_options is not None:\n",
    "        cmd += ' ' + spark_options    \n",
    "    \n",
    "    return cmd    "
   ]
  },
  {
   "cell_type": "code",
   "execution_count": 50,
   "metadata": {},
   "outputs": [],
   "source": [
    "# nuclio: end-code"
   ]
  },
  {
   "cell_type": "markdown",
   "metadata": {},
   "source": [
    "## Test\n",
    "> This test uses the metrics data, created by the [Generator function](https://github.com/mlrun/demo-network-operations/blob/master/notebooks/generator.ipynb) from MLRun's [Network Operations Demo](https://github.com/mlrun/demo-network-operations)  \n",
    "To test it yourself, please generate this dataset or use any of your available csv/parquet datasets."
   ]
  },
  {
   "cell_type": "code",
   "execution_count": 51,
   "metadata": {},
   "outputs": [],
   "source": [
    "from mlrun import code_to_function, mount_v3io, NewTask, mlconf, run_local\n",
    "mlconf.dbpath = mlconf.dbpath or 'http://mlrun-api:8080'\n"
   ]
  },
  {
   "cell_type": "code",
   "execution_count": null,
   "metadata": {},
   "outputs": [],
   "source": []
  },
  {
   "cell_type": "markdown",
   "metadata": {},
   "source": [
    "### Define the execute test task"
   ]
  },
  {
   "cell_type": "code",
   "execution_count": 52,
   "metadata": {},
   "outputs": [],
   "source": [
    "execute_task = NewTask(name='spark-submit',\n",
    "                         project='submit-proj',\n",
    "                         params={'spark_options':\"/spark/examples/jars/spark-examples_2.11-2.4.4.jar 10\",'v3io_access_key':'access_key','class_param':'org.apache.spark.examples.SparkPi'},                                                  \n",
    "                         handler=handler)"
   ]
  },
  {
   "cell_type": "code",
   "execution_count": 53,
   "metadata": {},
   "outputs": [],
   "source": [
    "#submit_run = run_local(submit_task)"
   ]
  },
  {
   "cell_type": "markdown",
   "metadata": {},
   "source": [
    "### Test on cluster"
   ]
  },
  {
   "cell_type": "markdown",
   "metadata": {},
   "source": [
    "Convert the code to an MLRun function"
   ]
  },
  {
   "cell_type": "code",
   "execution_count": 54,
   "metadata": {},
   "outputs": [
    {
     "name": "stdout",
     "output_type": "stream",
     "text": [
      "[mlrun] 2020-06-17 10:02:33,837 function spec saved to path: function.yaml\n"
     ]
    },
    {
     "data": {
      "text/plain": [
       "<mlrun.runtimes.kubejob.KubejobRuntime at 0x7f1e3b067630>"
      ]
     },
     "execution_count": 54,
     "metadata": {},
     "output_type": "execute_result"
    }
   ],
   "source": [
    "fn = code_to_function('submit', handler='handler')\n",
    "fn.spec.service_account='mlrun-api'\n",
    "fn.apply(mount_v3io())\n",
    "fn.export('function.yaml')"
   ]
  },
  {
   "cell_type": "code",
   "execution_count": 55,
   "metadata": {},
   "outputs": [
    {
     "name": "stdout",
     "output_type": "stream",
     "text": [
      "[mlrun] 2020-06-17 10:02:33,845 artifact path is not defined or is local, artifacts will not be visible in the UI\n",
      "[mlrun] 2020-06-17 10:02:33,853 starting run spark-submit uid=5c43be949e29421c95939fe2e4e011cb  -> http://10.199.81.213:8080\n",
      "[mlrun] 2020-06-17 10:02:33,949 Job is running in the background, pod: spark-submit-rps2k\n",
      "[mlrun] 2020-06-17 10:02:41,007 artifact path is not defined or is local, artifacts will not be visible in the UI\n",
      "[mlrun] 2020-06-17 10:02:41,017 warning!, server (0.4.7) and client (0.4.9) ver dont match\n",
      "[mlrun] 2020-06-17 10:02:41,030 starting local run: main.py # handler\n",
      "[mlrun] 2020-06-17 10:02:41,036 warning!, server (0.4.7) and client (0.4.9) ver dont match\n",
      "[mlrun] 2020-06-17 10:02:41,047 submiting :spark-submit --class org.apache.spark.examples.SparkPi /spark/examples/jars/spark-examples_2.11-2.4.4.jar 10\n",
      "[mlrun] 2020-06-17 10:02:41,048 using in-cluster config.\n",
      "[mlrun] 2020-06-17 10:02:41,155 10.200.0.24\tdefault-tenant\tshell-889bd96c5-hdkgc\n",
      "[mlrun] 2020-06-17 10:02:41,255 10.200.0.24\tdefault-tenant\tshell-889bd96c5-hdkgc\n",
      "[mlrun] 2020-06-17 10:02:41,424 validating resp 96ce94f5-8680-4a27-bd0b-9025626d7d2f\n",
      " with acces_key\n",
      "[mlrun] 2020-06-17 10:02:41,424 validating key 96ce94f5-8680-4a27-bd0b-9025626d7d2f\n",
      "[mlrun] 2020-06-17 10:02:46,109 Response: 20/06/17 10:02:42 WARN util.NativeCodeLoader: Unable to load native-hadoop library for your platform... using builtin-java classes where applicable\n",
      "20/06/17 10:02:43 INFO spark.SparkContext: Running Spark version 2.4.4\n",
      "20/06/17 10:02:43 INFO spark.SparkContext: Submitted application: Spark Pi\n",
      "20/06/17 10:02:43 INFO spark.SecurityManager: Changing view acls to: iguazio\n",
      "20/06/17 10:02:43 INFO spark.SecurityManager: Changing modify acls to: iguazio\n",
      "20/06/17 10:02:43 INFO spark.SecurityManager: Changing view acls groups to: \n",
      "20/06/17 10:02:43 INFO spark.SecurityManager: Changing modify acls groups to: \n",
      "20/06/17 10:02:43 INFO spark.SecurityManager: SecurityManager: authentication disabled; ui acls disabled; users  with view permissions: Set(iguazio); groups with view permissions: Set(); users  with modify permissions: Set(iguazio); groups with modify permissions: Set()\n",
      "20/06/17 10:02:43 INFO util.Utils: Successfully started service 'sparkDriver' on port 41189.\n",
      "20/06/17 10:02:43 INFO spark.SparkEnv: Registering MapOutputTracker\n",
      "20/06/17 10:02:43 INFO spark.SparkEnv: Registering BlockManagerMaster\n",
      "20/06/17 10:02:43 INFO storage.BlockManagerMasterEndpoint: Using org.apache.spark.storage.DefaultTopologyMapper for getting topology information\n",
      "20/06/17 10:02:43 INFO storage.BlockManagerMasterEndpoint: BlockManagerMasterEndpoint up\n",
      "20/06/17 10:02:43 INFO storage.DiskBlockManager: Created local directory at /tmp/blockmgr-df8593c7-17a1-4ff1-9af0-f5cbce00002b\n",
      "20/06/17 10:02:43 INFO memory.MemoryStore: MemoryStore started with capacity 366.3 MB\n",
      "20/06/17 10:02:43 INFO spark.SparkEnv: Registering OutputCommitCoordinator\n",
      "20/06/17 10:02:43 INFO util.log: Logging initialized @2123ms\n",
      "20/06/17 10:02:43 INFO server.Server: jetty-9.3.z-SNAPSHOT, build timestamp: unknown, git hash: unknown\n",
      "20/06/17 10:02:43 INFO server.Server: Started @2203ms\n",
      "20/06/17 10:02:44 INFO server.AbstractConnector: Started ServerConnector@213deac2{HTTP/1.1,[http/1.1]}{0.0.0.0:4040}\n",
      "20/06/17 10:02:44 INFO util.Utils: Successfully started service 'SparkUI' on port 4040.\n",
      "20/06/17 10:02:44 INFO handler.ContextHandler: Started o.s.j.s.ServletContextHandler@2873d672{/jobs,null,AVAILABLE,@Spark}\n",
      "20/06/17 10:02:44 INFO handler.ContextHandler: Started o.s.j.s.ServletContextHandler@6ef7623{/jobs/json,null,AVAILABLE,@Spark}\n",
      "20/06/17 10:02:44 INFO handler.ContextHandler: Started o.s.j.s.ServletContextHandler@64e1dd11{/jobs/job,null,AVAILABLE,@Spark}\n",
      "20/06/17 10:02:44 INFO handler.ContextHandler: Started o.s.j.s.ServletContextHandler@6999cd39{/jobs/job/json,null,AVAILABLE,@Spark}\n",
      "20/06/17 10:02:44 INFO handler.ContextHandler: Started o.s.j.s.ServletContextHandler@14bae047{/stages,null,AVAILABLE,@Spark}\n",
      "20/06/17 10:02:44 INFO handler.ContextHandler: Started o.s.j.s.ServletContextHandler@7ed9ae94{/stages/json,null,AVAILABLE,@Spark}\n",
      "20/06/17 10:02:44 INFO handler.ContextHandler: Started o.s.j.s.ServletContextHandler@66908383{/stages/stage,null,AVAILABLE,@Spark}\n",
      "20/06/17 10:02:44 INFO handler.ContextHandler: Started o.s.j.s.ServletContextHandler@3122b117{/stages/stage/json,null,AVAILABLE,@Spark}\n",
      "20/06/17 10:02:44 INFO handler.ContextHandler: Started o.s.j.s.ServletContextHandler@534ca02b{/stages/pool,null,AVAILABLE,@Spark}\n",
      "20/06/17 10:02:44 INFO handler.ContextHandler: Started o.s.j.s.ServletContextHandler@29a23c3d{/stages/pool/json,null,AVAILABLE,@Spark}\n",
      "20/06/17 10:02:44 INFO handler.ContextHandler: Started o.s.j.s.ServletContextHandler@4b6ac111{/storage,null,AVAILABLE,@Spark}\n",
      "20/06/17 10:02:44 INFO handler.ContextHandler: Started o.s.j.s.ServletContextHandler@6fe46b62{/storage/json,null,AVAILABLE,@Spark}\n",
      "20/06/17 10:02:44 INFO handler.ContextHandler: Started o.s.j.s.ServletContextHandler@591fd34d{/storage/rdd,null,AVAILABLE,@Spark}\n",
      "20/06/17 10:02:44 INFO handler.ContextHandler: Started o.s.j.s.ServletContextHandler@61e45f87{/storage/rdd/json,null,AVAILABLE,@Spark}\n",
      "20/06/17 10:02:44 INFO handler.ContextHandler: Started o.s.j.s.ServletContextHandler@7c9b78e3{/environment,null,AVAILABLE,@Spark}\n",
      "20/06/17 10:02:44 INFO handler.ContextHandler: Started o.s.j.s.ServletContextHandler@3068b369{/environment/json,null,AVAILABLE,@Spark}\n",
      "20/06/17 10:02:44 INFO handler.ContextHandler: Started o.s.j.s.ServletContextHandler@17ca8b92{/executors,null,AVAILABLE,@Spark}\n",
      "20/06/17 10:02:44 INFO handler.ContextHandler: Started o.s.j.s.ServletContextHandler@5491f68b{/executors/json,null,AVAILABLE,@Spark}\n",
      "20/06/17 10:02:44 INFO handler.ContextHandler: Started o.s.j.s.ServletContextHandler@736ac09a{/executors/threadDump,null,AVAILABLE,@Spark}\n",
      "20/06/17 10:02:44 INFO handler.ContextHandler: Started o.s.j.s.ServletContextHandler@6ecd665{/executors/threadDump/json,null,AVAILABLE,@Spark}\n",
      "20/06/17 10:02:44 INFO handler.ContextHandler: Started o.s.j.s.ServletContextHandler@45394b31{/static,null,AVAILABLE,@Spark}\n",
      "20/06/17 10:02:44 INFO handler.ContextHandler: Started o.s.j.s.ServletContextHandler@7c2a69b4{/,null,AVAILABLE,@Spark}\n",
      "20/06/17 10:02:44 INFO handler.ContextHandler: Started o.s.j.s.ServletContextHandler@a619c2{/api,null,AVAILABLE,@Spark}\n",
      "20/06/17 10:02:44 INFO handler.ContextHandler: Started o.s.j.s.ServletContextHandler@28cb9120{/jobs/job/kill,null,AVAILABLE,@Spark}\n",
      "20/06/17 10:02:44 INFO handler.ContextHandler: Started o.s.j.s.ServletContextHandler@3b152928{/stages/stage/kill,null,AVAILABLE,@Spark}\n",
      "20/06/17 10:02:44 INFO ui.SparkUI: Bound SparkUI to 0.0.0.0, and started at http://iguazio-cloud:4040\n",
      "20/06/17 10:02:44 INFO spark.SparkContext: Added JAR file:///spark/v3io-libs/v3io-hcfs_2.11.jar at spark://iguazio-cloud:41189/jars/v3io-hcfs_2.11.jar with timestamp 1592388164087\n",
      "20/06/17 10:02:44 INFO spark.SparkContext: Added JAR file:///spark/v3io-libs/v3io-spark2-object-dataframe_2.11.jar at spark://iguazio-cloud:41189/jars/v3io-spark2-object-dataframe_2.11.jar with timestamp 1592388164088\n",
      "20/06/17 10:02:44 INFO spark.SparkContext: Added JAR file:///spark/v3io-libs/v3io-spark2-streaming_2.11.jar at spark://iguazio-cloud:41189/jars/v3io-spark2-streaming_2.11.jar with timestamp 1592388164088\n",
      "20/06/17 10:02:44 INFO spark.SparkContext: Added JAR file:/spark/examples/jars/spark-examples_2.11-2.4.4.jar at spark://iguazio-cloud:41189/jars/spark-examples_2.11-2.4.4.jar with timestamp 1592388164088\n",
      "20/06/17 10:02:44 INFO executor.Executor: Starting executor ID driver on host localhost\n",
      "20/06/17 10:02:44 INFO util.Utils: Successfully started service 'org.apache.spark.network.netty.NettyBlockTransferService' on port 45370.\n",
      "20/06/17 10:02:44 INFO netty.NettyBlockTransferService: Server created on iguazio-cloud:45370\n",
      "20/06/17 10:02:44 INFO storage.BlockManager: Using org.apache.spark.storage.RandomBlockReplicationPolicy for block replication policy\n",
      "20/06/17 10:02:44 INFO storage.BlockManagerMaster: Registering BlockManager BlockManagerId(driver, iguazio-cloud, 45370, None)\n",
      "20/06/17 10:02:44 INFO storage.BlockManagerMasterEndpoint: Registering block manager iguazio-cloud:45370 with 366.3 MB RAM, BlockManagerId(driver, iguazio-cloud, 45370, None)\n",
      "20/06/17 10:02:44 INFO storage.BlockManagerMaster: Registered BlockManager BlockManagerId(driver, iguazio-cloud, 45370, None)\n",
      "20/06/17 10:02:44 INFO storage.BlockManager: Initialized BlockManager: BlockManagerId(driver, iguazio-cloud, 45370, None)\n",
      "20/06/17 10:02:44 INFO handler.ContextHandler: Started o.s.j.s.ServletContextHandler@7c1812b3{/metrics/json,null,AVAILABLE,@Spark}\n",
      "20/06/17 10:02:44 INFO spark.SparkContext: Starting job: reduce at SparkPi.scala:38\n",
      "20/06/17 10:02:44 INFO scheduler.DAGScheduler: Got job 0 (reduce at SparkPi.scala:38) with 10 output partitions\n",
      "20/06/17 10:02:44 INFO scheduler.DAGScheduler: Final stage: ResultStage 0 (reduce at SparkPi.scala:38)\n",
      "20/06/17 10:02:44 INFO scheduler.DAGScheduler: Parents of final stage: List()\n",
      "20/06/17 10:02:44 INFO scheduler.DAGScheduler: Missing parents: List()\n",
      "20/06/17 10:02:44 INFO scheduler.DAGScheduler: Submitting ResultStage 0 (MapPartitionsRDD[1] at map at SparkPi.scala:34), which has no missing parents\n",
      "20/06/17 10:02:44 INFO memory.MemoryStore: Block broadcast_0 stored as values in memory (estimated size 1936.0 B, free 366.3 MB)\n",
      "20/06/17 10:02:44 INFO memory.MemoryStore: Block broadcast_0_piece0 stored as bytes in memory (estimated size 1256.0 B, free 366.3 MB)\n",
      "20/06/17 10:02:44 INFO storage.BlockManagerInfo: Added broadcast_0_piece0 in memory on iguazio-cloud:45370 (size: 1256.0 B, free: 366.3 MB)\n",
      "20/06/17 10:02:44 INFO spark.SparkContext: Created broadcast 0 from broadcast at DAGScheduler.scala:1161\n",
      "20/06/17 10:02:45 INFO scheduler.DAGScheduler: Submitting 10 missing tasks from ResultStage 0 (MapPartitionsRDD[1] at map at SparkPi.scala:34) (first 15 tasks are for partitions Vector(0, 1, 2, 3, 4, 5, 6, 7, 8, 9))\n",
      "20/06/17 10:02:45 INFO scheduler.TaskSchedulerImpl: Adding task set 0.0 with 10 tasks\n",
      "20/06/17 10:02:45 INFO scheduler.TaskSetManager: Starting task 0.0 in stage 0.0 (TID 0, localhost, executor driver, partition 0, PROCESS_LOCAL, 7866 bytes)\n",
      "20/06/17 10:02:45 INFO scheduler.TaskSetManager: Starting task 1.0 in stage 0.0 (TID 1, localhost, executor driver, partition 1, PROCESS_LOCAL, 7866 bytes)\n",
      "20/06/17 10:02:45 INFO scheduler.TaskSetManager: Starting task 2.0 in stage 0.0 (TID 2, localhost, executor driver, partition 2, PROCESS_LOCAL, 7866 bytes)\n",
      "20/06/17 10:02:45 INFO scheduler.TaskSetManager: Starting task 3.0 in stage 0.0 (TID 3, localhost, executor driver, partition 3, PROCESS_LOCAL, 7866 bytes)\n",
      "20/06/17 10:02:45 INFO scheduler.TaskSetManager: Starting task 4.0 in stage 0.0 (TID 4, localhost, executor driver, partition 4, PROCESS_LOCAL, 7866 bytes)\n",
      "20/06/17 10:02:45 INFO scheduler.TaskSetManager: Starting task 5.0 in stage 0.0 (TID 5, localhost, executor driver, partition 5, PROCESS_LOCAL, 7866 bytes)\n",
      "20/06/17 10:02:45 INFO scheduler.TaskSetManager: Starting task 6.0 in stage 0.0 (TID 6, localhost, executor driver, partition 6, PROCESS_LOCAL, 7866 bytes)\n",
      "20/06/17 10:02:45 INFO scheduler.TaskSetManager: Starting task 7.0 in stage 0.0 (TID 7, localhost, executor driver, partition 7, PROCESS_LOCAL, 7866 bytes)\n",
      "20/06/17 10:02:45 INFO scheduler.TaskSetManager: Starting task 8.0 in stage 0.0 (TID 8, localhost, executor driver, partition 8, PROCESS_LOCAL, 7866 bytes)\n",
      "20/06/17 10:02:45 INFO scheduler.TaskSetManager: Starting task 9.0 in stage 0.0 (TID 9, localhost, executor driver, partition 9, PROCESS_LOCAL, 7866 bytes)\n",
      "20/06/17 10:02:45 INFO executor.Executor: Running task 6.0 in stage 0.0 (TID 6)\n",
      "20/06/17 10:02:45 INFO executor.Executor: Running task 3.0 in stage 0.0 (TID 3)\n",
      "20/06/17 10:02:45 INFO executor.Executor: Running task 9.0 in stage 0.0 (TID 9)\n",
      "20/06/17 10:02:45 INFO executor.Executor: Running task 8.0 in stage 0.0 (TID 8)\n",
      "20/06/17 10:02:45 INFO executor.Executor: Running task 1.0 in stage 0.0 (TID 1)\n",
      "20/06/17 10:02:45 INFO executor.Executor: Running task 5.0 in stage 0.0 (TID 5)\n",
      "20/06/17 10:02:45 INFO executor.Executor: Running task 4.0 in stage 0.0 (TID 4)\n",
      "20/06/17 10:02:45 INFO executor.Executor: Running task 7.0 in stage 0.0 (TID 7)\n",
      "20/06/17 10:02:45 INFO executor.Executor: Running task 0.0 in stage 0.0 (TID 0)\n",
      "20/06/17 10:02:45 INFO executor.Executor: Running task 2.0 in stage 0.0 (TID 2)\n",
      "20/06/17 10:02:45 INFO executor.Executor: Fetching spark://iguazio-cloud:41189/jars/spark-examples_2.11-2.4.4.jar with timestamp 1592388164088\n",
      "20/06/17 10:02:45 INFO client.TransportClientFactory: Successfully created connection to iguazio-cloud/10.200.0.24:41189 after 32 ms (0 ms spent in bootstraps)\n",
      "20/06/17 10:02:45 INFO util.Utils: Fetching spark://iguazio-cloud:41189/jars/spark-examples_2.11-2.4.4.jar to /tmp/spark-380ab3de-0801-409a-a4c5-9e079ffa8d1d/userFiles-760799e6-0eeb-4845-914d-fa4199cdc99c/fetchFileTemp6048662251097901789.tmp\n",
      "20/06/17 10:02:45 INFO executor.Executor: Adding file:/tmp/spark-380ab3de-0801-409a-a4c5-9e079ffa8d1d/userFiles-760799e6-0eeb-4845-914d-fa4199cdc99c/spark-examples_2.11-2.4.4.jar to class loader\n",
      "20/06/17 10:02:45 INFO executor.Executor: Fetching spark://iguazio-cloud:41189/jars/v3io-hcfs_2.11.jar with timestamp 1592388164087\n",
      "20/06/17 10:02:45 INFO util.Utils: Fetching spark://iguazio-cloud:41189/jars/v3io-hcfs_2.11.jar to /tmp/spark-380ab3de-0801-409a-a4c5-9e079ffa8d1d/userFiles-760799e6-0eeb-4845-914d-fa4199cdc99c/fetchFileTemp7128493784075496942.tmp\n",
      "20/06/17 10:02:45 INFO executor.Executor: Adding file:/tmp/spark-380ab3de-0801-409a-a4c5-9e079ffa8d1d/userFiles-760799e6-0eeb-4845-914d-fa4199cdc99c/v3io-hcfs_2.11.jar to class loader\n",
      "20/06/17 10:02:45 INFO executor.Executor: Fetching spark://iguazio-cloud:41189/jars/v3io-spark2-streaming_2.11.jar with timestamp 1592388164088\n",
      "20/06/17 10:02:45 INFO util.Utils: Fetching spark://iguazio-cloud:41189/jars/v3io-spark2-streaming_2.11.jar to /tmp/spark-380ab3de-0801-409a-a4c5-9e079ffa8d1d/userFiles-760799e6-0eeb-4845-914d-fa4199cdc99c/fetchFileTemp337836287007759345.tmp\n",
      "20/06/17 10:02:45 INFO executor.Executor: Adding file:/tmp/spark-380ab3de-0801-409a-a4c5-9e079ffa8d1d/userFiles-760799e6-0eeb-4845-914d-fa4199cdc99c/v3io-spark2-streaming_2.11.jar to class loader\n",
      "20/06/17 10:02:45 INFO executor.Executor: Fetching spark://iguazio-cloud:41189/jars/v3io-spark2-object-dataframe_2.11.jar with timestamp 1592388164088\n",
      "20/06/17 10:02:45 INFO util.Utils: Fetching spark://iguazio-cloud:41189/jars/v3io-spark2-object-dataframe_2.11.jar to /tmp/spark-380ab3de-0801-409a-a4c5-9e079ffa8d1d/userFiles-760799e6-0eeb-4845-914d-fa4199cdc99c/fetchFileTemp1213480054496751340.tmp\n",
      "20/06/17 10:02:45 INFO executor.Executor: Adding file:/tmp/spark-380ab3de-0801-409a-a4c5-9e079ffa8d1d/userFiles-760799e6-0eeb-4845-914d-fa4199cdc99c/v3io-spark2-object-dataframe_2.11.jar to class loader\n",
      "20/06/17 10:02:45 INFO executor.Executor: Finished task 6.0 in stage 0.0 (TID 6). 824 bytes result sent to driver\n",
      "20/06/17 10:02:45 INFO executor.Executor: Finished task 4.0 in stage 0.0 (TID 4). 824 bytes result sent to driver\n",
      "20/06/17 10:02:45 INFO executor.Executor: Finished task 5.0 in stage 0.0 (TID 5). 824 bytes result sent to driver\n",
      "20/06/17 10:02:45 INFO executor.Executor: Finished task 9.0 in stage 0.0 (TID 9). 824 bytes result sent to driver\n",
      "20/06/17 10:02:45 INFO executor.Executor: Finished task 2.0 in stage 0.0 (TID 2). 824 bytes result sent to driver\n",
      "20/06/17 10:02:45 INFO executor.Executor: Finished task 0.0 in stage 0.0 (TID 0). 824 bytes result sent to driver\n",
      "20/06/17 10:02:45 INFO executor.Executor: Finished task 1.0 in stage 0.0 (TID 1). 824 bytes result sent to driver\n",
      "20/06/17 10:02:45 INFO executor.Executor: Finished task 7.0 in stage 0.0 (TID 7). 824 bytes result sent to driver\n",
      "20/06/17 10:02:45 INFO executor.Executor: Finished task 8.0 in stage 0.0 (TID 8). 824 bytes result sent to driver\n",
      "20/06/17 10:02:45 INFO executor.Executor: Finished task 3.0 in stage 0.0 (TID 3). 824 bytes result sent to driver\n",
      "20/06/17 10:02:45 INFO scheduler.TaskSetManager: Finished task 5.0 in stage 0.0 (TID 5) in 523 ms on localhost (executor driver) (1/10)\n",
      "20/06/17 10:02:45 INFO scheduler.TaskSetManager: Finished task 4.0 in stage 0.0 (TID 4) in 528 ms on localhost (executor driver) (2/10)\n",
      "20/06/17 10:02:45 INFO scheduler.TaskSetManager: Finished task 9.0 in stage 0.0 (TID 9) in 525 ms on localhost (executor driver) (3/10)\n",
      "20/06/17 10:02:45 INFO scheduler.TaskSetManager: Finished task 6.0 in stage 0.0 (TID 6) in 527 ms on localhost (executor driver) (4/10)\n",
      "20/06/17 10:02:45 INFO scheduler.TaskSetManager: Finished task 0.0 in stage 0.0 (TID 0) in 550 ms on localhost (executor driver) (5/10)\n",
      "20/06/17 10:02:45 INFO scheduler.TaskSetManager: Finished task 1.0 in stage 0.0 (TID 1) in 530 ms on localhost (executor driver) (6/10)\n",
      "20/06/17 10:02:45 INFO scheduler.TaskSetManager: Finished task 2.0 in stage 0.0 (TID 2) in 530 ms on localhost (executor driver) (7/10)\n",
      "20/06/17 10:02:45 INFO scheduler.TaskSetManager: Finished task 7.0 in stage 0.0 (TID 7) in 527 ms on localhost (executor driver) (8/10)\n",
      "20/06/17 10:02:45 INFO scheduler.TaskSetManager: Finished task 3.0 in stage 0.0 (TID 3) in 529 ms on localhost (executor driver) (9/10)\n",
      "20/06/17 10:02:45 INFO scheduler.TaskSetManager: Finished task 8.0 in stage 0.0 (TID 8) in 527 ms on localhost (executor driver) (10/10)\n",
      "20/06/17 10:02:45 INFO scheduler.TaskSchedulerImpl: Removed TaskSet 0.0, whose tasks have all completed, from pool \n",
      "20/06/17 10:02:45 INFO scheduler.DAGScheduler: ResultStage 0 (reduce at SparkPi.scala:38) finished in 0.701 s\n",
      "20/06/17 10:02:45 INFO scheduler.DAGScheduler: Job 0 finished: reduce at SparkPi.scala:38, took 0.755149 s\n",
      "Pi is roughly 3.141123141123141\n",
      "20/06/17 10:02:45 INFO server.AbstractConnector: Stopped Spark@213deac2{HTTP/1.1,[http/1.1]}{0.0.0.0:4040}\n",
      "20/06/17 10:02:45 INFO ui.SparkUI: Stopped Spark web UI at http://iguazio-cloud:4040\n",
      "20/06/17 10:02:45 INFO spark.MapOutputTrackerMasterEndpoint: MapOutputTrackerMasterEndpoint stopped!\n",
      "20/06/17 10:02:45 INFO memory.MemoryStore: MemoryStore cleared\n",
      "20/06/17 10:02:45 INFO storage.BlockManager: BlockManager stopped\n",
      "20/06/17 10:02:45 INFO storage.BlockManagerMaster: BlockManagerMaster stopped\n",
      "20/06/17 10:02:45 INFO scheduler.OutputCommitCoordinator$OutputCommitCoordinatorEndpoint: OutputCommitCoordinator stopped!\n",
      "20/06/17 10:02:45 INFO spark.SparkContext: Successfully stopped SparkContext\n",
      "20/06/17 10:02:45 INFO util.ShutdownHookManager: Shutdown hook called\n",
      "20/06/17 10:02:45 INFO util.ShutdownHookManager: Deleting directory /tmp/spark-380ab3de-0801-409a-a4c5-9e079ffa8d1d\n",
      "20/06/17 10:02:45 INFO util.ShutdownHookManager: Deleting directory /tmp/spark-079b489c-40cd-48bd-9f2a-aae60d930893\n",
      "\n",
      "\n",
      "[mlrun] 2020-06-17 10:02:46,121 run executed, status=completed\n",
      "final state: succeeded\n"
     ]
    },
    {
     "data": {
      "text/html": [
       "<style> \n",
       ".dictlist {\n",
       "  background-color: #b3edff; \n",
       "  text-align: center; \n",
       "  margin: 4px; \n",
       "  border-radius: 3px; padding: 0px 3px 1px 3px; display: inline-block;}\n",
       ".artifact {\n",
       "  cursor: pointer; \n",
       "  background-color: #ffe6cc; \n",
       "  text-align: left; \n",
       "  margin: 4px; border-radius: 3px; padding: 0px 3px 1px 3px; display: inline-block;\n",
       "}\n",
       "div.block.hidden {\n",
       "  display: none;\n",
       "}\n",
       ".clickable {\n",
       "  cursor: pointer;\n",
       "}\n",
       ".ellipsis {\n",
       "  display: inline-block;\n",
       "  max-width: 60px;\n",
       "  white-space: nowrap;\n",
       "  overflow: hidden;\n",
       "  text-overflow: ellipsis;\n",
       "}\n",
       ".master-wrapper {\n",
       "  display: flex;\n",
       "  flex-flow: row nowrap;\n",
       "  justify-content: flex-start;\n",
       "  align-items: stretch;\n",
       "}\n",
       ".master-tbl {\n",
       "  flex: 3\n",
       "}\n",
       ".master-wrapper > div {\n",
       "  margin: 4px;\n",
       "  padding: 10px;\n",
       "}\n",
       "iframe.fileview {\n",
       "  border: 0 none;\n",
       "  height: 100%;\n",
       "  width: 100%;\n",
       "  white-space: pre-wrap;\n",
       "}\n",
       ".pane-header-title {\n",
       "  width: 80%;\n",
       "  font-weight: 500;\n",
       "}\n",
       ".pane-header {\n",
       "  line-height: 1;\n",
       "  background-color: #ffe6cc;\n",
       "  padding: 3px;\n",
       "}\n",
       ".pane-header .close {\n",
       "  font-size: 20px;\n",
       "  font-weight: 700;\n",
       "  float: right;\n",
       "  margin-top: -5px;\n",
       "}\n",
       ".master-wrapper .right-pane {\n",
       "  border: 1px inset silver;\n",
       "  width: 40%;\n",
       "  min-height: 300px;\n",
       "  flex: 3\n",
       "  min-width: 500px;\n",
       "}\n",
       ".master-wrapper * {\n",
       "  box-sizing: border-box;\n",
       "}\n",
       "</style><script>\n",
       "function copyToClipboard(fld) {\n",
       "    if (document.queryCommandSupported && document.queryCommandSupported('copy')) {\n",
       "        var textarea = document.createElement('textarea');\n",
       "        textarea.textContent = fld.innerHTML;\n",
       "        textarea.style.position = 'fixed';\n",
       "        document.body.appendChild(textarea);\n",
       "        textarea.select();\n",
       "\n",
       "        try {\n",
       "            return document.execCommand('copy'); // Security exception may be thrown by some browsers.\n",
       "        } catch (ex) {\n",
       "\n",
       "        } finally {\n",
       "            document.body.removeChild(textarea);\n",
       "        }\n",
       "    }\n",
       "}\n",
       "function expandPanel(el) {\n",
       "  const panelName = \"#\" + el.getAttribute('paneName');\n",
       "  console.log(el.title);\n",
       "\n",
       "  document.querySelector(panelName + \"-title\").innerHTML = el.title\n",
       "  iframe = document.querySelector(panelName + \"-body\");\n",
       "  \n",
       "  const tblcss = `<style> body { font-family: Arial, Helvetica, sans-serif;}\n",
       "    #csv { margin-bottom: 15px; }\n",
       "    #csv table { border-collapse: collapse;}\n",
       "    #csv table td { padding: 4px 8px; border: 1px solid silver;} </style>`;\n",
       "\n",
       "  function csvToHtmlTable(str) {\n",
       "    return '<div id=\"csv\"><table><tr><td>' +  str.replace(/[\\n\\r]+$/g, '').replace(/[\\n\\r]+/g, '</td></tr><tr><td>')\n",
       "      .replace(/,/g, '</td><td>') + '</td></tr></table></div>';\n",
       "  }\n",
       "  \n",
       "  function reqListener () {\n",
       "    if (el.title.endsWith(\".csv\")) {\n",
       "      iframe.setAttribute(\"srcdoc\", tblcss + csvToHtmlTable(this.responseText));\n",
       "    } else {\n",
       "      iframe.setAttribute(\"srcdoc\", this.responseText);\n",
       "    }  \n",
       "    console.log(this.responseText);\n",
       "  }\n",
       "\n",
       "  const oReq = new XMLHttpRequest();\n",
       "  oReq.addEventListener(\"load\", reqListener);\n",
       "  oReq.open(\"GET\", el.title);\n",
       "  oReq.send();\n",
       "  \n",
       "  \n",
       "  //iframe.src = el.title;\n",
       "  const resultPane = document.querySelector(panelName + \"-pane\");\n",
       "  if (resultPane.classList.contains(\"hidden\")) {\n",
       "    resultPane.classList.remove(\"hidden\");\n",
       "  }\n",
       "}\n",
       "function closePanel(el) {\n",
       "  const panelName = \"#\" + el.getAttribute('paneName')\n",
       "  const resultPane = document.querySelector(panelName + \"-pane\");\n",
       "  if (!resultPane.classList.contains(\"hidden\")) {\n",
       "    resultPane.classList.add(\"hidden\");\n",
       "  }\n",
       "}\n",
       "\n",
       "</script>\n",
       "<div class=\"master-wrapper\">\n",
       "  <div class=\"block master-tbl\"><div>\n",
       "<style scoped>\n",
       "    .dataframe tbody tr th:only-of-type {\n",
       "        vertical-align: middle;\n",
       "    }\n",
       "\n",
       "    .dataframe tbody tr th {\n",
       "        vertical-align: top;\n",
       "    }\n",
       "\n",
       "    .dataframe thead th {\n",
       "        text-align: right;\n",
       "    }\n",
       "</style>\n",
       "<table border=\"1\" class=\"dataframe\">\n",
       "  <thead>\n",
       "    <tr style=\"text-align: right;\">\n",
       "      <th>project</th>\n",
       "      <th>uid</th>\n",
       "      <th>iter</th>\n",
       "      <th>start</th>\n",
       "      <th>state</th>\n",
       "      <th>name</th>\n",
       "      <th>labels</th>\n",
       "      <th>inputs</th>\n",
       "      <th>parameters</th>\n",
       "      <th>results</th>\n",
       "      <th>artifacts</th>\n",
       "    </tr>\n",
       "  </thead>\n",
       "  <tbody>\n",
       "    <tr>\n",
       "      <td>submit-proj</td>\n",
       "      <td><div title=\"5c43be949e29421c95939fe2e4e011cb\"><a href=\"https://mlrun-ui.default-tenant.app.dev83.lab.iguazeng.com/projects/submit-proj/jobs/5c43be949e29421c95939fe2e4e011cb/info\" target=\"_blank\" >...e4e011cb</a></div></td>\n",
       "      <td>0</td>\n",
       "      <td>Jun 17 10:02:41</td>\n",
       "      <td>completed</td>\n",
       "      <td>spark-submit</td>\n",
       "      <td><div class=\"dictlist\">host=spark-submit-rps2k</div><div class=\"dictlist\">kind=job</div><div class=\"dictlist\">owner=iguazio</div><div class=\"dictlist\">v3io_user=iguazio</div></td>\n",
       "      <td></td>\n",
       "      <td><div class=\"dictlist\">class_param=org.apache.spark.examples.SparkPi</div><div class=\"dictlist\">spark_options=/spark/examples/jars/spark-examples_2.11-2.4.4.jar 10</div><div class=\"dictlist\">v3io_access_key=96ce94f5-8680-4a27-bd0b-9025626d7d2f</div></td>\n",
       "      <td></td>\n",
       "      <td></td>\n",
       "    </tr>\n",
       "  </tbody>\n",
       "</table>\n",
       "</div></div>\n",
       "  <div id=\"result25ad26f8-pane\" class=\"right-pane block hidden\">\n",
       "    <div class=\"pane-header\">\n",
       "      <span id=\"result25ad26f8-title\" class=\"pane-header-title\">Title</span>\n",
       "      <span onclick=\"closePanel(this)\" paneName=\"result25ad26f8\" class=\"close clickable\">&times;</span>\n",
       "    </div>\n",
       "    <iframe class=\"fileview\" id=\"result25ad26f8-body\"></iframe>\n",
       "  </div>\n",
       "</div>\n"
      ],
      "text/plain": [
       "<IPython.core.display.HTML object>"
      ]
     },
     "metadata": {},
     "output_type": "display_data"
    },
    {
     "name": "stdout",
     "output_type": "stream",
     "text": [
      "to track results use .show() or .logs() or in CLI: \n",
      "!mlrun get run 5c43be949e29421c95939fe2e4e011cb --project submit-proj , !mlrun logs 5c43be949e29421c95939fe2e4e011cb --project submit-proj\n",
      "[mlrun] 2020-06-17 10:02:49,172 run executed, status=completed\n"
     ]
    }
   ],
   "source": [
    "execute_run = fn.run(execute_task)"
   ]
  },
  {
   "cell_type": "markdown",
   "metadata": {},
   "source": [
    "### Show results"
   ]
  },
  {
   "cell_type": "code",
   "execution_count": null,
   "metadata": {},
   "outputs": [],
   "source": []
  },
  {
   "cell_type": "code",
   "execution_count": null,
   "metadata": {},
   "outputs": [],
   "source": []
  },
  {
   "cell_type": "code",
   "execution_count": null,
   "metadata": {},
   "outputs": [],
   "source": []
  }
 ],
 "metadata": {
  "kernelspec": {
   "display_name": "Python 3",
   "language": "python",
   "name": "python3"
  },
  "language_info": {
   "codemirror_mode": {
    "name": "ipython",
    "version": 3
   },
   "file_extension": ".py",
   "mimetype": "text/x-python",
   "name": "python",
   "nbconvert_exporter": "python",
   "pygments_lexer": "ipython3",
   "version": "3.6.8"
  }
 },
 "nbformat": 4,
 "nbformat_minor": 4
}
