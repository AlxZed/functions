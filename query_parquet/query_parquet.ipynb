{
 "cells": [
  {
   "cell_type": "markdown",
   "metadata": {},
   "source": [
    "# Query Parquet"
   ]
  },
  {
   "cell_type": "code",
   "execution_count": 136,
   "metadata": {},
   "outputs": [],
   "source": [
    "#!pip install mlrun\n",
    "#!pip install PyHive"
   ]
  },
  {
   "cell_type": "code",
   "execution_count": 137,
   "metadata": {},
   "outputs": [],
   "source": [
    "# nuclio: ignore\n",
    "import nuclio"
   ]
  },
  {
   "cell_type": "markdown",
   "metadata": {},
   "source": [
    "Define the MLRun environment"
   ]
  },
  {
   "cell_type": "code",
   "execution_count": 138,
   "metadata": {},
   "outputs": [
    {
     "name": "stdout",
     "output_type": "stream",
     "text": [
      "%nuclio: setting kind to 'job'\n",
      "%nuclio: setting spec.image to 'mlrun/mlrun'\n"
     ]
    }
   ],
   "source": [
    "%nuclio config kind = \"job\"\n",
    "%nuclio config spec.image = \"mlrun/mlrun\""
   ]
  },
  {
   "cell_type": "markdown",
   "metadata": {},
   "source": [
    "## Function"
   ]
  },
  {
   "cell_type": "code",
   "execution_count": 139,
   "metadata": {},
   "outputs": [],
   "source": [
    "from mlrun import get_or_create_ctx\n",
    "import numpy as np\n",
    "import pandas as pd\n",
    "import pyarrow as pa\n",
    "from pyarrow.parquet import read_schema\n",
    "from pyhive import presto  # or import hive\n",
    "import os\n"
   ]
  },
  {
   "cell_type": "code",
   "execution_count": 140,
   "metadata": {},
   "outputs": [],
   "source": [
    "class PrestoClient(object):\n",
    "    def __init__(self, logger, presto_uri, user_name, access_key):\n",
    "        self.logger = logger\n",
    "        self.presto_uri = presto_uri\n",
    "        self.user_name = user_name\n",
    "        self.access_key = access_key\n",
    "        self.cursor = None\n",
    "\n",
    "    def connect(self):\n",
    "        req_kw = {'auth': (self.user_name, self.access_key), 'verify': False}\n",
    "        self.cursor = presto.connect(self.presto_uri, port=443, username=self.user_name,\n",
    "                                     protocol='https', requests_kwargs=req_kw).cursor()\n",
    "        self.logger.info(\"connected to presto\")\n",
    "\n",
    "    def disconnect(self):\n",
    "        self.cursor.close()\n",
    "\n",
    "    def execute_command(self, command):\n",
    "        self.logger.info(\"executing command {}\".format(command))\n",
    "        self.cursor.execute(command)\n",
    "        response = self.cursor.fetchone()\n",
    "        self.logger.info(\"cursor response {}\".format(response))\n",
    "\n",
    "\n",
    "class ParquetFile(object):\n",
    "    def __init__(self, logger, file_path):\n",
    "        self.logger = logger\n",
    "        self.path = file_path\n",
    "        self.schema = None\n",
    "        self.set_schema(file_path)\n",
    "\n",
    "    def set_schema(self, file_path):\n",
    "        schema = read_schema(file_path)\n",
    "        self.schema = schema\n",
    "\n",
    "    def schema_to_tuple(self):\n",
    "        schema_names = self.schema.names\n",
    "        schema_types = self.schema.types\n",
    "        schema_tuple = tuple(zip(schema_names, schema_types))\n",
    "        return schema_tuple\n",
    "\n",
    "class HiveTable(object):     \n",
    "    def __init__(self, logger,user_name, name='hive_table', db_schema='default', location=os.getcwd()):\n",
    "        self.logger = logger\n",
    "        self.name = name\n",
    "        self.db_schema = db_schema\n",
    "        self.location = self.set_location(location, user_name)\n",
    "        self.schema = None\n",
    "\n",
    "    def set_location(self, location, user_name):\n",
    "        dir_path = location + \"/\" + self.name + \"/\"        \n",
    "        if not os.path.isdir(dir_path):\n",
    "            os.mkdir(dir_path)\n",
    "        dir_path = dir_path.replace('/User/', 'v3io://users/'+user_name+'/')    \n",
    "        return dir_path\n",
    "\n",
    "    def generate_create_table_script_from_parquet(self, pqt: ParquetFile):\n",
    "        self.set_schema_from_parquet(pqt.schema_to_tuple())\n",
    "        command = \"CREATE TABLE \" + \"hive.\" \\\n",
    "                  + self.db_schema \\\n",
    "                  + \".\" + self.name \\\n",
    "                  + self.schema \\\n",
    "                  + \" WITH (format = 'PARQUET' , \" \\\n",
    "                  + \" external_location = '\" + self.location \\\n",
    "                  + \"')\"\n",
    "        \n",
    "        return command    \n",
    "    \n",
    "    def set_schema_from_parquet(self, parquet_schema):\n",
    "        fields = \"(\"\n",
    "        for field, value in parquet_schema:\n",
    "            fields += field + ' ' + str(value) + ','\n",
    "        fields = fields[:-1]\n",
    "        fields += \")\"\n",
    "        fields = fields.replace('string', 'VARCHAR')\n",
    "        fields = fields.replace('bool', 'BOOLEAN')\n",
    "        self.schema = fields    \n",
    "\n",
    "\n",
    "def query_parquet(context, file_path, v3io_access_key, user_name, presto_uri, hive_table_name='hive_table_name'):\n",
    "    \"\"\"query_parquet function\n",
    "    \n",
    "    query parquet file via oresto over hive metastore    \n",
    "    \n",
    "    :param file_path:  parquet file path\n",
    "    \n",
    "    :param hive_table_name: the name of the hive table that will be created in hive metastore\n",
    "    \"\"\"\n",
    "    pqt = ParquetFile(context.logger, file_path)\n",
    "    \n",
    "    hive = HiveTable(context.logger,user_name, hive_table_name)\n",
    "    \n",
    "    create_table = hive.generate_create_table_script_from_parquet(pqt)\n",
    "    \n",
    "    cli = PrestoClient(context.logger, presto_uri, user_name,\n",
    "                       v3io_access_key)\n",
    "    cli.connect()\n",
    "\n",
    "    cli.execute_command(create_table)\n",
    "    \n",
    "    cli.disconnect()\n",
    "    \n",
    "    "
   ]
  },
  {
   "cell_type": "code",
   "execution_count": 141,
   "metadata": {},
   "outputs": [],
   "source": [
    "# nuclio: end-code"
   ]
  },
  {
   "cell_type": "markdown",
   "metadata": {},
   "source": [
    "## Test\n",
    "> This test uses the metrics data, created by the [Generator function](https://github.com/mlrun/demo-network-operations/blob/master/notebooks/generator.ipynb) from MLRun's [Network Operations Demo](https://github.com/mlrun/demo-network-operations)  \n",
    "To test it yourself, please generate this dataset or use any of your available csv/parquet datasets."
   ]
  },
  {
   "cell_type": "code",
   "execution_count": 142,
   "metadata": {},
   "outputs": [],
   "source": [
    "import os\n",
    "from mlrun import code_to_function, mount_v3io, NewTask, mlconf, run_local\n",
    "mlconf.dbpath = mlconf.dbpath or 'http://mlrun-api:8080'\n",
    "mlconf.artifact_path = mlconf.artifact_path or f'{os.environ[\"HOME\"]}/artifacts'"
   ]
  },
  {
   "cell_type": "code",
   "execution_count": null,
   "metadata": {},
   "outputs": [],
   "source": []
  },
  {
   "cell_type": "markdown",
   "metadata": {},
   "source": [
    "### Define the execute test task"
   ]
  },
  {
   "cell_type": "code",
   "execution_count": 143,
   "metadata": {},
   "outputs": [],
   "source": [
    "execute_task = NewTask(name='query-parquet',\n",
    "                         project='proj',\n",
    "                         params={'file_path':'example.parquet','v3io_access_key':'5860ab7b-160b-4e83-b9b3-61a8c0f3082e','user_name':'admin','presto_uri':'presto-api-presto.default-tenant.app.app-lab-development.iguazio-cd0.com'},                          \n",
    "                         handler=query_parquet)"
   ]
  },
  {
   "cell_type": "code",
   "execution_count": 145,
   "metadata": {},
   "outputs": [
    {
     "name": "stdout",
     "output_type": "stream",
     "text": [
      "[mlrun] 2020-07-01 12:57:32,259 starting run query-parquet uid=e2e0447eb69f4dbb864f2e2bb46f60d9  -> http://mlrun-api:8080\n",
      "[mlrun] 2020-07-01 12:57:32,325 connected to presto\n",
      "[mlrun] 2020-07-01 12:57:32,325 executing command CREATE TABLE hive.default.hive_table_name(one double,two VARCHAR,three BOOLEAN,__index_level_0__ VARCHAR) WITH (format = 'PARQUET' ,  external_location = 'v3io://users/admin/repos/functions/query_parquet/hive_table_name/')\n",
      "[mlrun] 2020-07-01 12:57:34,387 cursor response (True,)\n",
      "\n"
     ]
    },
    {
     "data": {
      "text/html": [
       "<style> \n",
       ".dictlist {\n",
       "  background-color: #b3edff; \n",
       "  text-align: center; \n",
       "  margin: 4px; \n",
       "  border-radius: 3px; padding: 0px 3px 1px 3px; display: inline-block;}\n",
       ".artifact {\n",
       "  cursor: pointer; \n",
       "  background-color: #ffe6cc; \n",
       "  text-align: left; \n",
       "  margin: 4px; border-radius: 3px; padding: 0px 3px 1px 3px; display: inline-block;\n",
       "}\n",
       "div.block.hidden {\n",
       "  display: none;\n",
       "}\n",
       ".clickable {\n",
       "  cursor: pointer;\n",
       "}\n",
       ".ellipsis {\n",
       "  display: inline-block;\n",
       "  max-width: 60px;\n",
       "  white-space: nowrap;\n",
       "  overflow: hidden;\n",
       "  text-overflow: ellipsis;\n",
       "}\n",
       ".master-wrapper {\n",
       "  display: flex;\n",
       "  flex-flow: row nowrap;\n",
       "  justify-content: flex-start;\n",
       "  align-items: stretch;\n",
       "}\n",
       ".master-tbl {\n",
       "  flex: 3\n",
       "}\n",
       ".master-wrapper > div {\n",
       "  margin: 4px;\n",
       "  padding: 10px;\n",
       "}\n",
       "iframe.fileview {\n",
       "  border: 0 none;\n",
       "  height: 100%;\n",
       "  width: 100%;\n",
       "  white-space: pre-wrap;\n",
       "}\n",
       ".pane-header-title {\n",
       "  width: 80%;\n",
       "  font-weight: 500;\n",
       "}\n",
       ".pane-header {\n",
       "  line-height: 1;\n",
       "  background-color: #ffe6cc;\n",
       "  padding: 3px;\n",
       "}\n",
       ".pane-header .close {\n",
       "  font-size: 20px;\n",
       "  font-weight: 700;\n",
       "  float: right;\n",
       "  margin-top: -5px;\n",
       "}\n",
       ".master-wrapper .right-pane {\n",
       "  border: 1px inset silver;\n",
       "  width: 40%;\n",
       "  min-height: 300px;\n",
       "  flex: 3\n",
       "  min-width: 500px;\n",
       "}\n",
       ".master-wrapper * {\n",
       "  box-sizing: border-box;\n",
       "}\n",
       "</style><script>\n",
       "function copyToClipboard(fld) {\n",
       "    if (document.queryCommandSupported && document.queryCommandSupported('copy')) {\n",
       "        var textarea = document.createElement('textarea');\n",
       "        textarea.textContent = fld.innerHTML;\n",
       "        textarea.style.position = 'fixed';\n",
       "        document.body.appendChild(textarea);\n",
       "        textarea.select();\n",
       "\n",
       "        try {\n",
       "            return document.execCommand('copy'); // Security exception may be thrown by some browsers.\n",
       "        } catch (ex) {\n",
       "\n",
       "        } finally {\n",
       "            document.body.removeChild(textarea);\n",
       "        }\n",
       "    }\n",
       "}\n",
       "function expandPanel(el) {\n",
       "  const panelName = \"#\" + el.getAttribute('paneName');\n",
       "  console.log(el.title);\n",
       "\n",
       "  document.querySelector(panelName + \"-title\").innerHTML = el.title\n",
       "  iframe = document.querySelector(panelName + \"-body\");\n",
       "  \n",
       "  const tblcss = `<style> body { font-family: Arial, Helvetica, sans-serif;}\n",
       "    #csv { margin-bottom: 15px; }\n",
       "    #csv table { border-collapse: collapse;}\n",
       "    #csv table td { padding: 4px 8px; border: 1px solid silver;} </style>`;\n",
       "\n",
       "  function csvToHtmlTable(str) {\n",
       "    return '<div id=\"csv\"><table><tr><td>' +  str.replace(/[\\n\\r]+$/g, '').replace(/[\\n\\r]+/g, '</td></tr><tr><td>')\n",
       "      .replace(/,/g, '</td><td>') + '</td></tr></table></div>';\n",
       "  }\n",
       "  \n",
       "  function reqListener () {\n",
       "    if (el.title.endsWith(\".csv\")) {\n",
       "      iframe.setAttribute(\"srcdoc\", tblcss + csvToHtmlTable(this.responseText));\n",
       "    } else {\n",
       "      iframe.setAttribute(\"srcdoc\", this.responseText);\n",
       "    }  \n",
       "    console.log(this.responseText);\n",
       "  }\n",
       "\n",
       "  const oReq = new XMLHttpRequest();\n",
       "  oReq.addEventListener(\"load\", reqListener);\n",
       "  oReq.open(\"GET\", el.title);\n",
       "  oReq.send();\n",
       "  \n",
       "  \n",
       "  //iframe.src = el.title;\n",
       "  const resultPane = document.querySelector(panelName + \"-pane\");\n",
       "  if (resultPane.classList.contains(\"hidden\")) {\n",
       "    resultPane.classList.remove(\"hidden\");\n",
       "  }\n",
       "}\n",
       "function closePanel(el) {\n",
       "  const panelName = \"#\" + el.getAttribute('paneName')\n",
       "  const resultPane = document.querySelector(panelName + \"-pane\");\n",
       "  if (!resultPane.classList.contains(\"hidden\")) {\n",
       "    resultPane.classList.add(\"hidden\");\n",
       "  }\n",
       "}\n",
       "\n",
       "</script>\n",
       "<div class=\"master-wrapper\">\n",
       "  <div class=\"block master-tbl\"><div>\n",
       "<style scoped>\n",
       "    .dataframe tbody tr th:only-of-type {\n",
       "        vertical-align: middle;\n",
       "    }\n",
       "\n",
       "    .dataframe tbody tr th {\n",
       "        vertical-align: top;\n",
       "    }\n",
       "\n",
       "    .dataframe thead th {\n",
       "        text-align: right;\n",
       "    }\n",
       "</style>\n",
       "<table border=\"1\" class=\"dataframe\">\n",
       "  <thead>\n",
       "    <tr style=\"text-align: right;\">\n",
       "      <th>project</th>\n",
       "      <th>uid</th>\n",
       "      <th>iter</th>\n",
       "      <th>start</th>\n",
       "      <th>state</th>\n",
       "      <th>name</th>\n",
       "      <th>labels</th>\n",
       "      <th>inputs</th>\n",
       "      <th>parameters</th>\n",
       "      <th>results</th>\n",
       "      <th>artifacts</th>\n",
       "    </tr>\n",
       "  </thead>\n",
       "  <tbody>\n",
       "    <tr>\n",
       "      <td>proj</td>\n",
       "      <td><div title=\"e2e0447eb69f4dbb864f2e2bb46f60d9\"><a href=\"https://mlrun-ui.default-tenant.app.app-lab-development.iguazio-cd0.com/projects/proj/jobs/e2e0447eb69f4dbb864f2e2bb46f60d9/info\" target=\"_blank\" >...b46f60d9</a></div></td>\n",
       "      <td>0</td>\n",
       "      <td>Jul 01 12:57:32</td>\n",
       "      <td>completed</td>\n",
       "      <td>query-parquet</td>\n",
       "      <td><div class=\"dictlist\">v3io_user=admin</div><div class=\"dictlist\">kind=handler</div><div class=\"dictlist\">owner=admin</div><div class=\"dictlist\">host=jupyter-66bcbdc885-7jtn6</div></td>\n",
       "      <td></td>\n",
       "      <td><div class=\"dictlist\">file_path=example.parquet</div><div class=\"dictlist\">v3io_access_key=5860ab7b-160b-4e83-b9b3-61a8c0f3082e</div><div class=\"dictlist\">user_name=admin</div><div class=\"dictlist\">presto_uri=presto-api-presto.default-tenant.app.app-lab-development.iguazio-cd0.com</div></td>\n",
       "      <td></td>\n",
       "      <td></td>\n",
       "    </tr>\n",
       "  </tbody>\n",
       "</table>\n",
       "</div></div>\n",
       "  <div id=\"resultcf8ada51-pane\" class=\"right-pane block hidden\">\n",
       "    <div class=\"pane-header\">\n",
       "      <span id=\"resultcf8ada51-title\" class=\"pane-header-title\">Title</span>\n",
       "      <span onclick=\"closePanel(this)\" paneName=\"resultcf8ada51\" class=\"close clickable\">&times;</span>\n",
       "    </div>\n",
       "    <iframe class=\"fileview\" id=\"resultcf8ada51-body\"></iframe>\n",
       "  </div>\n",
       "</div>\n"
      ],
      "text/plain": [
       "<IPython.core.display.HTML object>"
      ]
     },
     "metadata": {},
     "output_type": "display_data"
    },
    {
     "name": "stdout",
     "output_type": "stream",
     "text": [
      "to track results use .show() or .logs() or in CLI: \n",
      "!mlrun get run e2e0447eb69f4dbb864f2e2bb46f60d9 --project proj , !mlrun logs e2e0447eb69f4dbb864f2e2bb46f60d9 --project proj\n",
      "[mlrun] 2020-07-01 12:57:34,436 run executed, status=completed\n"
     ]
    }
   ],
   "source": [
    "submit_run = run_local(execute_task)"
   ]
  },
  {
   "cell_type": "markdown",
   "metadata": {},
   "source": [
    "### Test on cluster"
   ]
  },
  {
   "cell_type": "markdown",
   "metadata": {},
   "source": [
    "Convert the code to an MLRun function"
   ]
  },
  {
   "cell_type": "code",
   "execution_count": null,
   "metadata": {},
   "outputs": [],
   "source": [
    "fn = code_to_function('query_func', handler='query_parquet')\n",
    "#fn.spec.service_account='mlrun-api'\n",
    "fn.apply(mount_v3io())\n",
    "fn.export('function.yaml')"
   ]
  },
  {
   "cell_type": "code",
   "execution_count": null,
   "metadata": {},
   "outputs": [],
   "source": [
    "execute_run = fn.run(execute_task)"
   ]
  },
  {
   "cell_type": "markdown",
   "metadata": {},
   "source": [
    "### Show results"
   ]
  },
  {
   "cell_type": "code",
   "execution_count": null,
   "metadata": {},
   "outputs": [],
   "source": []
  },
  {
   "cell_type": "code",
   "execution_count": null,
   "metadata": {},
   "outputs": [],
   "source": []
  },
  {
   "cell_type": "code",
   "execution_count": null,
   "metadata": {},
   "outputs": [],
   "source": []
  }
 ],
 "metadata": {
  "kernelspec": {
   "display_name": "Python 3",
   "language": "python",
   "name": "python3"
  },
  "language_info": {
   "codemirror_mode": {
    "name": "ipython",
    "version": 3
   },
   "file_extension": ".py",
   "mimetype": "text/x-python",
   "name": "python",
   "nbconvert_exporter": "python",
   "pygments_lexer": "ipython3",
   "version": "3.7.6"
  }
 },
 "nbformat": 4,
 "nbformat_minor": 4
}
