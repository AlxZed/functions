{
 "cells": [
  {
   "cell_type": "markdown",
   "metadata": {},
   "source": [
    "## BERT Based Sentiment Analysis Model Server\n",
    "The model used here, was trained with the concept of transfer learning  i.e. taking huggingface transformers pretrained BERT model and further training it on a custom dataset of reviews. this yields a sentiment analysis model based on the prior knowledge of BERT. \n",
    "The model server is given a list of texts and outputs a list of labels corresponding to its prediction.\n",
    "The labels express the sentiment of the writer towards the topic of the text:\n",
    "0 for negative sentiment, 1 for neutral and 2 for positive.\n",
    "\n",
    "The model file (~430 MB), can be downloaded to your local environment from: https://iguazio-sample-data.s3.amazonaws.com/models/model.pt"
   ]
  },
  {
   "cell_type": "code",
   "execution_count": 1,
   "metadata": {},
   "outputs": [],
   "source": [
    "# nuclio: ignore\n",
    "import nuclio"
   ]
  },
  {
   "cell_type": "code",
   "execution_count": 2,
   "metadata": {},
   "outputs": [],
   "source": [
    "import torch\n",
    "import torch.nn as nn\n",
    "from transformers import BertModel, BertTokenizer\n",
    "from cloudpickle import dumps\n",
    "import mlrun"
   ]
  },
  {
   "cell_type": "markdown",
   "metadata": {},
   "source": [
    "### function code \n",
    "below is the model architecture, implemented with pytorch whose main component is bert."
   ]
  },
  {
   "cell_type": "code",
   "execution_count": 3,
   "metadata": {},
   "outputs": [],
   "source": [
    "PRETRAINED_MODEL = 'bert-base-cased'\n",
    "tokenizer = BertTokenizer.from_pretrained('bert-base-cased')\n",
    "\n",
    "class BertSentimentClassifier(nn.Module):\n",
    "    def __init__(self, n_classes):\n",
    "        super(BertSentimentClassifier, self).__init__()\n",
    "        self.bert = BertModel.from_pretrained(PRETRAINED_MODEL)\n",
    "        self.dropout = nn.Dropout(p=0.2)\n",
    "        self.out_linear = nn.Linear(self.bert.config.hidden_size, n_classes)\n",
    "        self.softmax = nn.Softmax(dim=1)\n",
    "\n",
    "    def forward(self, input_ids, attention_mask):\n",
    "        _, pooled_out = self.bert(\n",
    "            input_ids=input_ids,\n",
    "            attention_mask=attention_mask\n",
    "        )\n",
    "        out = self.dropout(pooled_out)\n",
    "        out = self.out_linear(out)\n",
    "        return self.softmax(out)"
   ]
  },
  {
   "cell_type": "markdown",
   "metadata": {},
   "source": [
    "#### serving interface\n",
    "The load function essentialy instantiates our custom model with the architecture defined above."
   ]
  },
  {
   "cell_type": "code",
   "execution_count": 4,
   "metadata": {},
   "outputs": [],
   "source": [
    "\n",
    "class SentimentClassifierServing(mlrun.serving.V2ModelServer):\n",
    "    def load(self):\n",
    "        model_file, _ = self.get_model('.pt')\n",
    "        device = torch.device('cuda:0') if torch.cuda.is_available() else torch.device('cpu')\n",
    "        model = BertSentimentClassifier(n_classes=3)\n",
    "        model.load_state_dict(torch.load(model_file, map_location=device))\n",
    "        model.eval()\n",
    "        self.model = model\n",
    "    def predict(self, body):\n",
    "        try:\n",
    "            instances = body['inputs']\n",
    "            enc = tokenizer.batch_encode_plus(instances, return_tensors='pt', pad_to_max_length=True)\n",
    "            outputs = self.model(input_ids=enc['input_ids'], attention_mask=enc['attention_mask'])\n",
    "            _, preds = torch.max(outputs, dim=1)\n",
    "            return preds.cpu().tolist()\n",
    "        except Exception as e:\n",
    "            raise Exception(\"Failed to predict %s\" % e)"
   ]
  },
  {
   "cell_type": "code",
   "execution_count": 5,
   "metadata": {},
   "outputs": [],
   "source": [
    "# nuclio: end-code"
   ]
  },
  {
   "cell_type": "markdown",
   "metadata": {},
   "source": [
    "### mlconfig"
   ]
  },
  {
   "cell_type": "code",
   "execution_count": 6,
   "metadata": {},
   "outputs": [],
   "source": [
    "from mlrun import mlconf\n",
    "import os\n",
    "\n",
    "mlconf.dbpath = mlconf.dbpath or 'http://mlrun-api:8080'\n",
    "mlconf.artifact_path = mlconf.artifact_path or f'{os.environ[\"HOME\"]}/artifacts'"
   ]
  },
  {
   "cell_type": "markdown",
   "metadata": {},
   "source": [
    "### test locally\n",
    "You may change model_dir to point at the path where model.pt file is saved"
   ]
  },
  {
   "cell_type": "code",
   "execution_count": 7,
   "metadata": {},
   "outputs": [
    {
     "name": "stdout",
     "output_type": "stream",
     "text": [
      "File ‘/User/myfunctions/functions/sentiment_analysis_serving/models/model.pt’ already there; not retrieving.\n",
      "\n"
     ]
    }
   ],
   "source": [
    "# Run this to download the pre-trained model to your `models` directory\n",
    "import os\n",
    "model_location = 'https://iguazio-sample-data.s3.amazonaws.com/models/model.pt'\n",
    "saved_models_directory = os.path.join(os.path.abspath('./'), 'models')\n",
    "\n",
    "# Create paths\n",
    "os.makedirs(saved_models_directory, exist_ok=1)\n",
    "model_filepath = os.path.join(saved_models_directory, os.path.basename(model_location))\n",
    "!wget -nc -P {saved_models_directory} {model_location} "
   ]
  },
  {
   "cell_type": "code",
   "execution_count": 8,
   "metadata": {},
   "outputs": [
    {
     "name": "stdout",
     "output_type": "stream",
     "text": [
      "> 2021-03-15 14:38:21,799 [info] model model1 was loaded\n",
      "> 2021-03-15 14:38:21,800 [info] Loaded ['model1']\n"
     ]
    }
   ],
   "source": [
    "import mlrun\n",
    "models_path = model_filepath\n",
    "fn = mlrun.code_to_function('my_server', kind='serving')\n",
    "# set the topology/router and add models\n",
    "graph = fn.set_topology(\"router\")\n",
    "fn.add_model(\"model1\", class_name='SentimentClassifierServing', model_path=models_path)\n",
    "# create and use the graph simulator\n",
    "server = fn.to_mock_server()"
   ]
  },
  {
   "cell_type": "markdown",
   "metadata": {},
   "source": [
    "#### test 1\n",
    "Here we test a pretty straightforward example for positive sentiment."
   ]
  },
  {
   "cell_type": "code",
   "execution_count": 9,
   "metadata": {},
   "outputs": [
    {
     "name": "stdout",
     "output_type": "stream",
     "text": [
      "[2]\n"
     ]
    }
   ],
   "source": [
    "output = server.test(\"/v2/models/model1/infer\", {\"inputs\":['I had a pleasure to work with such dedicated team. Looking forward to \\\n",
    "             cooperate with each and every one of them again.']})\n",
    "\n",
    "assert output['outputs'] == [2]\n",
    "print(output['outputs'])"
   ]
  },
  {
   "cell_type": "markdown",
   "metadata": {},
   "source": [
    "#### test 2\n",
    "Now we will test a couple more examples. These are arguably harder due to misleading words that express, on their own, an opposite sentiment comparing to the full text. "
   ]
  },
  {
   "cell_type": "code",
   "execution_count": 10,
   "metadata": {},
   "outputs": [
    {
     "name": "stdout",
     "output_type": "stream",
     "text": [
      "[0, 2]\n"
     ]
    }
   ],
   "source": [
    "output2 = server.test(\"/v2/models/model1/infer\",{\"inputs\":['This app is amazingly useless.',\n",
    "                     'As much as I hate to admit it, the new added feature is surprisingly user friendly.']})\n",
    "\n",
    "print(output2['outputs'])\n",
    "assert output['outputs'] == [2]\n",
    "assert output2['outputs'] == [0,2]"
   ]
  },
  {
   "cell_type": "markdown",
   "metadata": {},
   "source": [
    "### remote activation\n",
    "Create a function object with custom specification."
   ]
  },
  {
   "cell_type": "code",
   "execution_count": 11,
   "metadata": {},
   "outputs": [],
   "source": [
    "from mlrun import new_model_server, mount_v3io\n",
    "import requests"
   ]
  },
  {
   "cell_type": "code",
   "execution_count": 12,
   "metadata": {},
   "outputs": [
    {
     "name": "stdout",
     "output_type": "stream",
     "text": [
      "> 2021-03-15 14:38:25,696 [info] function spec saved to path: function.yaml\n"
     ]
    },
    {
     "data": {
      "text/plain": [
       "<mlrun.runtimes.serving.ServingRuntime at 0x7f89fb91ff90>"
      ]
     },
     "execution_count": 12,
     "metadata": {},
     "output_type": "execute_result"
    }
   ],
   "source": [
    "from mlrun import code_to_function, mount_v3io\n",
    "fn = code_to_function('sentiment-analysis-serving', kind='serving')\n",
    "fn.spec.default_class = 'SentimentClassifierServing'\n",
    "fn.apply(mount_v3io())\n",
    "fn.spec.build.commands = ['pip install transformers==3.0.2']\n",
    "fn.export(\"function.yaml\")"
   ]
  },
  {
   "cell_type": "code",
   "execution_count": 13,
   "metadata": {},
   "outputs": [
    {
     "name": "stdout",
     "output_type": "stream",
     "text": [
      "> 2021-03-15 14:38:25,710 [info] Starting remote function deploy\n",
      "2021-03-15 14:38:26  (info) Deploying function\n",
      "2021-03-15 14:38:26  (info) Building\n",
      "2021-03-15 14:38:26  (info) Staging files and preparing base images\n",
      "2021-03-15 14:38:26  (info) Building processor image\n",
      "2021-03-15 14:38:27  (info) Build complete\n",
      "2021-03-15 14:38:51  (info) Function deploy complete\n",
      "> 2021-03-15 14:38:52,401 [info] function deployed, address=default-tenant.app.dev8.lab.iguazeng.com:31516\n"
     ]
    }
   ],
   "source": [
    "fn.spec.base_spec['spec']['build']['baseImage']='mlrun/ml-models'\n",
    "fn.add_model(\"model1\", class_name='SentimentClassifierServing', model_path=models_path)\n",
    "addr = fn.deploy(project='nlp-servers')\n"
   ]
  },
  {
   "cell_type": "markdown",
   "metadata": {},
   "source": [
    "#### remote test\n",
    "We will send a sentence to the model server via HTTP request. Note that the url below uses model server notation that directs our event to the predict function."
   ]
  },
  {
   "cell_type": "code",
   "execution_count": 14,
   "metadata": {},
   "outputs": [],
   "source": [
    "import json\n",
    "\n",
    "event_data = {'inputs': ['I had a somewhat ok experience buying at that store.']}\n",
    "\n",
    "resp = requests.put(addr + '/v2/models/model1/infer', json=json.dumps(event_data))"
   ]
  },
  {
   "cell_type": "code",
   "execution_count": 15,
   "metadata": {},
   "outputs": [
    {
     "name": "stdout",
     "output_type": "stream",
     "text": [
      "{\"id\": \"fe026dda-2b2a-4444-ab2c-31046f977603\", \"model_name\": \"model1\", \"outputs\": [1]}\n"
     ]
    }
   ],
   "source": [
    "print(resp.text)"
   ]
  },
  {
   "cell_type": "markdown",
   "metadata": {},
   "source": [
    "The model server classified the sentence as neutral. "
   ]
  }
 ],
 "metadata": {
  "kernelspec": {
   "display_name": "Python 3",
   "language": "python",
   "name": "python3"
  },
  "language_info": {
   "codemirror_mode": {
    "name": "ipython",
    "version": 3
   },
   "file_extension": ".py",
   "mimetype": "text/x-python",
   "name": "python",
   "nbconvert_exporter": "python",
   "pygments_lexer": "ipython3",
   "version": "3.7.6"
  }
 },
 "nbformat": 4,
 "nbformat_minor": 4
}
