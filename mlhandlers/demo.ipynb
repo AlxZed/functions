{
 "cells": [
  {
   "cell_type": "markdown",
   "metadata": {},
   "source": [
    "# MLhandlers Tutorial"
   ]
  },
  {
   "cell_type": "markdown",
   "metadata": {},
   "source": [
    "This notebook function handles training and logging of xgboost models **only**, exposing both the sklearn and low level api\"s.<br>\n",
    "More information about XGBoost - [here](https://en.wikipedia.org/wiki/XGBoost)"
   ]
  },
  {
   "cell_type": "markdown",
   "metadata": {},
   "source": [
    "Multiple model types that can be estimated using the XGBoost Scikit-Learn API. <br>\n",
    "Input can either be a predefined json model configuration or one\n",
    "of the five xgboost model types. <br>\n",
    "In either case one can pass in a params dict to modify defaults values.<br>\n",
    "Based on `mlutils.models.gen_sklearn_model`, see the function\n",
    "`sklearn_classifier` in the function-marketplace repository. <br>\n",
    "> **param model_type:**\n",
    "  one of \"classifier\", \"regressor\",\n",
    "  \"ranker\", \"rf_classifier\", or\n",
    "  \"rf_regressor\"<br>\n",
    "> **param xgb_params:** class init parameters"
   ]
  },
  {
   "cell_type": "markdown",
   "metadata": {},
   "source": [
    "## Steps\n",
    "1. [Data Exploration](#Data-Exploration)\n",
    "2. [Importing the function](#Importing-the-function)\n",
    "3. [Setup XGBoost parameters](#Setup-XGBoost-parameters)\n",
    "4. [Running the function locally](#Running-the-function-locally)\n",
    "5. [Getting the model](#Getting-the-model)\n",
    "6. [Some plotting](#Some-plotting)\n",
    "7. [Running the function remotely](#Running-the-function-remotely)"
   ]
  },
  {
   "cell_type": "code",
   "execution_count": 4,
   "metadata": {},
   "outputs": [
    {
     "name": "stdout",
     "output_type": "stream",
     "text": [
      "> 2022-01-31 12:49:28,675 [info] loaded project ml-handlers from MLRun DB\n"
     ]
    },
    {
     "data": {
      "text/plain": [
       "('ml-handlers', 'v3io:///projects/{{run.project}}/artifacts')"
      ]
     },
     "execution_count": 4,
     "metadata": {},
     "output_type": "execute_result"
    }
   ],
   "source": [
    "import mlrun\n",
    "mlrun.set_environment(project='ml-handlers')"
   ]
  },
  {
   "cell_type": "markdown",
   "metadata": {},
   "source": [
    "### **Fetching a Dataset**"
   ]
  },
  {
   "cell_type": "markdown",
   "metadata": {},
   "source": [
    "To generate the dataset we used the \"gen_class_data\" function from the hub, \n",
    "which wraps scikit-learn's [make_classification](https://scikit-learn.org/stable/modules/generated/sklearn.datasets.make_classification.html#sklearn-datasets-make-classification).<br> \n",
    "See the link for a description of all parameters."
   ]
  },
  {
   "cell_type": "code",
   "execution_count": 5,
   "metadata": {},
   "outputs": [],
   "source": [
    "import pandas as pd\n",
    "dataset_url = 'https://s3.wasabisys.com/iguazio/data/function-marketplace-data/xgb_trainer/classifier-data.csv'"
   ]
  },
  {
   "cell_type": "code",
   "execution_count": 6,
   "metadata": {},
   "outputs": [
    {
     "data": {
      "text/html": [
       "<div>\n",
       "<style scoped>\n",
       "    .dataframe tbody tr th:only-of-type {\n",
       "        vertical-align: middle;\n",
       "    }\n",
       "\n",
       "    .dataframe tbody tr th {\n",
       "        vertical-align: top;\n",
       "    }\n",
       "\n",
       "    .dataframe thead th {\n",
       "        text-align: right;\n",
       "    }\n",
       "</style>\n",
       "<table border=\"1\" class=\"dataframe\">\n",
       "  <thead>\n",
       "    <tr style=\"text-align: right;\">\n",
       "      <th></th>\n",
       "      <th>feat_0</th>\n",
       "      <th>feat_1</th>\n",
       "      <th>feat_2</th>\n",
       "      <th>feat_3</th>\n",
       "      <th>feat_4</th>\n",
       "      <th>labels</th>\n",
       "    </tr>\n",
       "  </thead>\n",
       "  <tbody>\n",
       "    <tr>\n",
       "      <th>0</th>\n",
       "      <td>-0.265115</td>\n",
       "      <td>-1.932260</td>\n",
       "      <td>0.303992</td>\n",
       "      <td>-1.863833</td>\n",
       "      <td>-1.045635</td>\n",
       "      <td>1</td>\n",
       "    </tr>\n",
       "    <tr>\n",
       "      <th>1</th>\n",
       "      <td>-3.135479</td>\n",
       "      <td>-2.835548</td>\n",
       "      <td>1.338381</td>\n",
       "      <td>-1.385303</td>\n",
       "      <td>-2.276456</td>\n",
       "      <td>0</td>\n",
       "    </tr>\n",
       "    <tr>\n",
       "      <th>2</th>\n",
       "      <td>-1.519005</td>\n",
       "      <td>-1.807549</td>\n",
       "      <td>0.697304</td>\n",
       "      <td>-1.118860</td>\n",
       "      <td>1.104900</td>\n",
       "      <td>0</td>\n",
       "    </tr>\n",
       "    <tr>\n",
       "      <th>3</th>\n",
       "      <td>-0.632087</td>\n",
       "      <td>-0.345659</td>\n",
       "      <td>0.244329</td>\n",
       "      <td>-0.046066</td>\n",
       "      <td>0.447280</td>\n",
       "      <td>0</td>\n",
       "    </tr>\n",
       "    <tr>\n",
       "      <th>4</th>\n",
       "      <td>-1.405883</td>\n",
       "      <td>-1.746045</td>\n",
       "      <td>0.653617</td>\n",
       "      <td>-1.110985</td>\n",
       "      <td>-1.675466</td>\n",
       "      <td>0</td>\n",
       "    </tr>\n",
       "  </tbody>\n",
       "</table>\n",
       "</div>"
      ],
      "text/plain": [
       "     feat_0    feat_1    feat_2    feat_3    feat_4  labels\n",
       "0 -0.265115 -1.932260  0.303992 -1.863833 -1.045635       1\n",
       "1 -3.135479 -2.835548  1.338381 -1.385303 -2.276456       0\n",
       "2 -1.519005 -1.807549  0.697304 -1.118860  1.104900       0\n",
       "3 -0.632087 -0.345659  0.244329 -0.046066  0.447280       0\n",
       "4 -1.405883 -1.746045  0.653617 -1.110985 -1.675466       0"
      ]
     },
     "execution_count": 6,
     "metadata": {},
     "output_type": "execute_result"
    }
   ],
   "source": [
    "df = pd.read_csv(dataset_url)\n",
    "df.head()"
   ]
  },
  {
   "cell_type": "markdown",
   "metadata": {},
   "source": [
    "### **Importing the MLhandlers functions from the Marketplace**"
   ]
  },
  {
   "cell_type": "code",
   "execution_count": 8,
   "metadata": {},
   "outputs": [],
   "source": [
    "# If GPU is available - set to True\n",
    "# GPU = False\n",
    "\n",
    "# fn = mlrun.import_function(\"hub://xgb_trainer\")\n",
    "# fn.image = \"mlrun/ml-models\" if not GPU else \"mlrun/ml-models-gpu\"\n",
    "# fn.apply(mlrun.auto_mount())"
   ]
  },
  {
   "cell_type": "code",
   "execution_count": 9,
   "metadata": {},
   "outputs": [],
   "source": [
    "import mlrun\n",
    "from mlrun import code_to_function, import_function\n",
    "\n",
    "fn = mlrun.import_function(\"./MLhandlers.yaml\")"
   ]
  },
  {
   "cell_type": "markdown",
   "metadata": {},
   "source": [
    "### **Training a model**"
   ]
  },
  {
   "cell_type": "markdown",
   "metadata": {},
   "source": [
    "#### Define task parameters¶"
   ]
  },
  {
   "cell_type": "code",
   "execution_count": 22,
   "metadata": {},
   "outputs": [],
   "source": [
    "train_params = {\n",
    "                \"label_column\": \"labels\",\n",
    "                \"model_class\": \"sklearn.linear_model.LogisticRegression\",\n",
    "                \"artifacts\": {\"confusion_matrix\": {}},\n",
    "               }"
   ]
  },
  {
   "cell_type": "markdown",
   "metadata": {},
   "source": [
    "#### Running the Training job with the \"train\" handler"
   ]
  },
  {
   "cell_type": "code",
   "execution_count": 23,
   "metadata": {
    "pycharm": {
     "name": "#%%\n"
    }
   },
   "outputs": [
    {
     "name": "stdout",
     "output_type": "stream",
     "text": [
      "> 2022-01-31 13:22:56,770 [info] starting run predict-train uid=b204c9b9717d451094d0a83026a89649 DB=http://mlrun-api:8080\n"
     ]
    },
    {
     "data": {
      "text/html": [
       "<style>\n",
       ".dictlist {\n",
       "  background-color: #4EC64B;\n",
       "  text-align: center;\n",
       "  margin: 4px;\n",
       "  border-radius: 3px; padding: 0px 3px 1px 3px; display: inline-block;}\n",
       ".artifact {\n",
       "  cursor: pointer;\n",
       "  background-color: #4EC64B;\n",
       "  text-align: left;\n",
       "  margin: 4px; border-radius: 3px; padding: 0px 3px 1px 3px; display: inline-block;\n",
       "}\n",
       "div.block.hidden {\n",
       "  display: none;\n",
       "}\n",
       ".clickable {\n",
       "  cursor: pointer;\n",
       "}\n",
       ".ellipsis {\n",
       "  display: inline-block;\n",
       "  max-width: 60px;\n",
       "  white-space: nowrap;\n",
       "  overflow: hidden;\n",
       "  text-overflow: ellipsis;\n",
       "}\n",
       ".master-wrapper {\n",
       "  display: flex;\n",
       "  flex-flow: row nowrap;\n",
       "  justify-content: flex-start;\n",
       "  align-items: stretch;\n",
       "}\n",
       ".master-tbl {\n",
       "  flex: 3\n",
       "}\n",
       ".master-wrapper > div {\n",
       "  margin: 4px;\n",
       "  padding: 10px;\n",
       "}\n",
       "iframe.fileview {\n",
       "  border: 0 none;\n",
       "  height: 100%;\n",
       "  width: 100%;\n",
       "  white-space: pre-wrap;\n",
       "}\n",
       ".pane-header-title {\n",
       "  width: 80%;\n",
       "  font-weight: 500;\n",
       "}\n",
       ".pane-header {\n",
       "  line-height: 1;\n",
       "  background-color: #4EC64B;\n",
       "  padding: 3px;\n",
       "}\n",
       ".pane-header .close {\n",
       "  font-size: 20px;\n",
       "  font-weight: 700;\n",
       "  float: right;\n",
       "  margin-top: -5px;\n",
       "}\n",
       ".master-wrapper .right-pane {\n",
       "  border: 1px inset silver;\n",
       "  width: 40%;\n",
       "  min-height: 300px;\n",
       "  flex: 3\n",
       "  min-width: 500px;\n",
       "}\n",
       ".master-wrapper * {\n",
       "  box-sizing: border-box;\n",
       "}\n",
       "</style><script>\n",
       "function copyToClipboard(fld) {\n",
       "    if (document.queryCommandSupported && document.queryCommandSupported('copy')) {\n",
       "        var textarea = document.createElement('textarea');\n",
       "        textarea.textContent = fld.innerHTML;\n",
       "        textarea.style.position = 'fixed';\n",
       "        document.body.appendChild(textarea);\n",
       "        textarea.select();\n",
       "\n",
       "        try {\n",
       "            return document.execCommand('copy'); // Security exception may be thrown by some browsers.\n",
       "        } catch (ex) {\n",
       "\n",
       "        } finally {\n",
       "            document.body.removeChild(textarea);\n",
       "        }\n",
       "    }\n",
       "}\n",
       "function expandPanel(el) {\n",
       "  const panelName = \"#\" + el.getAttribute('paneName');\n",
       "  console.log(el.title);\n",
       "\n",
       "  document.querySelector(panelName + \"-title\").innerHTML = el.title\n",
       "  iframe = document.querySelector(panelName + \"-body\");\n",
       "\n",
       "  const tblcss = `<style> body { font-family: Arial, Helvetica, sans-serif;}\n",
       "    #csv { margin-bottom: 15px; }\n",
       "    #csv table { border-collapse: collapse;}\n",
       "    #csv table td { padding: 4px 8px; border: 1px solid silver;} </style>`;\n",
       "\n",
       "  function csvToHtmlTable(str) {\n",
       "    return '<div id=\"csv\"><table><tr><td>' +  str.replace(/[\\n\\r]+$/g, '').replace(/[\\n\\r]+/g, '</td></tr><tr><td>')\n",
       "      .replace(/,/g, '</td><td>') + '</td></tr></table></div>';\n",
       "  }\n",
       "\n",
       "  function reqListener () {\n",
       "    if (el.title.endsWith(\".csv\")) {\n",
       "      iframe.setAttribute(\"srcdoc\", tblcss + csvToHtmlTable(this.responseText));\n",
       "    } else {\n",
       "      iframe.setAttribute(\"srcdoc\", this.responseText);\n",
       "    }\n",
       "    console.log(this.responseText);\n",
       "  }\n",
       "\n",
       "  const oReq = new XMLHttpRequest();\n",
       "  oReq.addEventListener(\"load\", reqListener);\n",
       "  oReq.open(\"GET\", el.title);\n",
       "  oReq.send();\n",
       "\n",
       "\n",
       "  //iframe.src = el.title;\n",
       "  const resultPane = document.querySelector(panelName + \"-pane\");\n",
       "  if (resultPane.classList.contains(\"hidden\")) {\n",
       "    resultPane.classList.remove(\"hidden\");\n",
       "  }\n",
       "}\n",
       "function closePanel(el) {\n",
       "  const panelName = \"#\" + el.getAttribute('paneName')\n",
       "  const resultPane = document.querySelector(panelName + \"-pane\");\n",
       "  if (!resultPane.classList.contains(\"hidden\")) {\n",
       "    resultPane.classList.add(\"hidden\");\n",
       "  }\n",
       "}\n",
       "\n",
       "</script>\n",
       "<div class=\"master-wrapper\">\n",
       "  <div class=\"block master-tbl\"><div>\n",
       "<style scoped>\n",
       "    .dataframe tbody tr th:only-of-type {\n",
       "        vertical-align: middle;\n",
       "    }\n",
       "\n",
       "    .dataframe tbody tr th {\n",
       "        vertical-align: top;\n",
       "    }\n",
       "\n",
       "    .dataframe thead th {\n",
       "        text-align: right;\n",
       "    }\n",
       "</style>\n",
       "<table border=\"1\" class=\"dataframe\">\n",
       "  <thead>\n",
       "    <tr style=\"text-align: right;\">\n",
       "      <th>project</th>\n",
       "      <th>uid</th>\n",
       "      <th>iter</th>\n",
       "      <th>start</th>\n",
       "      <th>state</th>\n",
       "      <th>name</th>\n",
       "      <th>labels</th>\n",
       "      <th>inputs</th>\n",
       "      <th>parameters</th>\n",
       "      <th>results</th>\n",
       "      <th>artifacts</th>\n",
       "    </tr>\n",
       "  </thead>\n",
       "  <tbody>\n",
       "    <tr>\n",
       "      <td>ml-handlers</td>\n",
       "      <td><div title=\"b204c9b9717d451094d0a83026a89649\"><a href=\"https://dashboard.default-tenant.app.yh41.iguazio-cd1.com/mlprojects/ml-handlers/jobs/monitor/b204c9b9717d451094d0a83026a89649/overview\" target=\"_blank\" >...26a89649</a></div></td>\n",
       "      <td>0</td>\n",
       "      <td>Jan 31 13:22:56</td>\n",
       "      <td>completed</td>\n",
       "      <td>predict-train</td>\n",
       "      <td><div class=\"dictlist\">v3io_user=alexz</div><div class=\"dictlist\">kind=</div><div class=\"dictlist\">owner=alexz</div><div class=\"dictlist\">host=alexz-jupyter-66555599cb-mlrnq</div></td>\n",
       "      <td><div title=\"https://s3.wasabisys.com/iguazio/data/function-marketplace-data/xgb_trainer/classifier-data.csv\">dataset</div></td>\n",
       "      <td><div class=\"dictlist\">label_column=labels</div><div class=\"dictlist\">model_class=sklearn.linear_model.LogisticRegression</div><div class=\"dictlist\">artifacts={'confusion_matrix': {}}</div></td>\n",
       "      <td><div class=\"dictlist\">accuracy_score=0.896</div><div class=\"dictlist\">f1_score=0.8924508790072389</div><div class=\"dictlist\">precision_score=0.9093782929399368</div><div class=\"dictlist\">recall_score=0.8761421319796955</div></td>\n",
       "      <td><div class=\"artifact\" onclick=\"expandPanel(this)\" paneName=\"resultcb7f271d\" title=\"files/v3io/projects/ml-handlers/artifacts/confusion_matrix.html\">confusion_matrix</div><div title=\"v3io:///projects/ml-handlers/artifacts/\">LogisticRegression</div></td>\n",
       "    </tr>\n",
       "  </tbody>\n",
       "</table>\n",
       "</div></div>\n",
       "  <div id=\"resultcb7f271d-pane\" class=\"right-pane block hidden\">\n",
       "    <div class=\"pane-header\">\n",
       "      <span id=\"resultcb7f271d-title\" class=\"pane-header-title\">Title</span>\n",
       "      <span onclick=\"closePanel(this)\" paneName=\"resultcb7f271d\" class=\"close clickable\">&times;</span>\n",
       "    </div>\n",
       "    <iframe class=\"fileview\" id=\"resultcb7f271d-body\"></iframe>\n",
       "  </div>\n",
       "</div>\n"
      ],
      "text/plain": [
       "<IPython.core.display.HTML object>"
      ]
     },
     "metadata": {},
     "output_type": "display_data"
    },
    {
     "name": "stdout",
     "output_type": "stream",
     "text": [
      "\n"
     ]
    },
    {
     "data": {
      "text/html": [
       "<b> > to track results use the .show() or .logs() methods  or <a href=\"https://dashboard.default-tenant.app.yh41.iguazio-cd1.com/mlprojects/ml-handlers/jobs/monitor/b204c9b9717d451094d0a83026a89649/overview\" target=\"_blank\">click here</a> to open in UI</b>"
      ],
      "text/plain": [
       "<IPython.core.display.HTML object>"
      ]
     },
     "metadata": {},
     "output_type": "display_data"
    },
    {
     "name": "stdout",
     "output_type": "stream",
     "text": [
      "> 2022-01-31 13:22:58,124 [info] run executed, status=completed\n"
     ]
    }
   ],
   "source": [
    "import mlrun\n",
    "from mlrun import code_to_function, import_function\n",
    "\n",
    "train_run = fn.run(params = train_params,    \n",
    "                   inputs={\"dataset\": dataset_url},\n",
    "                   handler='train',\n",
    "                   local=True)"
   ]
  },
  {
   "cell_type": "markdown",
   "metadata": {},
   "source": [
    "#### How about other frameworks?"
   ]
  },
  {
   "cell_type": "code",
   "execution_count": 34,
   "metadata": {},
   "outputs": [],
   "source": [
    "task_params = {\"label_column\": \"labels\",\n",
    "              \"model_class\": \"xgboost.XGBRegressor\"}"
   ]
  },
  {
   "cell_type": "code",
   "execution_count": 35,
   "metadata": {},
   "outputs": [
    {
     "name": "stdout",
     "output_type": "stream",
     "text": [
      "> 2022-01-30 14:34:52,092 [info] starting run predict-train uid=2edf6d3783754584bc49b88e80732d84 DB=http://mlrun-api:8080\n"
     ]
    },
    {
     "data": {
      "text/html": [
       "<style>\n",
       ".dictlist {\n",
       "  background-color: #4EC64B;\n",
       "  text-align: center;\n",
       "  margin: 4px;\n",
       "  border-radius: 3px; padding: 0px 3px 1px 3px; display: inline-block;}\n",
       ".artifact {\n",
       "  cursor: pointer;\n",
       "  background-color: #4EC64B;\n",
       "  text-align: left;\n",
       "  margin: 4px; border-radius: 3px; padding: 0px 3px 1px 3px; display: inline-block;\n",
       "}\n",
       "div.block.hidden {\n",
       "  display: none;\n",
       "}\n",
       ".clickable {\n",
       "  cursor: pointer;\n",
       "}\n",
       ".ellipsis {\n",
       "  display: inline-block;\n",
       "  max-width: 60px;\n",
       "  white-space: nowrap;\n",
       "  overflow: hidden;\n",
       "  text-overflow: ellipsis;\n",
       "}\n",
       ".master-wrapper {\n",
       "  display: flex;\n",
       "  flex-flow: row nowrap;\n",
       "  justify-content: flex-start;\n",
       "  align-items: stretch;\n",
       "}\n",
       ".master-tbl {\n",
       "  flex: 3\n",
       "}\n",
       ".master-wrapper > div {\n",
       "  margin: 4px;\n",
       "  padding: 10px;\n",
       "}\n",
       "iframe.fileview {\n",
       "  border: 0 none;\n",
       "  height: 100%;\n",
       "  width: 100%;\n",
       "  white-space: pre-wrap;\n",
       "}\n",
       ".pane-header-title {\n",
       "  width: 80%;\n",
       "  font-weight: 500;\n",
       "}\n",
       ".pane-header {\n",
       "  line-height: 1;\n",
       "  background-color: #4EC64B;\n",
       "  padding: 3px;\n",
       "}\n",
       ".pane-header .close {\n",
       "  font-size: 20px;\n",
       "  font-weight: 700;\n",
       "  float: right;\n",
       "  margin-top: -5px;\n",
       "}\n",
       ".master-wrapper .right-pane {\n",
       "  border: 1px inset silver;\n",
       "  width: 40%;\n",
       "  min-height: 300px;\n",
       "  flex: 3\n",
       "  min-width: 500px;\n",
       "}\n",
       ".master-wrapper * {\n",
       "  box-sizing: border-box;\n",
       "}\n",
       "</style><script>\n",
       "function copyToClipboard(fld) {\n",
       "    if (document.queryCommandSupported && document.queryCommandSupported('copy')) {\n",
       "        var textarea = document.createElement('textarea');\n",
       "        textarea.textContent = fld.innerHTML;\n",
       "        textarea.style.position = 'fixed';\n",
       "        document.body.appendChild(textarea);\n",
       "        textarea.select();\n",
       "\n",
       "        try {\n",
       "            return document.execCommand('copy'); // Security exception may be thrown by some browsers.\n",
       "        } catch (ex) {\n",
       "\n",
       "        } finally {\n",
       "            document.body.removeChild(textarea);\n",
       "        }\n",
       "    }\n",
       "}\n",
       "function expandPanel(el) {\n",
       "  const panelName = \"#\" + el.getAttribute('paneName');\n",
       "  console.log(el.title);\n",
       "\n",
       "  document.querySelector(panelName + \"-title\").innerHTML = el.title\n",
       "  iframe = document.querySelector(panelName + \"-body\");\n",
       "\n",
       "  const tblcss = `<style> body { font-family: Arial, Helvetica, sans-serif;}\n",
       "    #csv { margin-bottom: 15px; }\n",
       "    #csv table { border-collapse: collapse;}\n",
       "    #csv table td { padding: 4px 8px; border: 1px solid silver;} </style>`;\n",
       "\n",
       "  function csvToHtmlTable(str) {\n",
       "    return '<div id=\"csv\"><table><tr><td>' +  str.replace(/[\\n\\r]+$/g, '').replace(/[\\n\\r]+/g, '</td></tr><tr><td>')\n",
       "      .replace(/,/g, '</td><td>') + '</td></tr></table></div>';\n",
       "  }\n",
       "\n",
       "  function reqListener () {\n",
       "    if (el.title.endsWith(\".csv\")) {\n",
       "      iframe.setAttribute(\"srcdoc\", tblcss + csvToHtmlTable(this.responseText));\n",
       "    } else {\n",
       "      iframe.setAttribute(\"srcdoc\", this.responseText);\n",
       "    }\n",
       "    console.log(this.responseText);\n",
       "  }\n",
       "\n",
       "  const oReq = new XMLHttpRequest();\n",
       "  oReq.addEventListener(\"load\", reqListener);\n",
       "  oReq.open(\"GET\", el.title);\n",
       "  oReq.send();\n",
       "\n",
       "\n",
       "  //iframe.src = el.title;\n",
       "  const resultPane = document.querySelector(panelName + \"-pane\");\n",
       "  if (resultPane.classList.contains(\"hidden\")) {\n",
       "    resultPane.classList.remove(\"hidden\");\n",
       "  }\n",
       "}\n",
       "function closePanel(el) {\n",
       "  const panelName = \"#\" + el.getAttribute('paneName')\n",
       "  const resultPane = document.querySelector(panelName + \"-pane\");\n",
       "  if (!resultPane.classList.contains(\"hidden\")) {\n",
       "    resultPane.classList.add(\"hidden\");\n",
       "  }\n",
       "}\n",
       "\n",
       "</script>\n",
       "<div class=\"master-wrapper\">\n",
       "  <div class=\"block master-tbl\"><div>\n",
       "<style scoped>\n",
       "    .dataframe tbody tr th:only-of-type {\n",
       "        vertical-align: middle;\n",
       "    }\n",
       "\n",
       "    .dataframe tbody tr th {\n",
       "        vertical-align: top;\n",
       "    }\n",
       "\n",
       "    .dataframe thead th {\n",
       "        text-align: right;\n",
       "    }\n",
       "</style>\n",
       "<table border=\"1\" class=\"dataframe\">\n",
       "  <thead>\n",
       "    <tr style=\"text-align: right;\">\n",
       "      <th>project</th>\n",
       "      <th>uid</th>\n",
       "      <th>iter</th>\n",
       "      <th>start</th>\n",
       "      <th>state</th>\n",
       "      <th>name</th>\n",
       "      <th>labels</th>\n",
       "      <th>inputs</th>\n",
       "      <th>parameters</th>\n",
       "      <th>results</th>\n",
       "      <th>artifacts</th>\n",
       "    </tr>\n",
       "  </thead>\n",
       "  <tbody>\n",
       "    <tr>\n",
       "      <td>ml-handlers</td>\n",
       "      <td><div title=\"2edf6d3783754584bc49b88e80732d84\"><a href=\"https://dashboard.default-tenant.app.yh41.iguazio-cd1.com/mlprojects/ml-handlers/jobs/monitor/2edf6d3783754584bc49b88e80732d84/overview\" target=\"_blank\" >...80732d84</a></div></td>\n",
       "      <td>0</td>\n",
       "      <td>Jan 30 14:34:52</td>\n",
       "      <td>completed</td>\n",
       "      <td>predict-train</td>\n",
       "      <td><div class=\"dictlist\">v3io_user=alexz</div><div class=\"dictlist\">kind=</div><div class=\"dictlist\">owner=alexz</div><div class=\"dictlist\">host=alexz-jupyter-66555599cb-mlrnq</div></td>\n",
       "      <td><div title=\"https://s3.wasabisys.com/iguazio/data/function-marketplace-data/xgb_trainer/classifier-data.csv\">dataset</div></td>\n",
       "      <td><div class=\"dictlist\">label_column=labels</div><div class=\"dictlist\">model_class=xgboost.XGBRegressor</div></td>\n",
       "      <td><div class=\"dictlist\">r2_score=0.8663806826349162</div><div class=\"dictlist\">mean_absolute_error=0.06956097900867463</div><div class=\"dictlist\">mean_squared_error=0.18272153180878664</div></td>\n",
       "      <td><div title=\"v3io:///projects/ml-handlers/artifacts/test_set.parquet\">test_set</div><div title=\"v3io:///projects/ml-handlers/artifacts/\">trained_model</div></td>\n",
       "    </tr>\n",
       "  </tbody>\n",
       "</table>\n",
       "</div></div>\n",
       "  <div id=\"result7c1b5e49-pane\" class=\"right-pane block hidden\">\n",
       "    <div class=\"pane-header\">\n",
       "      <span id=\"result7c1b5e49-title\" class=\"pane-header-title\">Title</span>\n",
       "      <span onclick=\"closePanel(this)\" paneName=\"result7c1b5e49\" class=\"close clickable\">&times;</span>\n",
       "    </div>\n",
       "    <iframe class=\"fileview\" id=\"result7c1b5e49-body\"></iframe>\n",
       "  </div>\n",
       "</div>\n"
      ],
      "text/plain": [
       "<IPython.core.display.HTML object>"
      ]
     },
     "metadata": {},
     "output_type": "display_data"
    },
    {
     "name": "stdout",
     "output_type": "stream",
     "text": [
      "\n"
     ]
    },
    {
     "data": {
      "text/html": [
       "<b> > to track results use the .show() or .logs() methods  or <a href=\"https://dashboard.default-tenant.app.yh41.iguazio-cd1.com/mlprojects/ml-handlers/jobs/monitor/2edf6d3783754584bc49b88e80732d84/overview\" target=\"_blank\">click here</a> to open in UI</b>"
      ],
      "text/plain": [
       "<IPython.core.display.HTML object>"
      ]
     },
     "metadata": {},
     "output_type": "display_data"
    },
    {
     "name": "stdout",
     "output_type": "stream",
     "text": [
      "> 2022-01-30 14:34:55,332 [info] run executed, status=completed\n"
     ]
    }
   ],
   "source": [
    "xgb_run = fn.run(params = task_params,    \n",
    "                   inputs={\"dataset\": dataset_url},\n",
    "                   handler='train',\n",
    "                   local=True)"
   ]
  },
  {
   "cell_type": "markdown",
   "metadata": {},
   "source": [
    "### **Evaluating a model**"
   ]
  },
  {
   "cell_type": "markdown",
   "metadata": {},
   "source": [
    "#### Define task parameters¶"
   ]
  },
  {
   "cell_type": "code",
   "execution_count": 36,
   "metadata": {},
   "outputs": [],
   "source": [
    "eval_params = {\"label_column\": \"labels\",\n",
    "              \"model_path\": train_run.outputs[\"trained_model\"]}"
   ]
  },
  {
   "cell_type": "markdown",
   "metadata": {},
   "source": [
    "#### Running our Evaluation job with the \"evaluate\" handler"
   ]
  },
  {
   "cell_type": "code",
   "execution_count": 37,
   "metadata": {},
   "outputs": [
    {
     "name": "stdout",
     "output_type": "stream",
     "text": [
      "> 2022-01-30 14:34:55,351 [info] starting run predict-evaluate uid=5000ec47729742ec9a262809a828724c DB=http://mlrun-api:8080\n"
     ]
    },
    {
     "data": {
      "text/html": [
       "<style>\n",
       ".dictlist {\n",
       "  background-color: #4EC64B;\n",
       "  text-align: center;\n",
       "  margin: 4px;\n",
       "  border-radius: 3px; padding: 0px 3px 1px 3px; display: inline-block;}\n",
       ".artifact {\n",
       "  cursor: pointer;\n",
       "  background-color: #4EC64B;\n",
       "  text-align: left;\n",
       "  margin: 4px; border-radius: 3px; padding: 0px 3px 1px 3px; display: inline-block;\n",
       "}\n",
       "div.block.hidden {\n",
       "  display: none;\n",
       "}\n",
       ".clickable {\n",
       "  cursor: pointer;\n",
       "}\n",
       ".ellipsis {\n",
       "  display: inline-block;\n",
       "  max-width: 60px;\n",
       "  white-space: nowrap;\n",
       "  overflow: hidden;\n",
       "  text-overflow: ellipsis;\n",
       "}\n",
       ".master-wrapper {\n",
       "  display: flex;\n",
       "  flex-flow: row nowrap;\n",
       "  justify-content: flex-start;\n",
       "  align-items: stretch;\n",
       "}\n",
       ".master-tbl {\n",
       "  flex: 3\n",
       "}\n",
       ".master-wrapper > div {\n",
       "  margin: 4px;\n",
       "  padding: 10px;\n",
       "}\n",
       "iframe.fileview {\n",
       "  border: 0 none;\n",
       "  height: 100%;\n",
       "  width: 100%;\n",
       "  white-space: pre-wrap;\n",
       "}\n",
       ".pane-header-title {\n",
       "  width: 80%;\n",
       "  font-weight: 500;\n",
       "}\n",
       ".pane-header {\n",
       "  line-height: 1;\n",
       "  background-color: #4EC64B;\n",
       "  padding: 3px;\n",
       "}\n",
       ".pane-header .close {\n",
       "  font-size: 20px;\n",
       "  font-weight: 700;\n",
       "  float: right;\n",
       "  margin-top: -5px;\n",
       "}\n",
       ".master-wrapper .right-pane {\n",
       "  border: 1px inset silver;\n",
       "  width: 40%;\n",
       "  min-height: 300px;\n",
       "  flex: 3\n",
       "  min-width: 500px;\n",
       "}\n",
       ".master-wrapper * {\n",
       "  box-sizing: border-box;\n",
       "}\n",
       "</style><script>\n",
       "function copyToClipboard(fld) {\n",
       "    if (document.queryCommandSupported && document.queryCommandSupported('copy')) {\n",
       "        var textarea = document.createElement('textarea');\n",
       "        textarea.textContent = fld.innerHTML;\n",
       "        textarea.style.position = 'fixed';\n",
       "        document.body.appendChild(textarea);\n",
       "        textarea.select();\n",
       "\n",
       "        try {\n",
       "            return document.execCommand('copy'); // Security exception may be thrown by some browsers.\n",
       "        } catch (ex) {\n",
       "\n",
       "        } finally {\n",
       "            document.body.removeChild(textarea);\n",
       "        }\n",
       "    }\n",
       "}\n",
       "function expandPanel(el) {\n",
       "  const panelName = \"#\" + el.getAttribute('paneName');\n",
       "  console.log(el.title);\n",
       "\n",
       "  document.querySelector(panelName + \"-title\").innerHTML = el.title\n",
       "  iframe = document.querySelector(panelName + \"-body\");\n",
       "\n",
       "  const tblcss = `<style> body { font-family: Arial, Helvetica, sans-serif;}\n",
       "    #csv { margin-bottom: 15px; }\n",
       "    #csv table { border-collapse: collapse;}\n",
       "    #csv table td { padding: 4px 8px; border: 1px solid silver;} </style>`;\n",
       "\n",
       "  function csvToHtmlTable(str) {\n",
       "    return '<div id=\"csv\"><table><tr><td>' +  str.replace(/[\\n\\r]+$/g, '').replace(/[\\n\\r]+/g, '</td></tr><tr><td>')\n",
       "      .replace(/,/g, '</td><td>') + '</td></tr></table></div>';\n",
       "  }\n",
       "\n",
       "  function reqListener () {\n",
       "    if (el.title.endsWith(\".csv\")) {\n",
       "      iframe.setAttribute(\"srcdoc\", tblcss + csvToHtmlTable(this.responseText));\n",
       "    } else {\n",
       "      iframe.setAttribute(\"srcdoc\", this.responseText);\n",
       "    }\n",
       "    console.log(this.responseText);\n",
       "  }\n",
       "\n",
       "  const oReq = new XMLHttpRequest();\n",
       "  oReq.addEventListener(\"load\", reqListener);\n",
       "  oReq.open(\"GET\", el.title);\n",
       "  oReq.send();\n",
       "\n",
       "\n",
       "  //iframe.src = el.title;\n",
       "  const resultPane = document.querySelector(panelName + \"-pane\");\n",
       "  if (resultPane.classList.contains(\"hidden\")) {\n",
       "    resultPane.classList.remove(\"hidden\");\n",
       "  }\n",
       "}\n",
       "function closePanel(el) {\n",
       "  const panelName = \"#\" + el.getAttribute('paneName')\n",
       "  const resultPane = document.querySelector(panelName + \"-pane\");\n",
       "  if (!resultPane.classList.contains(\"hidden\")) {\n",
       "    resultPane.classList.add(\"hidden\");\n",
       "  }\n",
       "}\n",
       "\n",
       "</script>\n",
       "<div class=\"master-wrapper\">\n",
       "  <div class=\"block master-tbl\"><div>\n",
       "<style scoped>\n",
       "    .dataframe tbody tr th:only-of-type {\n",
       "        vertical-align: middle;\n",
       "    }\n",
       "\n",
       "    .dataframe tbody tr th {\n",
       "        vertical-align: top;\n",
       "    }\n",
       "\n",
       "    .dataframe thead th {\n",
       "        text-align: right;\n",
       "    }\n",
       "</style>\n",
       "<table border=\"1\" class=\"dataframe\">\n",
       "  <thead>\n",
       "    <tr style=\"text-align: right;\">\n",
       "      <th>project</th>\n",
       "      <th>uid</th>\n",
       "      <th>iter</th>\n",
       "      <th>start</th>\n",
       "      <th>state</th>\n",
       "      <th>name</th>\n",
       "      <th>labels</th>\n",
       "      <th>inputs</th>\n",
       "      <th>parameters</th>\n",
       "      <th>results</th>\n",
       "      <th>artifacts</th>\n",
       "    </tr>\n",
       "  </thead>\n",
       "  <tbody>\n",
       "    <tr>\n",
       "      <td>ml-handlers</td>\n",
       "      <td><div title=\"5000ec47729742ec9a262809a828724c\"><a href=\"https://dashboard.default-tenant.app.yh41.iguazio-cd1.com/mlprojects/ml-handlers/jobs/monitor/5000ec47729742ec9a262809a828724c/overview\" target=\"_blank\" >...a828724c</a></div></td>\n",
       "      <td>0</td>\n",
       "      <td>Jan 30 14:34:55</td>\n",
       "      <td>completed</td>\n",
       "      <td>predict-evaluate</td>\n",
       "      <td><div class=\"dictlist\">v3io_user=alexz</div><div class=\"dictlist\">kind=</div><div class=\"dictlist\">owner=alexz</div><div class=\"dictlist\">host=alexz-jupyter-66555599cb-mlrnq</div></td>\n",
       "      <td><div title=\"https://s3.wasabisys.com/iguazio/data/function-marketplace-data/xgb_trainer/classifier-data.csv\">dataset</div></td>\n",
       "      <td><div class=\"dictlist\">label_column=labels</div><div class=\"dictlist\">model_path=store://artifacts/ml-handlers/trained_model:04ee91634e164702abb89f5627f226ed</div></td>\n",
       "      <td><div class=\"dictlist\">r2_score=0.9550375284103801</div><div class=\"dictlist\">mean_absolute_error=0.03696698710024357</div><div class=\"dictlist\">mean_squared_error=0.10602164458931557</div></td>\n",
       "      <td><div title=\"v3io:///projects/ml-handlers/artifacts/test_set.parquet\">test_set</div></td>\n",
       "    </tr>\n",
       "  </tbody>\n",
       "</table>\n",
       "</div></div>\n",
       "  <div id=\"result38a0c628-pane\" class=\"right-pane block hidden\">\n",
       "    <div class=\"pane-header\">\n",
       "      <span id=\"result38a0c628-title\" class=\"pane-header-title\">Title</span>\n",
       "      <span onclick=\"closePanel(this)\" paneName=\"result38a0c628\" class=\"close clickable\">&times;</span>\n",
       "    </div>\n",
       "    <iframe class=\"fileview\" id=\"result38a0c628-body\"></iframe>\n",
       "  </div>\n",
       "</div>\n"
      ],
      "text/plain": [
       "<IPython.core.display.HTML object>"
      ]
     },
     "metadata": {},
     "output_type": "display_data"
    },
    {
     "name": "stdout",
     "output_type": "stream",
     "text": [
      "\n"
     ]
    },
    {
     "data": {
      "text/html": [
       "<b> > to track results use the .show() or .logs() methods  or <a href=\"https://dashboard.default-tenant.app.yh41.iguazio-cd1.com/mlprojects/ml-handlers/jobs/monitor/5000ec47729742ec9a262809a828724c/overview\" target=\"_blank\">click here</a> to open in UI</b>"
      ],
      "text/plain": [
       "<IPython.core.display.HTML object>"
      ]
     },
     "metadata": {},
     "output_type": "display_data"
    },
    {
     "name": "stdout",
     "output_type": "stream",
     "text": [
      "> 2022-01-30 14:34:56,477 [info] run executed, status=completed\n"
     ]
    }
   ],
   "source": [
    "eval_run = fn.run(\n",
    "                params = eval_params,\n",
    "                inputs = {'dataset': dataset_url},\n",
    "                handler='evaluate',\n",
    "                local=True\n",
    "                )"
   ]
  },
  {
   "cell_type": "markdown",
   "metadata": {},
   "source": [
    "### **Predicting on new data**"
   ]
  },
  {
   "cell_type": "markdown",
   "metadata": {},
   "source": [
    "#### Fetching a new dataset"
   ]
  },
  {
   "cell_type": "code",
   "execution_count": 38,
   "metadata": {},
   "outputs": [],
   "source": [
    "new_dataset_url = 'https://s3.wasabisys.com/iguazio/data/function-marketplace-data/xgb_trainer/classifier-data.csv'"
   ]
  },
  {
   "cell_type": "markdown",
   "metadata": {},
   "source": [
    "#### Define task parameters¶"
   ]
  },
  {
   "cell_type": "code",
   "execution_count": 39,
   "metadata": {},
   "outputs": [],
   "source": [
    "predict_params = {\"label_column\": \"labels\",\n",
    "              \"model_path\": train_run.outputs[\"trained_model\"]}"
   ]
  },
  {
   "cell_type": "markdown",
   "metadata": {},
   "source": [
    "#### Running our Predict job with the \"predict\" handler"
   ]
  },
  {
   "cell_type": "code",
   "execution_count": 40,
   "metadata": {},
   "outputs": [
    {
     "name": "stdout",
     "output_type": "stream",
     "text": [
      "> 2022-01-30 14:35:00,373 [info] starting run predict-predict uid=96dc3e908b874e28a2348f9ad6c6111f DB=http://mlrun-api:8080\n"
     ]
    },
    {
     "data": {
      "text/html": [
       "<style>\n",
       ".dictlist {\n",
       "  background-color: #4EC64B;\n",
       "  text-align: center;\n",
       "  margin: 4px;\n",
       "  border-radius: 3px; padding: 0px 3px 1px 3px; display: inline-block;}\n",
       ".artifact {\n",
       "  cursor: pointer;\n",
       "  background-color: #4EC64B;\n",
       "  text-align: left;\n",
       "  margin: 4px; border-radius: 3px; padding: 0px 3px 1px 3px; display: inline-block;\n",
       "}\n",
       "div.block.hidden {\n",
       "  display: none;\n",
       "}\n",
       ".clickable {\n",
       "  cursor: pointer;\n",
       "}\n",
       ".ellipsis {\n",
       "  display: inline-block;\n",
       "  max-width: 60px;\n",
       "  white-space: nowrap;\n",
       "  overflow: hidden;\n",
       "  text-overflow: ellipsis;\n",
       "}\n",
       ".master-wrapper {\n",
       "  display: flex;\n",
       "  flex-flow: row nowrap;\n",
       "  justify-content: flex-start;\n",
       "  align-items: stretch;\n",
       "}\n",
       ".master-tbl {\n",
       "  flex: 3\n",
       "}\n",
       ".master-wrapper > div {\n",
       "  margin: 4px;\n",
       "  padding: 10px;\n",
       "}\n",
       "iframe.fileview {\n",
       "  border: 0 none;\n",
       "  height: 100%;\n",
       "  width: 100%;\n",
       "  white-space: pre-wrap;\n",
       "}\n",
       ".pane-header-title {\n",
       "  width: 80%;\n",
       "  font-weight: 500;\n",
       "}\n",
       ".pane-header {\n",
       "  line-height: 1;\n",
       "  background-color: #4EC64B;\n",
       "  padding: 3px;\n",
       "}\n",
       ".pane-header .close {\n",
       "  font-size: 20px;\n",
       "  font-weight: 700;\n",
       "  float: right;\n",
       "  margin-top: -5px;\n",
       "}\n",
       ".master-wrapper .right-pane {\n",
       "  border: 1px inset silver;\n",
       "  width: 40%;\n",
       "  min-height: 300px;\n",
       "  flex: 3\n",
       "  min-width: 500px;\n",
       "}\n",
       ".master-wrapper * {\n",
       "  box-sizing: border-box;\n",
       "}\n",
       "</style><script>\n",
       "function copyToClipboard(fld) {\n",
       "    if (document.queryCommandSupported && document.queryCommandSupported('copy')) {\n",
       "        var textarea = document.createElement('textarea');\n",
       "        textarea.textContent = fld.innerHTML;\n",
       "        textarea.style.position = 'fixed';\n",
       "        document.body.appendChild(textarea);\n",
       "        textarea.select();\n",
       "\n",
       "        try {\n",
       "            return document.execCommand('copy'); // Security exception may be thrown by some browsers.\n",
       "        } catch (ex) {\n",
       "\n",
       "        } finally {\n",
       "            document.body.removeChild(textarea);\n",
       "        }\n",
       "    }\n",
       "}\n",
       "function expandPanel(el) {\n",
       "  const panelName = \"#\" + el.getAttribute('paneName');\n",
       "  console.log(el.title);\n",
       "\n",
       "  document.querySelector(panelName + \"-title\").innerHTML = el.title\n",
       "  iframe = document.querySelector(panelName + \"-body\");\n",
       "\n",
       "  const tblcss = `<style> body { font-family: Arial, Helvetica, sans-serif;}\n",
       "    #csv { margin-bottom: 15px; }\n",
       "    #csv table { border-collapse: collapse;}\n",
       "    #csv table td { padding: 4px 8px; border: 1px solid silver;} </style>`;\n",
       "\n",
       "  function csvToHtmlTable(str) {\n",
       "    return '<div id=\"csv\"><table><tr><td>' +  str.replace(/[\\n\\r]+$/g, '').replace(/[\\n\\r]+/g, '</td></tr><tr><td>')\n",
       "      .replace(/,/g, '</td><td>') + '</td></tr></table></div>';\n",
       "  }\n",
       "\n",
       "  function reqListener () {\n",
       "    if (el.title.endsWith(\".csv\")) {\n",
       "      iframe.setAttribute(\"srcdoc\", tblcss + csvToHtmlTable(this.responseText));\n",
       "    } else {\n",
       "      iframe.setAttribute(\"srcdoc\", this.responseText);\n",
       "    }\n",
       "    console.log(this.responseText);\n",
       "  }\n",
       "\n",
       "  const oReq = new XMLHttpRequest();\n",
       "  oReq.addEventListener(\"load\", reqListener);\n",
       "  oReq.open(\"GET\", el.title);\n",
       "  oReq.send();\n",
       "\n",
       "\n",
       "  //iframe.src = el.title;\n",
       "  const resultPane = document.querySelector(panelName + \"-pane\");\n",
       "  if (resultPane.classList.contains(\"hidden\")) {\n",
       "    resultPane.classList.remove(\"hidden\");\n",
       "  }\n",
       "}\n",
       "function closePanel(el) {\n",
       "  const panelName = \"#\" + el.getAttribute('paneName')\n",
       "  const resultPane = document.querySelector(panelName + \"-pane\");\n",
       "  if (!resultPane.classList.contains(\"hidden\")) {\n",
       "    resultPane.classList.add(\"hidden\");\n",
       "  }\n",
       "}\n",
       "\n",
       "</script>\n",
       "<div class=\"master-wrapper\">\n",
       "  <div class=\"block master-tbl\"><div>\n",
       "<style scoped>\n",
       "    .dataframe tbody tr th:only-of-type {\n",
       "        vertical-align: middle;\n",
       "    }\n",
       "\n",
       "    .dataframe tbody tr th {\n",
       "        vertical-align: top;\n",
       "    }\n",
       "\n",
       "    .dataframe thead th {\n",
       "        text-align: right;\n",
       "    }\n",
       "</style>\n",
       "<table border=\"1\" class=\"dataframe\">\n",
       "  <thead>\n",
       "    <tr style=\"text-align: right;\">\n",
       "      <th>project</th>\n",
       "      <th>uid</th>\n",
       "      <th>iter</th>\n",
       "      <th>start</th>\n",
       "      <th>state</th>\n",
       "      <th>name</th>\n",
       "      <th>labels</th>\n",
       "      <th>inputs</th>\n",
       "      <th>parameters</th>\n",
       "      <th>results</th>\n",
       "      <th>artifacts</th>\n",
       "    </tr>\n",
       "  </thead>\n",
       "  <tbody>\n",
       "    <tr>\n",
       "      <td>ml-handlers</td>\n",
       "      <td><div title=\"96dc3e908b874e28a2348f9ad6c6111f\"><a href=\"https://dashboard.default-tenant.app.yh41.iguazio-cd1.com/mlprojects/ml-handlers/jobs/monitor/96dc3e908b874e28a2348f9ad6c6111f/overview\" target=\"_blank\" >...d6c6111f</a></div></td>\n",
       "      <td>0</td>\n",
       "      <td>Jan 30 14:35:00</td>\n",
       "      <td>completed</td>\n",
       "      <td>predict-predict</td>\n",
       "      <td><div class=\"dictlist\">v3io_user=alexz</div><div class=\"dictlist\">kind=</div><div class=\"dictlist\">owner=alexz</div><div class=\"dictlist\">host=alexz-jupyter-66555599cb-mlrnq</div></td>\n",
       "      <td><div title=\"https://s3.wasabisys.com/iguazio/data/function-marketplace-data/xgb_trainer/classifier-data.csv\">dataset</div></td>\n",
       "      <td><div class=\"dictlist\">label_column=labels</div><div class=\"dictlist\">model_path=store://artifacts/ml-handlers/trained_model:04ee91634e164702abb89f5627f226ed</div></td>\n",
       "      <td></td>\n",
       "      <td></td>\n",
       "    </tr>\n",
       "  </tbody>\n",
       "</table>\n",
       "</div></div>\n",
       "  <div id=\"result4bdc06f6-pane\" class=\"right-pane block hidden\">\n",
       "    <div class=\"pane-header\">\n",
       "      <span id=\"result4bdc06f6-title\" class=\"pane-header-title\">Title</span>\n",
       "      <span onclick=\"closePanel(this)\" paneName=\"result4bdc06f6\" class=\"close clickable\">&times;</span>\n",
       "    </div>\n",
       "    <iframe class=\"fileview\" id=\"result4bdc06f6-body\"></iframe>\n",
       "  </div>\n",
       "</div>\n"
      ],
      "text/plain": [
       "<IPython.core.display.HTML object>"
      ]
     },
     "metadata": {},
     "output_type": "display_data"
    },
    {
     "name": "stdout",
     "output_type": "stream",
     "text": [
      "\n"
     ]
    },
    {
     "data": {
      "text/html": [
       "<b> > to track results use the .show() or .logs() methods  or <a href=\"https://dashboard.default-tenant.app.yh41.iguazio-cd1.com/mlprojects/ml-handlers/jobs/monitor/96dc3e908b874e28a2348f9ad6c6111f/overview\" target=\"_blank\">click here</a> to open in UI</b>"
      ],
      "text/plain": [
       "<IPython.core.display.HTML object>"
      ]
     },
     "metadata": {},
     "output_type": "display_data"
    },
    {
     "name": "stdout",
     "output_type": "stream",
     "text": [
      "> 2022-01-30 14:35:01,027 [info] run executed, status=completed\n"
     ]
    }
   ],
   "source": [
    "predict_run = fn.run(\n",
    "                params = predict_params,\n",
    "                inputs = {'dataset': new_dataset_url},\n",
    "                handler='predict',\n",
    "                local=True\n",
    "                )"
   ]
  },
  {
   "cell_type": "markdown",
   "metadata": {},
   "source": [
    "### **Getting the model**"
   ]
  },
  {
   "cell_type": "code",
   "execution_count": null,
   "metadata": {},
   "outputs": [],
   "source": [
    "from mlrun.artifacts import get_model\n",
    "import pickle\n",
    "\n",
    "model_file, model_obj, _ = get_model(train_run.artifact('model'))\n",
    "model = pickle.load(open(model_file,'rb'))"
   ]
  },
  {
   "cell_type": "code",
   "execution_count": null,
   "metadata": {},
   "outputs": [],
   "source": [
    "print(f\"model score : {model.score(train_run.artifact('test_set').as_df().drop(['labels'],axis=1),train_run.artifact('test_set').as_df()['labels'])}\")"
   ]
  },
  {
   "cell_type": "markdown",
   "metadata": {},
   "source": [
    "### **Some plotting**"
   ]
  },
  {
   "cell_type": "markdown",
   "metadata": {},
   "source": [
    "#### Display the probability calibration"
   ]
  },
  {
   "cell_type": "code",
   "execution_count": 43,
   "metadata": {},
   "outputs": [
    {
     "ename": "AttributeError",
     "evalue": "'NoneType' object has no attribute 'show'",
     "output_type": "error",
     "traceback": [
      "\u001b[0;31m---------------------------------------------------------------------------\u001b[0m",
      "\u001b[0;31mAttributeError\u001b[0m                            Traceback (most recent call last)",
      "\u001b[0;32m<ipython-input-43-14b95dba450f>\u001b[0m in \u001b[0;36m<module>\u001b[0;34m\u001b[0m\n\u001b[0;32m----> 1\u001b[0;31m \u001b[0mtrain_run\u001b[0m\u001b[0;34m.\u001b[0m\u001b[0martifact\u001b[0m\u001b[0;34m(\u001b[0m\u001b[0;34m'probability-calibration'\u001b[0m\u001b[0;34m)\u001b[0m\u001b[0;34m.\u001b[0m\u001b[0mshow\u001b[0m\u001b[0;34m(\u001b[0m\u001b[0;34m)\u001b[0m\u001b[0;34m\u001b[0m\u001b[0;34m\u001b[0m\u001b[0m\n\u001b[0m",
      "\u001b[0;31mAttributeError\u001b[0m: 'NoneType' object has no attribute 'show'"
     ]
    }
   ],
   "source": [
    "train_run.artifact('probability_calibration').show()"
   ]
  },
  {
   "cell_type": "code",
   "execution_count": 10,
   "metadata": {},
   "outputs": [
    {
     "data": {
      "text/html": [
       "\n",
       "<h3 style=\"text-align:center\">Feature Importances</h3>\n",
       "<img title=\"feature-importances\" src=\"data:image/png;base64,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\">\n"
      ],
      "text/plain": [
       "<IPython.core.display.HTML object>"
      ]
     },
     "metadata": {},
     "output_type": "display_data"
    }
   ],
   "source": [
    "train_run.artifact('feature-importances').show()"
   ]
  },
  {
   "cell_type": "markdown",
   "metadata": {},
   "source": [
    "### **Running the function remotely**"
   ]
  },
  {
   "cell_type": "code",
   "execution_count": 11,
   "metadata": {},
   "outputs": [
    {
     "name": "stdout",
     "output_type": "stream",
     "text": [
      "> 2021-10-13 10:10:24,882 [info] Started building image: .mlrun/func-function-marketplace-xgb-trainer:latest\n",
      "\u001b[36mINFO\u001b[0m[0000] Retrieving image manifest mlrun/mlrun:0.7.1  \n",
      "\u001b[36mINFO\u001b[0m[0000] Retrieving image manifest mlrun/mlrun:0.7.1  \n",
      "\u001b[36mINFO\u001b[0m[0000] Built cross stage deps: map[]                \n",
      "\u001b[36mINFO\u001b[0m[0000] Retrieving image manifest mlrun/mlrun:0.7.1  \n",
      "\u001b[36mINFO\u001b[0m[0001] Retrieving image manifest mlrun/mlrun:0.7.1  \n",
      "\u001b[36mINFO\u001b[0m[0002] Executing 0 build triggers                   \n",
      "\u001b[36mINFO\u001b[0m[0002] Unpacking rootfs as cmd RUN pip install xgboost==1.3.1 requires it. \n",
      "\u001b[36mINFO\u001b[0m[0024] RUN pip install xgboost==1.3.1               \n",
      "\u001b[36mINFO\u001b[0m[0024] Taking snapshot of full filesystem...        \n",
      "\u001b[36mINFO\u001b[0m[0035] cmd: /bin/sh                                 \n",
      "\u001b[36mINFO\u001b[0m[0035] args: [-c pip install xgboost==1.3.1]        \n",
      "\u001b[36mINFO\u001b[0m[0035] Running: [/bin/sh -c pip install xgboost==1.3.1] \n",
      "Collecting xgboost==1.3.1\n",
      "  Downloading xgboost-1.3.1-py3-none-manylinux2010_x86_64.whl (157.5 MB)\n",
      "Requirement already satisfied: scipy in /usr/local/lib/python3.7/site-packages (from xgboost==1.3.1) (1.7.1)\n",
      "Requirement already satisfied: numpy in /usr/local/lib/python3.7/site-packages (from xgboost==1.3.1) (1.19.5)\n",
      "Installing collected packages: xgboost\n",
      "Successfully installed xgboost-1.3.1\n",
      "WARNING: You are using pip version 20.2.4; however, version 21.3 is available.\n",
      "You should consider upgrading via the '/usr/local/bin/python -m pip install --upgrade pip' command.\n",
      "\u001b[36mINFO\u001b[0m[0042] Taking snapshot of full filesystem...        \n"
     ]
    },
    {
     "data": {
      "text/plain": [
       "True"
      ]
     },
     "execution_count": 11,
     "metadata": {},
     "output_type": "execute_result"
    }
   ],
   "source": [
    "fn.spec.build.commands=['pip install xgboost==1.3.1']\n",
    "fn.deploy(with_mlrun=False)"
   ]
  },
  {
   "cell_type": "code",
   "execution_count": 12,
   "metadata": {},
   "outputs": [
    {
     "name": "stdout",
     "output_type": "stream",
     "text": [
      "> 2021-10-13 10:11:39,577 [info] starting run xgb-trainer-train_model uid=7332ff5d727948c89221d4645b84d028 DB=http://mlrun-api:8080\n",
      "> 2021-10-13 10:11:39,764 [info] Job is running in the background, pod: xgb-trainer-train-model-4scfq\n",
      "> 2021-10-13 10:11:55,207 [info] run executed, status=completed\n",
      "The use of label encoder in XGBClassifier is deprecated and will be removed in a future release. To remove this warning, do the following: 1) Pass option use_label_encoder=False when constructing XGBClassifier object; and 2) Encode your labels (y) as integers starting with 0, i.e. 0, 1, 2, ..., [num_class - 1].\n",
      "final state: completed\n"
     ]
    },
    {
     "data": {
      "text/html": [
       "<style>\n",
       ".dictlist {\n",
       "  background-color: #4EC64B;\n",
       "  text-align: center;\n",
       "  margin: 4px;\n",
       "  border-radius: 3px; padding: 0px 3px 1px 3px; display: inline-block;}\n",
       ".artifact {\n",
       "  cursor: pointer;\n",
       "  background-color: #4EC64B;\n",
       "  text-align: left;\n",
       "  margin: 4px; border-radius: 3px; padding: 0px 3px 1px 3px; display: inline-block;\n",
       "}\n",
       "div.block.hidden {\n",
       "  display: none;\n",
       "}\n",
       ".clickable {\n",
       "  cursor: pointer;\n",
       "}\n",
       ".ellipsis {\n",
       "  display: inline-block;\n",
       "  max-width: 60px;\n",
       "  white-space: nowrap;\n",
       "  overflow: hidden;\n",
       "  text-overflow: ellipsis;\n",
       "}\n",
       ".master-wrapper {\n",
       "  display: flex;\n",
       "  flex-flow: row nowrap;\n",
       "  justify-content: flex-start;\n",
       "  align-items: stretch;\n",
       "}\n",
       ".master-tbl {\n",
       "  flex: 3\n",
       "}\n",
       ".master-wrapper > div {\n",
       "  margin: 4px;\n",
       "  padding: 10px;\n",
       "}\n",
       "iframe.fileview {\n",
       "  border: 0 none;\n",
       "  height: 100%;\n",
       "  width: 100%;\n",
       "  white-space: pre-wrap;\n",
       "}\n",
       ".pane-header-title {\n",
       "  width: 80%;\n",
       "  font-weight: 500;\n",
       "}\n",
       ".pane-header {\n",
       "  line-height: 1;\n",
       "  background-color: #4EC64B;\n",
       "  padding: 3px;\n",
       "}\n",
       ".pane-header .close {\n",
       "  font-size: 20px;\n",
       "  font-weight: 700;\n",
       "  float: right;\n",
       "  margin-top: -5px;\n",
       "}\n",
       ".master-wrapper .right-pane {\n",
       "  border: 1px inset silver;\n",
       "  width: 40%;\n",
       "  min-height: 300px;\n",
       "  flex: 3\n",
       "  min-width: 500px;\n",
       "}\n",
       ".master-wrapper * {\n",
       "  box-sizing: border-box;\n",
       "}\n",
       "</style><script>\n",
       "function copyToClipboard(fld) {\n",
       "    if (document.queryCommandSupported && document.queryCommandSupported('copy')) {\n",
       "        var textarea = document.createElement('textarea');\n",
       "        textarea.textContent = fld.innerHTML;\n",
       "        textarea.style.position = 'fixed';\n",
       "        document.body.appendChild(textarea);\n",
       "        textarea.select();\n",
       "\n",
       "        try {\n",
       "            return document.execCommand('copy'); // Security exception may be thrown by some browsers.\n",
       "        } catch (ex) {\n",
       "\n",
       "        } finally {\n",
       "            document.body.removeChild(textarea);\n",
       "        }\n",
       "    }\n",
       "}\n",
       "function expandPanel(el) {\n",
       "  const panelName = \"#\" + el.getAttribute('paneName');\n",
       "  console.log(el.title);\n",
       "\n",
       "  document.querySelector(panelName + \"-title\").innerHTML = el.title\n",
       "  iframe = document.querySelector(panelName + \"-body\");\n",
       "\n",
       "  const tblcss = `<style> body { font-family: Arial, Helvetica, sans-serif;}\n",
       "    #csv { margin-bottom: 15px; }\n",
       "    #csv table { border-collapse: collapse;}\n",
       "    #csv table td { padding: 4px 8px; border: 1px solid silver;} </style>`;\n",
       "\n",
       "  function csvToHtmlTable(str) {\n",
       "    return '<div id=\"csv\"><table><tr><td>' +  str.replace(/[\\n\\r]+$/g, '').replace(/[\\n\\r]+/g, '</td></tr><tr><td>')\n",
       "      .replace(/,/g, '</td><td>') + '</td></tr></table></div>';\n",
       "  }\n",
       "\n",
       "  function reqListener () {\n",
       "    if (el.title.endsWith(\".csv\")) {\n",
       "      iframe.setAttribute(\"srcdoc\", tblcss + csvToHtmlTable(this.responseText));\n",
       "    } else {\n",
       "      iframe.setAttribute(\"srcdoc\", this.responseText);\n",
       "    }\n",
       "    console.log(this.responseText);\n",
       "  }\n",
       "\n",
       "  const oReq = new XMLHttpRequest();\n",
       "  oReq.addEventListener(\"load\", reqListener);\n",
       "  oReq.open(\"GET\", el.title);\n",
       "  oReq.send();\n",
       "\n",
       "\n",
       "  //iframe.src = el.title;\n",
       "  const resultPane = document.querySelector(panelName + \"-pane\");\n",
       "  if (resultPane.classList.contains(\"hidden\")) {\n",
       "    resultPane.classList.remove(\"hidden\");\n",
       "  }\n",
       "}\n",
       "function closePanel(el) {\n",
       "  const panelName = \"#\" + el.getAttribute('paneName')\n",
       "  const resultPane = document.querySelector(panelName + \"-pane\");\n",
       "  if (!resultPane.classList.contains(\"hidden\")) {\n",
       "    resultPane.classList.add(\"hidden\");\n",
       "  }\n",
       "}\n",
       "\n",
       "</script>\n",
       "<div class=\"master-wrapper\">\n",
       "  <div class=\"block master-tbl\"><div>\n",
       "<style scoped>\n",
       "    .dataframe tbody tr th:only-of-type {\n",
       "        vertical-align: middle;\n",
       "    }\n",
       "\n",
       "    .dataframe tbody tr th {\n",
       "        vertical-align: top;\n",
       "    }\n",
       "\n",
       "    .dataframe thead th {\n",
       "        text-align: right;\n",
       "    }\n",
       "</style>\n",
       "<table border=\"1\" class=\"dataframe\">\n",
       "  <thead>\n",
       "    <tr style=\"text-align: right;\">\n",
       "      <th>project</th>\n",
       "      <th>uid</th>\n",
       "      <th>iter</th>\n",
       "      <th>start</th>\n",
       "      <th>state</th>\n",
       "      <th>name</th>\n",
       "      <th>labels</th>\n",
       "      <th>inputs</th>\n",
       "      <th>parameters</th>\n",
       "      <th>results</th>\n",
       "      <th>artifacts</th>\n",
       "    </tr>\n",
       "  </thead>\n",
       "  <tbody>\n",
       "    <tr>\n",
       "      <td>function-marketplace</td>\n",
       "      <td><div title=\"7332ff5d727948c89221d4645b84d028\"><a href=\"https://dashboard.default-tenant.app.app-lab-eks-testing.iguazio-cd1.com/mlprojects/function-marketplace/jobs/monitor/7332ff5d727948c89221d4645b84d028/overview\" target=\"_blank\" >...5b84d028</a></div></td>\n",
       "      <td>0</td>\n",
       "      <td>Oct 13 10:11:51</td>\n",
       "      <td>completed</td>\n",
       "      <td>xgb-trainer-train_model</td>\n",
       "      <td><div class=\"dictlist\">v3io_user=dani</div><div class=\"dictlist\">kind=job</div><div class=\"dictlist\">owner=dani</div><div class=\"dictlist\">host=xgb-trainer-train-model-4scfq</div></td>\n",
       "      <td><div title=\"https://s3.wasabisys.com/iguazio/data/function-marketplace-data/xgb_trainer/classifier-data.csv\">dataset</div></td>\n",
       "      <td><div class=\"dictlist\">model_type=classifier</div><div class=\"dictlist\">CLASS_tree_method=hist</div><div class=\"dictlist\">CLASS_objective=binary:logistic</div><div class=\"dictlist\">CLASS_booster=gbtree</div><div class=\"dictlist\">FIT_verbose=0</div><div class=\"dictlist\">label_column=labels</div></td>\n",
       "      <td><div class=\"dictlist\">accuracy=0.9552</div><div class=\"dictlist\">test-error=0.0448</div><div class=\"dictlist\">rocauc=0.9799618829687036</div><div class=\"dictlist\">brier_score=0.038984999293145965</div><div class=\"dictlist\">f1-score=0.954983922829582</div><div class=\"dictlist\">precision_score=0.965679190751445</div><div class=\"dictlist\">recall_score=0.9445229681978798</div></td>\n",
       "      <td><div title=\"v3io:///projects/function-marketplace/artifacts/test_set.parquet\">test_set</div><div class=\"artifact\" onclick=\"expandPanel(this)\" paneName=\"result0d1658f0\" title=\"files/v3io/projects/function-marketplace/artifacts/plots/probability-calibration.html\">probability-calibration</div><div class=\"artifact\" onclick=\"expandPanel(this)\" paneName=\"result0d1658f0\" title=\"files/v3io/projects/function-marketplace/artifacts/plots/confusion-matrix.html\">confusion-matrix</div><div class=\"artifact\" onclick=\"expandPanel(this)\" paneName=\"result0d1658f0\" title=\"files/v3io/projects/function-marketplace/artifacts/plots/feature-importances.html\">feature-importances</div><div class=\"artifact\" onclick=\"expandPanel(this)\" paneName=\"result0d1658f0\" title=\"files/v3io/projects/function-marketplace/artifacts/plots/precision-recall-binary.html\">precision-recall-binary</div><div class=\"artifact\" onclick=\"expandPanel(this)\" paneName=\"result0d1658f0\" title=\"files/v3io/projects/function-marketplace/artifacts/plots/roc-binary.html\">roc-binary</div><div title=\"v3io:///projects/function-marketplace/artifacts/models/\">model</div></td>\n",
       "    </tr>\n",
       "  </tbody>\n",
       "</table>\n",
       "</div></div>\n",
       "  <div id=\"result0d1658f0-pane\" class=\"right-pane block hidden\">\n",
       "    <div class=\"pane-header\">\n",
       "      <span id=\"result0d1658f0-title\" class=\"pane-header-title\">Title</span>\n",
       "      <span onclick=\"closePanel(this)\" paneName=\"result0d1658f0\" class=\"close clickable\">&times;</span>\n",
       "    </div>\n",
       "    <iframe class=\"fileview\" id=\"result0d1658f0-body\"></iframe>\n",
       "  </div>\n",
       "</div>\n"
      ],
      "text/plain": [
       "<IPython.core.display.HTML object>"
      ]
     },
     "metadata": {},
     "output_type": "display_data"
    },
    {
     "name": "stdout",
     "output_type": "stream",
     "text": [
      "\n"
     ]
    },
    {
     "data": {
      "text/html": [
       "<b> > to track results use the .show() or .logs() methods  or <a href=\"https://dashboard.default-tenant.app.app-lab-eks-testing.iguazio-cd1.com/mlprojects/function-marketplace/jobs/monitor/7332ff5d727948c89221d4645b84d028/overview\" target=\"_blank\">click here</a> to open in UI</b>"
      ],
      "text/plain": [
       "<IPython.core.display.HTML object>"
      ]
     },
     "metadata": {},
     "output_type": "display_data"
    },
    {
     "name": "stdout",
     "output_type": "stream",
     "text": [
      "> 2021-10-13 10:11:58,969 [info] run executed, status=completed\n"
     ]
    },
    {
     "data": {
      "text/plain": [
       "<mlrun.model.RunObject at 0x7f08906c3210>"
      ]
     },
     "execution_count": 12,
     "metadata": {},
     "output_type": "execute_result"
    }
   ],
   "source": [
    "fn.run(inputs={\"dataset\"  : 'https://s3.wasabisys.com/iguazio/data/function-marketplace-data/xgb_trainer/classifier-data.csv'},\n",
    "       params=task_params)"
   ]
  },
  {
   "cell_type": "markdown",
   "metadata": {},
   "source": [
    "[Back to the top](#XGBoost-trainer)"
   ]
  }
 ],
 "metadata": {
  "kernelspec": {
   "display_name": "Python [conda env:root] *",
   "language": "python",
   "name": "conda-root-py"
  },
  "language_info": {
   "codemirror_mode": {
    "name": "ipython",
    "version": 3
   },
   "file_extension": ".py",
   "mimetype": "text/x-python",
   "name": "python",
   "nbconvert_exporter": "python",
   "pygments_lexer": "ipython3",
   "version": "3.7.6"
  }
 },
 "nbformat": 4,
 "nbformat_minor": 4
}
