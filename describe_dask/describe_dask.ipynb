{
 "cells": [
  {
   "cell_type": "markdown",
   "metadata": {},
   "source": [
    "# Describe Dask Function"
   ]
  },
  {
   "cell_type": "markdown",
   "metadata": {},
   "source": [
    "### save"
   ]
  },
  {
   "cell_type": "code",
   "execution_count": 1,
   "metadata": {},
   "outputs": [
    {
     "name": "stdout",
     "output_type": "stream",
     "text": [
      "> 2021-02-17 16:25:40,813 [info] function spec saved to path: describe_dask.yaml\n"
     ]
    },
    {
     "data": {
      "text/plain": [
       "<mlrun.runtimes.kubejob.KubejobRuntime at 0x7f5efa1d3dd0>"
      ]
     },
     "execution_count": 1,
     "metadata": {},
     "output_type": "execute_result"
    }
   ],
   "source": [
    "import mlrun\n",
    "import yaml\n",
    "\n",
    "with open(\"item.yaml\") as item_file:\n",
    "    items = yaml.load(item_file, Loader=yaml.FullLoader)\n",
    "\n",
    "# create job function object from notebook code\n",
    "mlrun.set_environment(artifact_path=\"./\")\n",
    "fn = mlrun.code_to_function(\n",
    "    items[\"name\"],\n",
    "    kind=items[\"spec\"][\"kind\"],\n",
    "    handler=items[\"spec\"][\"handler\"],\n",
    "    filename=items[\"spec\"][\"filename\"],\n",
    "    image=items[\"spec\"][\"image\"],\n",
    "    description=items[\"description\"],\n",
    "    categories=items[\"categories\"],\n",
    "    labels=items[\"labels\"],\n",
    "    requirements=items[\"spec\"][\"requirements\"],\n",
    ")\n",
    "\n",
    "fn.export(\"describe_dask.yaml\")"
   ]
  },
  {
   "cell_type": "markdown",
   "metadata": {},
   "source": [
    "## examples"
   ]
  },
  {
   "cell_type": "code",
   "execution_count": 2,
   "metadata": {},
   "outputs": [],
   "source": [
    "fn.apply(mlrun.platforms.auto_mount())\n",
    "DATA_URL = \"/User/iris.csv\""
   ]
  },
  {
   "cell_type": "code",
   "execution_count": 3,
   "metadata": {},
   "outputs": [
    {
     "name": "stdout",
     "output_type": "stream",
     "text": [
      "  % Total    % Received % Xferd  Average Speed   Time    Time     Time  Current\n",
      "                                 Dload  Upload   Total   Spent    Left  Speed\n",
      "100  2776  100  2776    0     0  19687      0 --:--:-- --:--:-- --:--:-- 19549\n"
     ]
    }
   ],
   "source": [
    "!curl -L \"https://s3.wasabisys.com/iguazio/data/iris/iris_dataset.csv\" > {DATA_URL}"
   ]
  },
  {
   "cell_type": "code",
   "execution_count": 4,
   "metadata": {},
   "outputs": [
    {
     "name": "stdout",
     "output_type": "stream",
     "text": [
      "> 2021-02-17 16:25:41,644 [info] using in-cluster config.\n"
     ]
    },
    {
     "data": {
      "text/plain": [
       "'3efd9b015f9527652feff1e5b9ec18377a6952e5'"
      ]
     },
     "execution_count": 4,
     "metadata": {},
     "output_type": "execute_result"
    }
   ],
   "source": [
    "# create a dask test cluster (dask function)\n",
    "dask_cluster = mlrun.new_function(\"dask_tests\", kind=\"dask\", image=\"mlrun/ml-models\")\n",
    "dask_cluster.apply(mlrun.mount_v3io())\n",
    "dask_cluster.spec.remote = True\n",
    "dask_cluster.with_requests(mem=\"2G\")\n",
    "dask_cluster.save()"
   ]
  },
  {
   "cell_type": "code",
   "execution_count": 5,
   "metadata": {},
   "outputs": [
    {
     "name": "stdout",
     "output_type": "stream",
     "text": [
      "> 2021-02-17 16:25:42,905 [info] starting run tasks-describe uid=e813ec0d74b945d8914f3fc57d2afd1d DB=http://mlrun-api:8080\n",
      "> 2021-02-17 16:25:43,062 [info] Job is running in the background, pod: tasks-describe-xhbkf\n",
      "> 2021-02-17 16:25:48,120 [info] using in-cluster config.\n",
      "> 2021-02-17 16:25:53,324 [info] to get a dashboard link, use NodePort service_type\n",
      "> 2021-02-17 16:25:53,324 [info] trying dask client at: tcp://mlrun-dask-tests-ec7e95be-2.default-tenant:8786\n",
      "> 2021-02-17 16:25:53,354 [info] using remote dask scheduler (mlrun-dask-tests-ec7e95be-2) at: tcp://mlrun-dask-tests-ec7e95be-2.default-tenant:8786\n",
      "> 2021-02-17 16:26:01,651 [info] run executed, status=completed\n",
      "final state: completed\n"
     ]
    },
    {
     "data": {
      "text/html": [
       "<style>\n",
       ".dictlist {\n",
       "  background-color: #4EC64B;\n",
       "  text-align: center;\n",
       "  margin: 4px;\n",
       "  border-radius: 3px; padding: 0px 3px 1px 3px; display: inline-block;}\n",
       ".artifact {\n",
       "  cursor: pointer;\n",
       "  background-color: #4EC64B;\n",
       "  text-align: left;\n",
       "  margin: 4px; border-radius: 3px; padding: 0px 3px 1px 3px; display: inline-block;\n",
       "}\n",
       "div.block.hidden {\n",
       "  display: none;\n",
       "}\n",
       ".clickable {\n",
       "  cursor: pointer;\n",
       "}\n",
       ".ellipsis {\n",
       "  display: inline-block;\n",
       "  max-width: 60px;\n",
       "  white-space: nowrap;\n",
       "  overflow: hidden;\n",
       "  text-overflow: ellipsis;\n",
       "}\n",
       ".master-wrapper {\n",
       "  display: flex;\n",
       "  flex-flow: row nowrap;\n",
       "  justify-content: flex-start;\n",
       "  align-items: stretch;\n",
       "}\n",
       ".master-tbl {\n",
       "  flex: 3\n",
       "}\n",
       ".master-wrapper > div {\n",
       "  margin: 4px;\n",
       "  padding: 10px;\n",
       "}\n",
       "iframe.fileview {\n",
       "  border: 0 none;\n",
       "  height: 100%;\n",
       "  width: 100%;\n",
       "  white-space: pre-wrap;\n",
       "}\n",
       ".pane-header-title {\n",
       "  width: 80%;\n",
       "  font-weight: 500;\n",
       "}\n",
       ".pane-header {\n",
       "  line-height: 1;\n",
       "  background-color: #4EC64B;\n",
       "  padding: 3px;\n",
       "}\n",
       ".pane-header .close {\n",
       "  font-size: 20px;\n",
       "  font-weight: 700;\n",
       "  float: right;\n",
       "  margin-top: -5px;\n",
       "}\n",
       ".master-wrapper .right-pane {\n",
       "  border: 1px inset silver;\n",
       "  width: 40%;\n",
       "  min-height: 300px;\n",
       "  flex: 3\n",
       "  min-width: 500px;\n",
       "}\n",
       ".master-wrapper * {\n",
       "  box-sizing: border-box;\n",
       "}\n",
       "</style><script>\n",
       "function copyToClipboard(fld) {\n",
       "    if (document.queryCommandSupported && document.queryCommandSupported('copy')) {\n",
       "        var textarea = document.createElement('textarea');\n",
       "        textarea.textContent = fld.innerHTML;\n",
       "        textarea.style.position = 'fixed';\n",
       "        document.body.appendChild(textarea);\n",
       "        textarea.select();\n",
       "\n",
       "        try {\n",
       "            return document.execCommand('copy'); // Security exception may be thrown by some browsers.\n",
       "        } catch (ex) {\n",
       "\n",
       "        } finally {\n",
       "            document.body.removeChild(textarea);\n",
       "        }\n",
       "    }\n",
       "}\n",
       "function expandPanel(el) {\n",
       "  const panelName = \"#\" + el.getAttribute('paneName');\n",
       "  console.log(el.title);\n",
       "\n",
       "  document.querySelector(panelName + \"-title\").innerHTML = el.title\n",
       "  iframe = document.querySelector(panelName + \"-body\");\n",
       "\n",
       "  const tblcss = `<style> body { font-family: Arial, Helvetica, sans-serif;}\n",
       "    #csv { margin-bottom: 15px; }\n",
       "    #csv table { border-collapse: collapse;}\n",
       "    #csv table td { padding: 4px 8px; border: 1px solid silver;} </style>`;\n",
       "\n",
       "  function csvToHtmlTable(str) {\n",
       "    return '<div id=\"csv\"><table><tr><td>' +  str.replace(/[\\n\\r]+$/g, '').replace(/[\\n\\r]+/g, '</td></tr><tr><td>')\n",
       "      .replace(/,/g, '</td><td>') + '</td></tr></table></div>';\n",
       "  }\n",
       "\n",
       "  function reqListener () {\n",
       "    if (el.title.endsWith(\".csv\")) {\n",
       "      iframe.setAttribute(\"srcdoc\", tblcss + csvToHtmlTable(this.responseText));\n",
       "    } else {\n",
       "      iframe.setAttribute(\"srcdoc\", this.responseText);\n",
       "    }\n",
       "    console.log(this.responseText);\n",
       "  }\n",
       "\n",
       "  const oReq = new XMLHttpRequest();\n",
       "  oReq.addEventListener(\"load\", reqListener);\n",
       "  oReq.open(\"GET\", el.title);\n",
       "  oReq.send();\n",
       "\n",
       "\n",
       "  //iframe.src = el.title;\n",
       "  const resultPane = document.querySelector(panelName + \"-pane\");\n",
       "  if (resultPane.classList.contains(\"hidden\")) {\n",
       "    resultPane.classList.remove(\"hidden\");\n",
       "  }\n",
       "}\n",
       "function closePanel(el) {\n",
       "  const panelName = \"#\" + el.getAttribute('paneName')\n",
       "  const resultPane = document.querySelector(panelName + \"-pane\");\n",
       "  if (!resultPane.classList.contains(\"hidden\")) {\n",
       "    resultPane.classList.add(\"hidden\");\n",
       "  }\n",
       "}\n",
       "\n",
       "</script>\n",
       "<div class=\"master-wrapper\">\n",
       "  <div class=\"block master-tbl\"><div>\n",
       "<style scoped>\n",
       "    .dataframe tbody tr th:only-of-type {\n",
       "        vertical-align: middle;\n",
       "    }\n",
       "\n",
       "    .dataframe tbody tr th {\n",
       "        vertical-align: top;\n",
       "    }\n",
       "\n",
       "    .dataframe thead th {\n",
       "        text-align: right;\n",
       "    }\n",
       "</style>\n",
       "<table border=\"1\" class=\"dataframe\">\n",
       "  <thead>\n",
       "    <tr style=\"text-align: right;\">\n",
       "      <th>project</th>\n",
       "      <th>uid</th>\n",
       "      <th>iter</th>\n",
       "      <th>start</th>\n",
       "      <th>state</th>\n",
       "      <th>name</th>\n",
       "      <th>labels</th>\n",
       "      <th>inputs</th>\n",
       "      <th>parameters</th>\n",
       "      <th>results</th>\n",
       "      <th>artifacts</th>\n",
       "    </tr>\n",
       "  </thead>\n",
       "  <tbody>\n",
       "    <tr>\n",
       "      <td>default</td>\n",
       "      <td><div title=\"e813ec0d74b945d8914f3fc57d2afd1d\"><a href=\"https://dashboard.default-tenant.app.function-marketpace.iguazio-cd0.com/mlprojects/default/jobs/monitor/e813ec0d74b945d8914f3fc57d2afd1d/info\" target=\"_blank\" >...7d2afd1d</a></div></td>\n",
       "      <td>0</td>\n",
       "      <td>Feb 17 16:25:48</td>\n",
       "      <td>completed</td>\n",
       "      <td>tasks-describe</td>\n",
       "      <td><div class=\"dictlist\">v3io_user=eyals</div><div class=\"dictlist\">kind=job</div><div class=\"dictlist\">owner=eyals</div><div class=\"dictlist\">host=tasks-describe-xhbkf</div></td>\n",
       "      <td><div class=\"artifact\" onclick=\"expandPanel(this)\" paneName=\"resultc9813edb\" title=\"/files/iris.csv\">dataset</div></td>\n",
       "      <td><div class=\"dictlist\">label_column=label</div><div class=\"dictlist\">dask_function=db://default/dask_tests</div></td>\n",
       "      <td><div class=\"dictlist\">scale_pos_weight=1.00</div></td>\n",
       "      <td><div class=\"artifact\" onclick=\"expandPanel(this)\" paneName=\"resultc9813edb\" title=\"/files/functions/describe_dask/plots/hist.html\">histograms</div><div class=\"artifact\" onclick=\"expandPanel(this)\" paneName=\"resultc9813edb\" title=\"/files/functions/describe_dask/plots/imbalance.html\">imbalance</div><div class=\"artifact\" onclick=\"expandPanel(this)\" paneName=\"resultc9813edb\" title=\"/files/functions/describe_dask/plots/corr.html\">correlation</div></td>\n",
       "    </tr>\n",
       "  </tbody>\n",
       "</table>\n",
       "</div></div>\n",
       "  <div id=\"resultc9813edb-pane\" class=\"right-pane block hidden\">\n",
       "    <div class=\"pane-header\">\n",
       "      <span id=\"resultc9813edb-title\" class=\"pane-header-title\">Title</span>\n",
       "      <span onclick=\"closePanel(this)\" paneName=\"resultc9813edb\" class=\"close clickable\">&times;</span>\n",
       "    </div>\n",
       "    <iframe class=\"fileview\" id=\"resultc9813edb-body\"></iframe>\n",
       "  </div>\n",
       "</div>\n"
      ],
      "text/plain": [
       "<IPython.core.display.HTML object>"
      ]
     },
     "metadata": {},
     "output_type": "display_data"
    },
    {
     "name": "stdout",
     "output_type": "stream",
     "text": [
      "to track results use .show() or .logs() or in CLI: \n",
      "!mlrun get run e813ec0d74b945d8914f3fc57d2afd1d --project default , !mlrun logs e813ec0d74b945d8914f3fc57d2afd1d --project default\n",
      "> 2021-02-17 16:26:02,284 [info] run executed, status=completed\n"
     ]
    }
   ],
   "source": [
    "from describe_dask import summarize\n",
    "\n",
    "run = fn.run(\n",
    "    name=\"tasks-describe\",\n",
    "    handler=summarize,\n",
    "    inputs={\"dataset\": DATA_URL},\n",
    "    params={\"label_column\": \"label\", \"dask_function\": \"db://default/dask_tests\"},\n",
    ")"
   ]
  },
  {
   "cell_type": "code",
   "execution_count": null,
   "metadata": {},
   "outputs": [],
   "source": []
  }
 ],
 "metadata": {
  "kernelspec": {
   "display_name": "Python 3",
   "language": "python",
   "name": "python3"
  },
  "language_info": {
   "codemirror_mode": {
    "name": "ipython",
    "version": 3
   },
   "file_extension": ".py",
   "mimetype": "text/x-python",
   "name": "python",
   "nbconvert_exporter": "python",
   "pygments_lexer": "ipython3",
   "version": "3.7.6"
  }
 },
 "nbformat": 4,
 "nbformat_minor": 4
}
