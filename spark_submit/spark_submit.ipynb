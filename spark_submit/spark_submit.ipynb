{
 "cells": [
  {
   "cell_type": "markdown",
   "metadata": {},
   "source": [
    "# Submiting spark"
   ]
  },
  {
   "cell_type": "code",
   "execution_count": null,
   "metadata": {},
   "outputs": [],
   "source": [
    "#!pip install mlrun"
   ]
  },
  {
   "cell_type": "code",
   "execution_count": 1,
   "metadata": {},
   "outputs": [],
   "source": [
    "# nuclio: ignore\n",
    "import nuclio"
   ]
  },
  {
   "cell_type": "markdown",
   "metadata": {},
   "source": [
    "Define the MLRun environment"
   ]
  },
  {
   "cell_type": "code",
   "execution_count": 2,
   "metadata": {},
   "outputs": [
    {
     "name": "stdout",
     "output_type": "stream",
     "text": [
      "%nuclio: setting kind to 'job'\n",
      "%nuclio: setting spec.image to 'mlrun/mlrun'\n"
     ]
    }
   ],
   "source": [
    "%nuclio config kind = \"job\"\n",
    "%nuclio config spec.image = \"mlrun/mlrun\""
   ]
  },
  {
   "cell_type": "markdown",
   "metadata": {},
   "source": [
    "## Function"
   ]
  },
  {
   "cell_type": "code",
   "execution_count": 65,
   "metadata": {},
   "outputs": [],
   "source": [
    "from mlrun import get_or_create_ctx\n",
    "from kubernetes import config, client\n",
    "from kubernetes.stream import stream\n",
    "import yaml\n",
    "from pathlib import Path\n",
    "import os"
   ]
  },
  {
   "cell_type": "code",
   "execution_count": 8,
   "metadata": {},
   "outputs": [],
   "source": [
    "class K8SClient(object):\n",
    "\n",
    "    def __init__(self, logger, namespace='default-tenant', config_file=None):\n",
    "        self.namespace = namespace\n",
    "        self.logger = logger\n",
    "        self._init_k8s_config(config_file)\n",
    "        self.v1api = client.CoreV1Api()\n",
    "\n",
    "    def _init_k8s_config(self, config_file):\n",
    "        try:\n",
    "            config.load_incluster_config()\n",
    "            self.logger.info('using in-cluster config.')\n",
    "        except Exception:\n",
    "            try:\n",
    "                config.load_kube_config(config_file)\n",
    "                self.logger.info('using local kubernetes config.')\n",
    "            except Exception:\n",
    "                raise RuntimeError(\n",
    "                    'cannot find local kubernetes config file,'\n",
    "                    ' place it in ~/.kube/config or specify it in '\n",
    "                    'KUBECONFIG env var')\n",
    "\n",
    "    def get_shell_pod_name(self, pod_name='shell'):\n",
    "        shell_pod = self.v1api.list_namespaced_pod(namespace=self.namespace)\n",
    "        for i in shell_pod.items:\n",
    "            if pod_name in i.metadata.name:\n",
    "                self.logger.info(\"%s\\t%s\\t%s\" % (i.status.pod_ip, i.metadata.namespace, i.metadata.name))\n",
    "                shell_name = i.metadata.name\n",
    "                break\n",
    "        return shell_name\n",
    "\n",
    "    def exec_shell_cmd(self, cmd, shell_pod_name = 'shell'):\n",
    "        shell_name = self.get_shell_pod_name(shell_pod_name)\n",
    "        # Calling exec and waiting for response\n",
    "        exec_command = [\n",
    "            '/bin/bash',\n",
    "            '-c',\n",
    "            cmd]\n",
    "        resp = stream(self.v1api.connect_get_namespaced_pod_exec,\n",
    "                      shell_name,\n",
    "                      self.namespace,\n",
    "                      command=exec_command,\n",
    "                      stderr=True, stdin=False,\n",
    "                      stdout=True, tty=False,_preload_content=False)\n",
    "        \n",
    "        \n",
    "        stderr = []\n",
    "        stdout = []\n",
    "        while resp.is_open():\n",
    "            resp.update(timeout=None)\n",
    "            if resp.peek_stderr():\n",
    "                 stderr.append(resp.read_stderr())\n",
    "            if resp.peek_stdout():\n",
    "                 stdout.append(resp.read_stdout())\n",
    "           \n",
    "        err = resp.read_channel(3)\n",
    "        err = yaml.safe_load(err)\n",
    "        if err['status'] == 'Success':\n",
    "            rc = 0\n",
    "        else:\n",
    "            rc = int(err['details']['causes'][0]['message'])\n",
    "        \n",
    "        stdout_formated=''\n",
    "        for each in stdout:\n",
    "            stdout_formated += each\n",
    "        self.logger.info(\"STDOUT: %s\"% stdout_formated)\n",
    "        self.logger.info(\"RC: %s\"% rc)\n",
    "        \n",
    "        stderr_formated=''\n",
    "        for each in stderr:\n",
    "            stderr_formated += each\n",
    "        if rc != 0:\n",
    "            self.logger.info(\"STDERR: %s\"% stderr_formated)\n",
    "            raise Exception('Execution_error', stderr_formated + stdout_formated)\n",
    "    \n",
    "def nb_or_py(pyspark_command):\n",
    "    if pyspark_command.endswith('.ipynb'):\n",
    "        from mlrun import code_to_function\n",
    "        dir = Path(pyspark_command).parent\n",
    "        file =  Path(pyspark_command).stem\n",
    "        python_file = os.path.join(dir,file +'.py')\n",
    "        code_to_function(kind=\"local\",filename=pyspark_command,code_output=python_file)\n",
    "        return python_file\n",
    "    else:\n",
    "        return pyspark_command     \n",
    "\n",
    "\n",
    "def spark_command_builder(name, class_name, jars, packages, spark_options,pyspark_command='',pyspark_params=''):\n",
    "    cmd = 'spark-submit'\n",
    "    if name:\n",
    "        cmd += ' --name ' + name\n",
    "\n",
    "    if class_name:\n",
    "        cmd += ' --class ' + class_name\n",
    "\n",
    "    if jars:\n",
    "        cmd += ' --jars ' + jars\n",
    "\n",
    "    if packages:\n",
    "        cmd += ' --packages ' + packages\n",
    "\n",
    "    if spark_options:\n",
    "        cmd += ' ' + spark_options\n",
    "\n",
    "    if pyspark_command:\n",
    "        cmd += ' ' + nb_or_py(pyspark_command)\n",
    "            \n",
    "    if pyspark_params:\n",
    "        cmd += ' ' + pyspark_params\n",
    "        \n",
    "    return cmd\n",
    "\n",
    "\n",
    "def spark_submit(context, v3io_access_key, name=None, class_name=None, jars=None, packages=None, spark_options='',pyspark_command='',pyspark_params=''):\n",
    "    \"\"\"spark_submit function\n",
    "    \n",
    "    submiting spark via shell\n",
    "    \n",
    "    :param name:        A name of your application.\n",
    "    :param class_name:  Your application's main class (for Java / Scala apps).\n",
    "                        * If relative will add to the {artifact_path}\n",
    "    :param jars:        Comma-separated list of jars to include on the driver\n",
    "                        and executor classpaths.\n",
    "    :param packages:    Comma-separated list of maven coordinates of jars to include\n",
    "                        on the driver and executor classpaths. Will search the local\n",
    "                        maven repo, then maven central and any additional remote\n",
    "                        repositories given by --repositories. The format for the\n",
    "    :param spark_options: spark parametes that are not included as function arguments\n",
    "    :param pyspark_command: A python script or Jupyter notebook to be executed\n",
    "    :param pyspark_params:  parameters to the python script\n",
    "\n",
    "    \"\"\"\n",
    "    cmd = spark_command_builder(name, class_name, jars, packages, spark_options,pyspark_command,pyspark_params)\n",
    "    context.logger.info(\"submiting :\" + cmd)\n",
    "\n",
    "    cli = K8SClient(context.logger)\n",
    "    cli.exec_shell_cmd(cmd)\n"
   ]
  },
  {
   "cell_type": "code",
   "execution_count": 9,
   "metadata": {},
   "outputs": [],
   "source": [
    "# nuclio: end-code"
   ]
  },
  {
   "cell_type": "markdown",
   "metadata": {},
   "source": [
    "## Test\n",
    "> This test uses the metrics data, created by the [Generator function](https://github.com/mlrun/demo-network-operations/blob/master/notebooks/generator.ipynb) from MLRun's [Network Operations Demo](https://github.com/mlrun/demo-network-operations)  \n",
    "To test it yourself, please generate this dataset or use any of your available csv/parquet datasets."
   ]
  },
  {
   "cell_type": "code",
   "execution_count": 10,
   "metadata": {},
   "outputs": [],
   "source": [
    "import os\n",
    "from mlrun import code_to_function, mount_v3io, NewTask, mlconf, run_local\n",
    "mlconf.dbpath = mlconf.dbpath or 'http://mlrun-api:8080'\n",
    "mlconf.artifact_path = mlconf.artifact_path or f'{os.environ[\"HOME\"]}/artifacts'"
   ]
  },
  {
   "cell_type": "code",
   "execution_count": null,
   "metadata": {},
   "outputs": [],
   "source": []
  },
  {
   "cell_type": "markdown",
   "metadata": {},
   "source": [
    "### Define the execute test task"
   ]
  },
  {
   "cell_type": "code",
   "execution_count": 14,
   "metadata": {},
   "outputs": [],
   "source": [
    "execute_task = NewTask(name='spark-submit',\n",
    "                         project='submit-proj',\n",
    "                         params={'pyspark_command':\"/User/tmp/test.ipynb\", \"pyspark_params\": \"12\"},\n",
    "                         handler=spark_submit)\n",
    "\n",
    "## Java Example parameters\n",
    "#params={'spark_options':\"/spark/examples/jars/spark-examples_2.11-2.4.4.jar 10\",'class_name':'org.apache.spark.examples.SparkPi'},"
   ]
  },
  {
   "cell_type": "code",
   "execution_count": 15,
   "metadata": {},
   "outputs": [],
   "source": [
    "#submit_run = run_local(submit_task)"
   ]
  },
  {
   "cell_type": "markdown",
   "metadata": {},
   "source": [
    "### Test on cluster"
   ]
  },
  {
   "cell_type": "markdown",
   "metadata": {},
   "source": [
    "Convert the code to an MLRun function"
   ]
  },
  {
   "cell_type": "code",
   "execution_count": 16,
   "metadata": {},
   "outputs": [
    {
     "name": "stdout",
     "output_type": "stream",
     "text": [
      "> 2020-08-15 19:53:28,424 [info] function spec saved to path: function.yaml\n"
     ]
    },
    {
     "data": {
      "text/plain": [
       "<mlrun.runtimes.kubejob.KubejobRuntime at 0x7f5726565210>"
      ]
     },
     "execution_count": 16,
     "metadata": {},
     "output_type": "execute_result"
    }
   ],
   "source": [
    "fn = code_to_function('submit', handler='spark_submit')\n",
    "fn.spec.service_account='mlrun-api'\n",
    "fn.apply(mount_v3io())\n",
    "fn.export('function.yaml')"
   ]
  },
  {
   "cell_type": "code",
   "execution_count": 93,
   "metadata": {},
   "outputs": [
    {
     "name": "stdout",
     "output_type": "stream",
     "text": [
      "> 2020-08-13 20:50:11,616 [info] starting run spark-submit uid=8d73b4dd55d247689fa68cd83d1b3811  -> http://mlrun-api:8080\n",
      "> 2020-08-13 20:50:11,774 [info] Job is running in the background, pod: spark-submit-gvhfd\n",
      "> 2020-08-13 20:50:19,567 [info] submiting :spark-submit /User/tmp/test.py\n",
      "> 2020-08-13 20:50:19,568 [info] ENV :environ({'PATH': '/usr/local/bin:/usr/local/sbin:/usr/local/bin:/usr/sbin:/usr/bin:/sbin:/bin', 'HOSTNAME': 'spark-submit-gvhfd', 'V3IO_USERNAME': 'admin', 'V3IO_ACCESS_KEY': '9dce1ad2-ba7f-411b-a267-a12ee278bb91', 'MLRUN_EXEC_CONFIG': '{\"spec\": {\"parameters\": {\"pyspark_command\": \"/User/tmp/test.ipynb\"}, \"outputs\": [], \"output_path\": \"/User/artifacts\", \"function\": \"default/submit@1243a93ec5cef9bc7d8bbfabc6200e17bea217ff\", \"secret_sources\": [], \"scrape_metrics\": false, \"handler\": \"spark_submit\"}, \"metadata\": {\"uid\": \"8d73b4dd55d247689fa68cd83d1b3811\", \"name\": \"spark-submit\", \"project\": \"submit-proj\", \"labels\": {\"v3io_user\": \"admin\", \"kind\": \"job\", \"owner\": \"admin\"}, \"iteration\": 0}, \"status\": {\"state\": \"created\"}}', 'MLRUN_EXEC_CODE': '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', 'V3IO_API': 'v3io-webapi.default-tenant.svc:8081', 'DOCKER_REGISTRY_PORT_5000_TCP': 'tcp://10.199.129.54:5000', 'PRESTO_PORT_8080_TCP_PROTO': 'tcp', 'ADMIN_JUPYTER_PORT': 'tcp://10.192.19.142:8080', 'NUCLIO_FILES_WATCHER_PORT_8080_TCP_ADDR': '10.198.207.197', 'METADATA_SERVICE_SERVICE_PORT': '8080', 'MYSQL_SERVICE_PORT_MYSQL': '3306', 'V3IO_WEBAPI_PORT_8443_TCP': 'tcp://10.197.140.128:8443', 'FRAMESD_SERVICE_HOST': '10.195.81.133', 'NUCLIO_SK_PROJECT_SKLEARN_SERVER_V2_PORT_8080_TCP_PORT': '8080', 'MONITORING_PROMETHEUS_SERVER_SERVICE_PORT_HTTP': '80', 'FRAMESD_PORT_8080_TCP_PROTO': 'tcp', 'V3IO_WEBAPI_PORT_8081_TCP': 'tcp://10.197.140.128:8081', 'NUCLIO_IMG_TEXT_MENU_OCR_PORT_8090_TCP': 'tcp://10.197.129.12:8090', 'FRAMESD_PORT': 'tcp://10.195.81.133:8080', 'MARIADB_PORT_3306_TCP_PROTO': 'tcp', 'PRESTO_PORT_8080_TCP_PORT': '8080', 'V3IOD_LOCATOR_PORT_8080_TCP_PORT': '8080', 'ADMIN_JUPYTER_PORT_8080_TCP_PORT': '8080', 'NUCLIO_SK_PROJECT_SKLEARN_SERVER_V2_PORT_8090_TCP_ADDR': '10.198.77.78', 'NUCLIO_GETTING_STARTED_IRIS_ADMIN_GETTING_STARTED_SERVING_PORT_8080_TCP_ADDR': '10.199.123.227', 'NUCLIO_GETTING_STARTED_IRIS_ADMIN_SKLEARN_SERVER_SERVICE_PORT_METRICS': '8090', 'SPARK_WEBUI_PORT': 'tcp://10.199.139.33:8080', 'ML_PIPELINE_PORT': 'tcp://10.195.14.68:8888', 'NUCLIO_GIT_TEST_SH_PORT_8090_TCP_PORT': '8090', 'NUCLIO_GETTING_STARTED_IRIS_ADMIN_SKLEARN_SERVER_PORT_8080_TCP_ADDR': '10.198.220.214', 'V3IO_WEBAPI_SERVICE_PORT': '8081', 'GRAFANA_PORT_80_TCP_ADDR': '10.193.148.141', 'V3IO_WEBAPI_PORT_8443_TCP_ADDR': '10.197.140.128', 'NUCLIO_IMG_TEXT_MENU_OCR_SERVICE_HOST': '10.197.129.12', 'FRAMESD_PORT_8081_TCP_PROTO': 'tcp', 'ADMIN_JUPYTER_PORT_8080_TCP': 'tcp://10.192.19.142:8080', 'MARIADB_PORT_3306_TCP': 'tcp://10.193.66.192:3306', 'KUBERNETES_SERVICE_HOST': '10.192.0.1', 'KUBERNETES_PORT_443_TCP': 'tcp://10.192.0.1:443', 'MONITORING_PROMETHEUS_SERVER_SERVICE_PORT': '80', 'MONITORING_PROMETHEUS_SERVER_PORT_80_TCP': 'tcp://10.194.1.18:80', 'ML_PIPELINE_UI_SERVICE_HOST': '10.193.42.72', 'FRAMESD_SERVICE_PORT': '8080', 'NUCLIO_FILES_WATCHER_PORT_8090_TCP': 'tcp://10.198.207.197:8090', 'ML_PIPELINE_VISUALIZATIONSERVER_PORT_8888_TCP_PORT': '8888', 'SPARK_WEBUI_SERVICE_PORT': '8080', 'MARIADB_PORT_3306_TCP_PORT': '3306', 'KUBERNETES_PORT_443_TCP_ADDR': '10.192.0.1', 'SPARK_MASTER_SERVICE_PORT': '7077', 'METRICS_SERVER_EXPORTER_SERVICE_PORT': '9104', 'NUCLIO_DASHBOARD_PORT_8070_TCP': 'tcp://10.195.44.112:8070', 'NUCLIO_GIT_TEST_SH_PORT_8080_TCP_ADDR': '10.197.52.218', 'NUCLIO_DLX_PORT_8080_TCP_PORT': '8080', 'NUCLIO_GETTING_STARTED_IRIS_ADMIN_SKLEARN_SERVER_SERVICE_PORT_HTTP': '8080', 'MLRUN_API_PORT_8080_TCP': 'tcp://10.199.178.177:8080', 'TILLER_DEPLOY_SERVICE_PORT_TILLER': '44134', 'NUCLIO_DLX_SERVICE_HOST': '10.199.201.20', 'KUBERNETES_PORT': 'tcp://10.192.0.1:443', 'ML_PIPELINE_VISUALIZATIONSERVER_PORT': 'tcp://10.192.61.210:8888', 'V3IO_WEBAPI_SERVICE_PORT_WEB_API_HTTP': '8081', 'V3IO_WEBAPI_PORT_8081_TCP_PORT': '8081', 'HIVE_PORT_9083_TCP_PORT': '9083', 'ML_PIPELINE_UI_PORT_80_TCP_ADDR': '10.193.42.72', 'NUCLIO_SK_PROJECT_SKLEARN_SERVER_V2_PORT_8090_TCP_PROTO': 'tcp', 'NUCLIO_FILES_WATCHER_PORT_8080_TCP_PORT': '8080', 'MLRUN_API_SERVICE_PORT_HTTP': '8080', 'V3IOD_LOCATOR_PORT_8080_TCP_PROTO': 'tcp', 'ML_PIPELINE_UI_PORT': 'tcp://10.193.42.72:80', 'METADATA_SERVICE_PORT_8080_TCP_PROTO': 'tcp', 'NUCLIO_DLX_PORT_8080_TCP': 'tcp://10.199.201.20:8080', 'NUCLIO_GETTING_STARTED_IRIS_ADMIN_GETTING_STARTED_SERVING_PORT_8090_TCP_ADDR': '10.199.123.227', 'ML_PIPELINE_VISUALIZATIONSERVER_SERVICE_PORT': '8888', 'SHELL_SERVICE_PORT': '8080', 'NUCLIO_SK_PROJECT_SKLEARN_SERVER_V2_PORT_8080_TCP_PROTO': 'tcp', 'MARIADB_PORT_3306_TCP_ADDR': '10.193.66.192', 'NUCLIO_GIT_TEST_SH_PORT': 'tcp://10.197.52.218:8080', 'V3IO_WEBAPI_SERVICE_PORT_WEB_API_HTTPS': '8443', 'ML_PIPELINE_UI_PORT_80_TCP_PORT': '80', 'SPARK_WEBUI_PORT_8080_TCP': 'tcp://10.199.139.33:8080', 'FRAMESD_PORT_8081_TCP_ADDR': '10.195.81.133', 'SHELL_PORT_8080_TCP_PORT': '8080', 'NUCLIO_FILES_WATCHER_SERVICE_HOST': '10.198.207.197', 'NUCLIO_GETTING_STARTED_IRIS_ADMIN_GETTING_STARTED_SERVING_SERVICE_PORT': '8080', 'GRAFANA_PORT': 'tcp://10.193.148.141:80', 'MARCELO_JUPYTER_PORT_8080_TCP': 'tcp://10.197.203.190:8080', 'SPARK_WEBUI_SERVICE_HOST': '10.199.139.33', 'NUCLIO_IMG_TEXT_MENU_OCR_PORT': 'tcp://10.197.129.12:8080', 'MONITORING_PROMETHEUS_SERVER_PORT_80_TCP_PROTO': 'tcp', 'NUCLIO_FILES_WATCHER_SERVICE_PORT_METRICS': '8090', 'MYSQL_PORT_3306_TCP': 'tcp://10.192.99.140:3306', 'ML_PIPELINE_VISUALIZATIONSERVER_PORT_8888_TCP': 'tcp://10.192.61.210:8888', 'NUCLIO_GETTING_STARTED_IRIS_ADMIN_SKLEARN_SERVER_PORT_8090_TCP_ADDR': '10.198.220.214', 'MONITORING_PROMETHEUS_SERVER_SERVICE_HOST': '10.194.1.18', 'NUCLIO_IMG_TEXT_MENU_OCR_PORT_8090_TCP_PORT': '8090', 'ML_PIPELINE_PORT_8888_TCP': 'tcp://10.195.14.68:8888', 'FRAMESD_PORT_8081_TCP': 'tcp://10.195.81.133:8081', 'NUCLIO_GETTING_STARTED_IRIS_ADMIN_SKLEARN_SERVER_PORT': 'tcp://10.198.220.214:8080', 'SPARK_WEBUI_PORT_8080_TCP_PORT': '8080', 'DOCKER_REGISTRY_PORT_5000_TCP_ADDR': '10.199.129.54', 'METRICS_SERVER_EXPORTER_PORT_9104_TCP_PORT': '9104', 'NUCLIO_DLX_PORT_8080_TCP_ADDR': '10.199.201.20', 'GRAFANA_SERVICE_PORT': '80', 'NUCLIO_IMG_TEXT_MENU_OCR_PORT_8080_TCP_PROTO': 'tcp', 'NUCLIO_FILES_WATCHER_PORT': 'tcp://10.198.207.197:8080', 'DOCKER_REGISTRY_SERVICE_HOST': '10.199.129.54', 'PRESTO_PORT_8080_TCP': 'tcp://10.198.206.206:8080', 'ML_PIPELINE_PORT_8887_TCP_PROTO': 'tcp', 'MLRUN_UI_SERVICE_HOST': '10.198.98.248', 'METADATA_ENVOY_SERVICE_PORT': 'tcp://10.198.121.236:9090', 'DOCKER_REGISTRY_SERVICE_PORT_REGISTRY': '5000', 'DOCKER_REGISTRY_PORT': 'tcp://10.199.129.54:5000', 'METRICS_SERVER_EXPORTER_PORT_9104_TCP': 'tcp://10.198.224.2:9104', 'MARCELO_JUPYTER_PORT_8080_TCP_ADDR': '10.197.203.190', 'NUCLIO_FILES_WATCHER_PORT_8090_TCP_ADDR': '10.198.207.197', 'MLRUN_UI_PORT_80_TCP_PORT': '80', 'PRESTO_PORT_8443_TCP_PORT': '8443', 'NUCLIO_IMG_TEXT_MENU_OCR_SERVICE_PORT_METRICS': '8090', 'NUCLIO_GIT_TEST_SH_PORT_8080_TCP': 'tcp://10.197.52.218:8080', 'NUCLIO_GIT_TEST_SH_PORT_8080_TCP_PROTO': 'tcp', 'METADATA_SERVICE_SERVICE_HOST': '10.194.167.161', 'GRAFANA_SERVICE_PORT_SERVICE': '80', 'NUCLIO_GETTING_STARTED_IRIS_ADMIN_SKLEARN_SERVER_PORT_8080_TCP_PROTO': 'tcp', 'NUCLIO_IMG_TEXT_MENU_OCR_SERVICE_PORT_HTTP': '8080', 'ML_PIPELINE_PORT_8888_TCP_PROTO': 'tcp', 'ML_PIPELINE_PORT_8887_TCP_PORT': '8887', 'FRAMESD_PORT_8080_TCP_PORT': '8080', 'NUCLIO_GIT_TEST_SH_SERVICE_PORT': '8080', 'MLRUN_UI_SERVICE_PORT_HTTP': '80', 'ML_PIPELINE_PORT_8888_TCP_PORT': '8888', 'NUCLIO_SK_PROJECT_SKLEARN_SERVER_V2_PORT': 'tcp://10.198.77.78:8080', 'NUCLIO_GIT_TEST_SH_SERVICE_PORT_METRICS': '8090', 'NUCLIO_DLX_SERVICE_PORT_PROXY': '8080', 'KUBERNETES_PORT_443_TCP_PORT': '443', 'ML_PIPELINE_VISUALIZATIONSERVER_PORT_8888_TCP_PROTO': 'tcp', 'TILLER_DEPLOY_PORT': 'tcp://10.197.43.42:44134', 'TILLER_DEPLOY_PORT_44134_TCP': 'tcp://10.197.43.42:44134', 'GRAFANA_PORT_80_TCP_PROTO': 'tcp', 'METADATA_ENVOY_SERVICE_SERVICE_HOST': '10.198.121.236', 'NUCLIO_GETTING_STARTED_IRIS_ADMIN_SKLEARN_SERVER_SERVICE_HOST': '10.198.220.214', 'HIVE_SERVICE_PORT_METASTORE': '9083', 'SHELL_SERVICE_PORT_TTYD': '8080', 'NUCLIO_DASHBOARD_PORT': 'tcp://10.195.44.112:8070', 'METADATA_SERVICE_SERVICE_PORT_MD_BACKENDAPI': '8080', 'METADATA_SERVICE_PORT_8080_TCP_PORT': '8080', 'PRESTO_SERVICE_PORT': '8080', 'PRESTO_SERVICE_PORT_HTTP_COORD': '8080', 'PRESTO_PORT_8443_TCP': 'tcp://10.198.206.206:8443', 'ADMIN_JUPYTER_SERVICE_PORT': '8080', 'NUCLIO_GIT_TEST_SH_SERVICE_PORT_HTTP': '8080', 'METADATA_ENVOY_SERVICE_SERVICE_PORT': '9090', 'METADATA_ENVOY_SERVICE_PORT_9090_TCP_PORT': '9090', 'V3IO_WEBAPI_PORT_8443_TCP_PORT': '8443', 'NUCLIO_DLX_PORT': 'tcp://10.199.201.20:8080', 'NUCLIO_GETTING_STARTED_IRIS_ADMIN_GETTING_STARTED_SERVING_PORT_8080_TCP': 'tcp://10.199.123.227:8080', 'V3IO_WEBAPI_PORT_8443_TCP_PROTO': 'tcp', 'MONITORING_PROMETHEUS_SERVER_PORT_80_TCP_ADDR': '10.194.1.18', 'FRAMESD_SERVICE_PORT_GRPC': '8081', 'NUCLIO_DLX_PORT_8080_TCP_PROTO': 'tcp', 'TILLER_DEPLOY_PORT_44134_TCP_PORT': '44134', 'TILLER_DEPLOY_PORT_44134_TCP_ADDR': '10.197.43.42', 'METRICS_SERVER_EXPORTER_PORT': 'tcp://10.198.224.2:9104', 'MONITORING_PROMETHEUS_SERVER_PORT': 'tcp://10.194.1.18:80', 'ML_PIPELINE_PORT_8887_TCP': 'tcp://10.195.14.68:8887', 'NUCLIO_DASHBOARD_SERVICE_HOST': '10.195.44.112', 'MLRUN_UI_PORT_80_TCP_PROTO': 'tcp', 'TILLER_DEPLOY_SERVICE_HOST': '10.197.43.42', 'METRICS_SERVER_EXPORTER_PORT_9104_TCP_ADDR': '10.198.224.2', 'NUCLIO_GETTING_STARTED_IRIS_ADMIN_SKLEARN_SERVER_PORT_8080_TCP': 'tcp://10.198.220.214:8080', 'V3IO_WEBAPI_PORT_8081_TCP_PROTO': 'tcp', 'SPARK_MASTER_PORT_7077_TCP_PROTO': 'tcp', 'FRAMESD_PORT_8080_TCP_ADDR': '10.195.81.133', 'NUCLIO_DASHBOARD_PORT_8070_TCP_PROTO': 'tcp', 'NUCLIO_GETTING_STARTED_IRIS_ADMIN_GETTING_STARTED_SERVING_SERVICE_HOST': '10.199.123.227', 'MYSQL_PORT_3306_TCP_ADDR': '10.192.99.140', 'ML_PIPELINE_VISUALIZATIONSERVER_SERVICE_PORT_HTTP': '8888', 'NUCLIO_GIT_TEST_SH_PORT_8090_TCP': 'tcp://10.197.52.218:8090', 'HIVE_PORT_9083_TCP_ADDR': '10.198.89.255', 'ML_PIPELINE_SERVICE_PORT': '8888', 'ML_PIPELINE_SERVICE_PORT_GRPC': '8887', 'ML_PIPELINE_UI_SERVICE_PORT': '80', 'MARIADB_SERVICE_HOST': '10.193.66.192', 'ML_PIPELINE_UI_PORT_80_TCP_PROTO': 'tcp', 'MARIADB_PORT': 'tcp://10.193.66.192:3306', 'NUCLIO_GETTING_STARTED_IRIS_ADMIN_SKLEARN_SERVER_PORT_8090_TCP_PROTO': 'tcp', 'V3IOD_LOCATOR_SERVICE_PORT': '8080', 'ML_PIPELINE_PORT_8888_TCP_ADDR': '10.195.14.68', 'METADATA_SERVICE_PORT_8080_TCP': 'tcp://10.194.167.161:8080', 'MLRUN_UI_PORT_80_TCP': 'tcp://10.198.98.248:80', 'MLRUN_UI_PORT_80_TCP_ADDR': '10.198.98.248', 'MLRUN_API_PORT_8080_TCP_PROTO': 'tcp', 'SPARK_MASTER_PORT_7077_TCP_ADDR': '10.198.18.155', 'V3IOD_LOCATOR_PORT': 'tcp://10.197.133.31:8080', 'NUCLIO_IMG_TEXT_MENU_OCR_PORT_8090_TCP_ADDR': '10.197.129.12', 'MARCELO_JUPYTER_SERVICE_HOST': '10.197.203.190', 'SHELL_PORT_8080_TCP': 'tcp://10.194.75.172:8080', 'ADMIN_JUPYTER_SERVICE_HOST': '10.192.19.142', 'MARIADB_SERVICE_PORT_MARIADB': '3306', 'NUCLIO_FILES_WATCHER_PORT_8080_TCP': 'tcp://10.198.207.197:8080', 'NUCLIO_DASHBOARD_PORT_8070_TCP_ADDR': '10.195.44.112', 'MYSQL_PORT_3306_TCP_PORT': '3306', 'ML_PIPELINE_VISUALIZATIONSERVER_PORT_8888_TCP_ADDR': '10.192.61.210', 'PRESTO_PORT_8080_TCP_ADDR': '10.198.206.206', 'NUCLIO_GETTING_STARTED_IRIS_ADMIN_GETTING_STARTED_SERVING_PORT': 'tcp://10.199.123.227:8080', 'GRAFANA_SERVICE_HOST': '10.193.148.141', 'SPARK_WEBUI_PORT_8080_TCP_PROTO': 'tcp', 'MLRUN_UI_SERVICE_PORT': '80', 'MYSQL_PORT': 'tcp://10.192.99.140:3306', 'NUCLIO_IMG_TEXT_MENU_OCR_PORT_8080_TCP_PORT': '8080', 'SPARK_MASTER_PORT': 'tcp://10.198.18.155:7077', 'SPARK_MASTER_PORT_7077_TCP': 'tcp://10.198.18.155:7077', 'ML_PIPELINE_SERVICE_PORT_HTTP': '8888', 'NUCLIO_GETTING_STARTED_IRIS_ADMIN_GETTING_STARTED_SERVING_PORT_8080_TCP_PORT': '8080', 'MLRUN_API_SERVICE_HOST': '10.199.178.177', 'MLRUN_API_SERVICE_PORT': '8080', 'MLRUN_API_PORT_8080_TCP_PORT': '8080', 'NUCLIO_FILES_WATCHER_PORT_8090_TCP_PORT': '8090', 'NUCLIO_GETTING_STARTED_IRIS_ADMIN_GETTING_STARTED_SERVING_PORT_8090_TCP': 'tcp://10.199.123.227:8090', 'NUCLIO_GETTING_STARTED_IRIS_ADMIN_GETTING_STARTED_SERVING_PORT_8090_TCP_PORT': '8090', 'PRESTO_PORT': 'tcp://10.198.206.206:8080', 'MYSQL_SERVICE_HOST': '10.192.99.140', 'METADATA_ENVOY_SERVICE_SERVICE_PORT_MD_ENVOY': '9090', 'NUCLIO_GETTING_STARTED_IRIS_ADMIN_SKLEARN_SERVER_PORT_8080_TCP_PORT': '8080', 'METRICS_SERVER_EXPORTER_PORT_9104_TCP_PROTO': 'tcp', 'SHELL_PORT_8080_TCP_ADDR': '10.194.75.172', 'NUCLIO_FILES_WATCHER_SERVICE_PORT_HTTP': '8080', 'METADATA_SERVICE_PORT': 'tcp://10.194.167.161:8080', 'KUBERNETES_SERVICE_PORT_HTTPS': '443', 'SPARK_MASTER_PORT_7077_TCP_PORT': '7077', 'DOCKER_REGISTRY_PORT_5000_TCP_PORT': '5000', 'MARCELO_JUPYTER_PORT_8080_TCP_PROTO': 'tcp', 'MARCELO_JUPYTER_PORT_8080_TCP_PORT': '8080', 'NUCLIO_SK_PROJECT_SKLEARN_SERVER_V2_SERVICE_PORT_METRICS': '8090', 'MYSQL_PORT_3306_TCP_PROTO': 'tcp', 'DOCKER_REGISTRY_PORT_5000_TCP_PROTO': 'tcp', 'DOCKER_REGISTRY_SERVICE_PORT': '5000', 'NUCLIO_IMG_TEXT_MENU_OCR_PORT_8080_TCP': 'tcp://10.197.129.12:8080', 'HIVE_PORT_9083_TCP_PROTO': 'tcp', 'MARIADB_SERVICE_PORT': '3306', 'NUCLIO_FILES_WATCHER_PORT_8080_TCP_PROTO': 'tcp', 'MLRUN_UI_PORT': 'tcp://10.198.98.248:80', 'V3IOD_LOCATOR_SERVICE_HOST': '10.197.133.31', 'ML_PIPELINE_PORT_8887_TCP_ADDR': '10.195.14.68', 'SHELL_PORT': 'tcp://10.194.75.172:8080', 'NUCLIO_DASHBOARD_SERVICE_PORT_ADMIN': '8070', 'PRESTO_PORT_8443_TCP_ADDR': '10.198.206.206', 'V3IOD_LOCATOR_PORT_8080_TCP': 'tcp://10.197.133.31:8080', 'HIVE_SERVICE_HOST': '10.198.89.255', 'HIVE_PORT_9083_TCP': 'tcp://10.198.89.255:9083', 'NUCLIO_SK_PROJECT_SKLEARN_SERVER_V2_PORT_8080_TCP_ADDR': '10.198.77.78', 'NUCLIO_GETTING_STARTED_IRIS_ADMIN_GETTING_STARTED_SERVING_PORT_8090_TCP_PROTO': 'tcp', 'TILLER_DEPLOY_PORT_44134_TCP_PROTO': 'tcp', 'V3IOD_LOCATOR_PORT_8080_TCP_ADDR': '10.197.133.31', 'MONITORING_PROMETHEUS_SERVER_PORT_80_TCP_PORT': '80', 'MARCELO_JUPYTER_PORT': 'tcp://10.197.203.190:8080', 'ADMIN_JUPYTER_PORT_8080_TCP_ADDR': '10.192.19.142', 'NUCLIO_SK_PROJECT_SKLEARN_SERVER_V2_PORT_8090_TCP_PORT': '8090', 'ML_PIPELINE_VISUALIZATIONSERVER_SERVICE_HOST': '10.192.61.210', 'SPARK_WEBUI_PORT_8080_TCP_ADDR': '10.199.139.33', 'NUCLIO_GETTING_STARTED_IRIS_ADMIN_GETTING_STARTED_SERVING_PORT_8080_TCP_PROTO': 'tcp', 'MLRUN_API_PORT_8080_TCP_ADDR': '10.199.178.177', 'NUCLIO_GETTING_STARTED_IRIS_ADMIN_SKLEARN_SERVER_SERVICE_PORT': '8080', 'FRAMESD_SERVICE_PORT_HTTP': '8080', 'NUCLIO_GIT_TEST_SH_PORT_8090_TCP_ADDR': '10.197.52.218', 'NUCLIO_GETTING_STARTED_IRIS_ADMIN_GETTING_STARTED_SERVING_SERVICE_PORT_HTTP': '8080', 'HIVE_SERVICE_PORT': '9083', 'PRESTO_SERVICE_PORT_HTTPS_COORD': '8443', 'GRAFANA_PORT_80_TCP_PORT': '80', 'METADATA_ENVOY_SERVICE_PORT_9090_TCP': 'tcp://10.198.121.236:9090', 'SPARK_MASTER_SERVICE_HOST': '10.198.18.155', 'NUCLIO_GETTING_STARTED_IRIS_ADMIN_GETTING_STARTED_SERVING_SERVICE_PORT_METRICS': '8090', 'NUCLIO_IMG_TEXT_MENU_OCR_PORT_8080_TCP_ADDR': '10.197.129.12', 'FRAMESD_PORT_8080_TCP': 'tcp://10.195.81.133:8080', 'NUCLIO_SK_PROJECT_SKLEARN_SERVER_V2_SERVICE_PORT_HTTP': '8080', 'NUCLIO_FILES_WATCHER_SERVICE_PORT': '8080', 'NUCLIO_GIT_TEST_SH_SERVICE_HOST': '10.197.52.218', 'KUBERNETES_PORT_443_TCP_PROTO': 'tcp', 'NUCLIO_IMG_TEXT_MENU_OCR_SERVICE_PORT': '8080', 'NUCLIO_IMG_TEXT_MENU_OCR_PORT_8090_TCP_PROTO': 'tcp', 'NUCLIO_DASHBOARD_PORT_8070_TCP_PORT': '8070', 'METADATA_SERVICE_PORT_8080_TCP_ADDR': '10.194.167.161', 'NUCLIO_DLX_SERVICE_PORT': '8080', 'KUBERNETES_SERVICE_PORT': '443', 'PRESTO_SERVICE_HOST': '10.198.206.206', 'MLRUN_API_PORT': 'tcp://10.199.178.177:8080', 'NUCLIO_GETTING_STARTED_IRIS_ADMIN_SKLEARN_SERVER_PORT_8090_TCP': 'tcp://10.198.220.214:8090', 'METRICS_SERVER_EXPORTER_SERVICE_HOST': '10.198.224.2', 'NUCLIO_SK_PROJECT_SKLEARN_SERVER_V2_SERVICE_HOST': '10.198.77.78', 'NUCLIO_DASHBOARD_SERVICE_PORT': '8070', 'HIVE_PORT': 'tcp://10.198.89.255:9083', 'ML_PIPELINE_SERVICE_HOST': '10.195.14.68', 'NUCLIO_SK_PROJECT_SKLEARN_SERVER_V2_PORT_8090_TCP': 'tcp://10.198.77.78:8090', 'METADATA_ENVOY_SERVICE_PORT_9090_TCP_PROTO': 'tcp', 'V3IO_WEBAPI_SERVICE_HOST': '10.197.140.128', 'MYSQL_SERVICE_PORT': '3306', 'METADATA_ENVOY_SERVICE_PORT_9090_TCP_ADDR': '10.198.121.236', 'FRAMESD_PORT_8081_TCP_PORT': '8081', 'SHELL_SERVICE_HOST': '10.194.75.172', 'SHELL_PORT_8080_TCP_PROTO': 'tcp', 'NUCLIO_SK_PROJECT_SKLEARN_SERVER_V2_PORT_8080_TCP': 'tcp://10.198.77.78:8080', 'NUCLIO_FILES_WATCHER_PORT_8090_TCP_PROTO': 'tcp', 'V3IO_WEBAPI_PORT_8081_TCP_ADDR': '10.197.140.128', 'PRESTO_PORT_8443_TCP_PROTO': 'tcp', 'ML_PIPELINE_UI_PORT_80_TCP': 'tcp://10.193.42.72:80', 'MARCELO_JUPYTER_SERVICE_PORT': '8080', 'NUCLIO_GIT_TEST_SH_PORT_8080_TCP_PORT': '8080', 'NUCLIO_GIT_TEST_SH_PORT_8090_TCP_PROTO': 'tcp', 'GRAFANA_PORT_80_TCP': 'tcp://10.193.148.141:80', 'ADMIN_JUPYTER_PORT_8080_TCP_PROTO': 'tcp', 'NUCLIO_SK_PROJECT_SKLEARN_SERVER_V2_SERVICE_PORT': '8080', 'NUCLIO_GETTING_STARTED_IRIS_ADMIN_SKLEARN_SERVER_PORT_8090_TCP_PORT': '8090', 'TILLER_DEPLOY_SERVICE_PORT': '44134', 'V3IO_WEBAPI_PORT': 'tcp://10.197.140.128:8081', 'LANG': 'C.UTF-8', 'GPG_KEY': '0D96DF4D4110E5C43FBFB17F2D347EA6AA65421D', 'PYTHON_VERSION': '3.7.8', 'PYTHON_PIP_VERSION': '20.2', 'PYTHON_GET_PIP_URL': 'https://github.com/pypa/get-pip/raw/cb5b85a8e0c3d13ced611b97816d7490d2f1497e/get-pip.py', 'PYTHON_GET_PIP_SHA256': 'a30ff8a3446c592c6d70403a82483716e7b759e8eecba2c8d3f6ecfb34a8d6d7', 'HOME': '/root', 'DEFAULT_DOCKER_REGISTRY': 'docker-registry.default-tenant.app.mdl0720.iguazio-cd0.com:80', 'MLRUN_META_TMPFILE': '/tmp/tmpx1at6k28.json', 'MLRUN_DBPATH': 'http://mlrun-api:8080'})\n",
      "> 2020-08-13 20:50:19,569 [info] using in-cluster config.\n",
      "> 2020-08-13 20:50:19,786 [info] 10.200.0.56\tdefault-tenant\tshell-7757748f88-7jr5h\n",
      "> 2020-08-13 20:50:21,593 [info] STDOUT: I AM HERE\n",
      "environ({'PATH': '/usr/local/bin:/usr/local/sbin:/usr/local/bin:/usr/sbin:/usr/bin:/sbin:/bin:/igz/bin:/igz/jdk-8u181/jre/bin:/igz/jdk-8u181/bin:/hadoop/bin:/hadoop/sbin:/spark/bin', 'ML_PIPELINE_SERVICE_HOST': '10.195.14.68', 'MONITORING_PROMETHEUS_SERVER_PORT_80_TCP': 'tcp://10.194.1.18:80', 'V3IOD_LOCATOR_PORT_8080_TCP_PROTO': 'tcp', 'V3IO_WEBAPI_PORT_8081_TCP_PROTO': 'tcp', 'ADMIN_JUPYTER_PORT_8080_TCP_ADDR': '10.193.0.242', 'FRAMESD_PORT_8081_TCP_ADDR': '10.195.81.133', 'SPARK_WEBUI_PORT_8080_TCP_PROTO': 'tcp', 'NUCLIO_SK_PROJECT_SKLEARN_SERVER_V2_PORT_8090_TCP_PORT': '8090', 'HIVE_PORT_9083_TCP_ADDR': '10.198.89.255', 'ML_PIPELINE_PORT_8888_TCP_PORT': '8888', 'ML_PIPELINE_VISUALIZATIONSERVER_SERVICE_PORT_HTTP': '8888', 'HIVE_PORT_9083_TCP_PROTO': 'tcp', 'MLRUN_API_PORT_8080_TCP': 'tcp://10.196.181.140:8080', 'GRAFANA_SERVICE_HOST': '10.193.148.141', 'TILLER_DEPLOY_PORT_44134_TCP_PORT': '44134', 'LD_LIBRARY_PATH': '/hadoop/etc/hadoop', 'NUCLIO_SK_PROJECT_SKLEARN_SERVER_V2_PORT_8080_TCP_PROTO': 'tcp', 'METRICS_SERVER_EXPORTER_PORT_9104_TCP_PORT': '9104', 'V3IO_WEBAPI_SERVICE_PORT': '8081', 'PRESTO_SERVICE_PORT_HTTPS_COORD': '8443', 'METADATA_ENVOY_SERVICE_PORT_9090_TCP': 'tcp://10.198.121.236:9090', 'V3IO_WEBAPI_PORT_8443_TCP_PORT': '8443', 'SHELL_PORT_8080_TCP': 'tcp://10.194.75.172:8080', 'MONITORING_PROMETHEUS_SERVER_PORT_80_TCP_PROTO': 'tcp', 'NUCLIO_DLX_PORT_8080_TCP_PORT': '8080', 'ML_PIPELINE_VISUALIZATIONSERVER_SERVICE_PORT': '8888', 'CONTAINER_USER': 'iguazio', 'V3IO_WEBAPI_SERVICE_PORT_WEB_API_HTTPS': '8443', 'PRESTO_PORT_8080_TCP_PROTO': 'tcp', 'METADATA_SERVICE_SERVICE_PORT': '8080', 'ML_PIPELINE_UI_PORT_80_TCP_PORT': '80', 'ADMIN_JUPYTER_SERVICE_PORT': '8080', 'SPARK_CONF_DIR': '/spark/conf', 'ADMIN_JUPYTER_PORT_8080_TCP_PROTO': 'tcp', 'MONITORING_PROMETHEUS_SERVER_SERVICE_HOST': '10.194.1.18', 'NUCLIO_GIT_TEST_SH_SERVICE_HOST': '10.197.52.218', 'HADOOP_HOME': '/hadoop', 'NUCLIO_GIT_TEST_SH_PORT_8080_TCP_ADDR': '10.197.52.218', 'NUCLIO_FILES_WATCHER_PORT_8080_TCP': 'tcp://10.198.207.197:8080', 'ML_PIPELINE_UI_SERVICE_PORT': '80', 'KUBERNETES_PORT': 'tcp://10.192.0.1:443', 'ML_PIPELINE_VISUALIZATIONSERVER_PORT_8888_TCP_PORT': '8888', 'CURRENT_NODE_IP': '172.31.4.90', 'NUCLIO_SK_PROJECT_SKLEARN_SERVER_V2_PORT_8080_TCP_PORT': '8080', 'SPARK_WEBUI_SERVICE_PORT': '8080', 'ML_PIPELINE_UI_PORT_80_TCP': 'tcp://10.193.42.72:80', 'JAVA_VERSION': '8', 'IGZ_BUILD_VERSION': '435956327165934200101', 'DOCKER_REGISTRY_PORT_5000_TCP_PORT': '5000', 'PRESTO_PORT_8080_TCP_PORT': '8080', 'FRAMESD_SERVICE_PORT': '8080', 'FRAMESD_SERVICE_PORT_HTTP': '8080', 'KUBERNETES_PORT_443_TCP_PROTO': 'tcp', 'V3IO_WEBAPI_SERVICE_PORT_WEB_API_HTTP': '8081', 'MARIADB_PORT_3306_TCP_ADDR': '10.193.66.192', 'MLRUN_UI_PORT_80_TCP': 'tcp://10.194.17.108:80', 'V3IOD_LOCATOR_PORT_8080_TCP': 'tcp://10.197.133.31:8080', 'METADATA_ENVOY_SERVICE_SERVICE_HOST': '10.198.121.236', 'NUCLIO_SK_PROJECT_SKLEARN_SERVER_V2_SERVICE_PORT_HTTP': '8080', 'ML_PIPELINE_VISUALIZATIONSERVER_PORT': 'tcp://10.192.61.210:8888', 'GRAFANA_PORT_80_TCP_PROTO': 'tcp', 'ML_PIPELINE_PORT_8888_TCP_PROTO': 'tcp', 'NUCLIO_DASHBOARD_PORT_8070_TCP_PROTO': 'tcp', 'SPARK_MASTER_PORT_7077_TCP_ADDR': '10.198.18.155', 'NUCLIO_GIT_TEST_SH_PORT_8090_TCP_PORT': '8090', 'TILLER_DEPLOY_SERVICE_PORT_TILLER': '44134', 'METADATA_ENVOY_SERVICE_PORT_9090_TCP_PORT': '9090', 'METRICS_SERVER_EXPORTER_SERVICE_HOST': '10.198.224.2', 'MONITORING_PROMETHEUS_SERVER_SERVICE_PORT_HTTP': '80', 'NUCLIO_DASHBOARD_SERVICE_PORT': '8070', 'MYSQL_PORT_3306_TCP': 'tcp://10.192.99.140:3306', 'NUCLIO_SK_PROJECT_SKLEARN_SERVER_V2_PORT_8090_TCP_ADDR': '10.198.77.78', 'NUCLIO_DASHBOARD_PORT_8070_TCP': 'tcp://10.195.44.112:8070', 'MLRUN_UI_SERVICE_PORT_HTTP': '80', 'MYSQL_PORT_3306_TCP_PROTO': 'tcp', 'HIVE_SERVICE_PORT': '9083', 'FRAMESD_SERVICE_PORT_GRPC': '8081', 'GPG_KEY': '0D96DF4D4110E5C43FBFB17F2D347EA6AA65421D', 'ML_PIPELINE_PORT_8887_TCP': 'tcp://10.195.14.68:8887', 'NUCLIO_DLX_PORT': 'tcp://10.199.201.20:8080', 'METADATA_SERVICE_PORT_8080_TCP_PROTO': 'tcp', 'NUCLIO_DASHBOARD_SERVICE_PORT_ADMIN': '8070', 'SHELL_PORT_8080_TCP_PROTO': 'tcp', 'V3IO_API': 'v3io-webapi.default-tenant.svc:8081', 'ML_PIPELINE_PORT': 'tcp://10.195.14.68:8888', 'HIVE_HOME': '/hive', 'NUCLIO_DASHBOARD_PORT': 'tcp://10.195.44.112:8070', 'FRAMESD_PORT_8080_TCP_PROTO': 'tcp', 'PRESTO_PORT_8443_TCP_PORT': '8443', 'ML_PIPELINE_UI_PORT_80_TCP_ADDR': '10.193.42.72', 'SHELL_SERVICE_HOST': '10.194.75.172', 'V3IOD_LOCATOR_SERVICE_HOST': '10.197.133.31', 'V3IO_WEBAPI_PORT_8081_TCP_ADDR': '10.197.140.128', 'MLRUN_API_PORT_8080_TCP_ADDR': '10.196.181.140', 'DOCKER_REGISTRY_PORT_5000_TCP': 'tcp://10.199.129.54:5000', 'PRESTO_PORT': 'tcp://10.198.206.206:8080', 'MONITORING_PROMETHEUS_SERVER_PORT': 'tcp://10.194.1.18:80', 'TILLER_DEPLOY_SERVICE_PORT': '44134', 'METADATA_SERVICE_SERVICE_PORT_MD_BACKENDAPI': '8080', 'NUCLIO_GIT_TEST_SH_PORT_8090_TCP_ADDR': '10.197.52.218', 'NUCLIO_FILES_WATCHER_PORT_8080_TCP_PROTO': 'tcp', 'FRAMESD_PORT_8081_TCP_PROTO': 'tcp', 'NUCLIO_SK_PROJECT_SKLEARN_SERVER_V2_PORT_8090_TCP_PROTO': 'tcp', 'ML_PIPELINE_VISUALIZATIONSERVER_PORT_8888_TCP_PROTO': 'tcp', 'DOCKER_REGISTRY_SERVICE_HOST': '10.199.129.54', 'GRAFANA_PORT_80_TCP_PORT': '80', 'SPARK_WEBUI_PORT_8080_TCP_PORT': '8080', 'NUCLIO_FILES_WATCHER_PORT_8080_TCP_ADDR': '10.198.207.197', 'ML_PIPELINE_PORT_8887_TCP_ADDR': '10.195.14.68', 'MARIADB_PORT': 'tcp://10.193.66.192:3306', 'METADATA_SERVICE_PORT_8080_TCP_PORT': '8080', 'ML_PIPELINE_VISUALIZATIONSERVER_PORT_8888_TCP_ADDR': '10.192.61.210', 'NUCLIO_FILES_WATCHER_PORT_8090_TCP_PORT': '8090', 'MLRUN_API_SERVICE_PORT': '8080', 'NUCLIO_DASHBOARD_PORT_8070_TCP_ADDR': '10.195.44.112', 'ML_PIPELINE_PORT_8887_TCP_PROTO': 'tcp', 'MYSQL_SERVICE_HOST': '10.192.99.140', 'DOCKER_REGISTRY_PORT_5000_TCP_PROTO': 'tcp', 'MARIADB_SERVICE_PORT': '3306', 'NUCLIO_DLX_SERVICE_HOST': '10.199.201.20', 'NUCLIO_SK_PROJECT_SKLEARN_SERVER_V2_PORT_8080_TCP_ADDR': '10.198.77.78', 'NUCLIO_GIT_TEST_SH_SERVICE_PORT': '8080', 'SPARK_MASTER_SERVICE_PORT': '7077', 'METRICS_SERVER_EXPORTER_PORT_9104_TCP': 'tcp://10.198.224.2:9104', 'NUCLIO_FILES_WATCHER_PORT_8090_TCP': 'tcp://10.198.207.197:8090', 'MONITORING_PROMETHEUS_SERVER_PORT_80_TCP_ADDR': '10.194.1.18', 'KUBERNETES_SERVICE_PORT': '443', 'PRESTO_PORT_8443_TCP_PROTO': 'tcp', 'MLRUN_UI_SERVICE_HOST': '10.194.17.108', 'HOSTNAME': 'iguazio-cloud', 'NUCLIO_DLX_PORT_8080_TCP': 'tcp://10.199.201.20:8080', 'GRAFANA_SERVICE_PORT': '80', 'METADATA_SERVICE_PORT': 'tcp://10.194.167.161:8080', 'HOME': '/User', 'TILLER_DEPLOY_PORT_44134_TCP': 'tcp://10.197.43.42:44134', 'HADOOP_CONF_DIR': '/hadoop/etc/hadoop', 'GRAFANA_PORT': 'tcp://10.193.148.141:80', 'IGZ_NAMESPACE_DOMAIN': 'default-tenant.app.mdl0720.iguazio-cd0.com', 'SHELL_SERVICE_PORT_TTYD': '8080', 'METADATA_ENVOY_SERVICE_SERVICE_PORT': '9090', 'SPARK_MASTER_PORT_7077_TCP_PROTO': 'tcp', 'FRAMESD_PORT_8080_TCP': 'tcp://10.195.81.133:8080', 'NUCLIO_FILES_WATCHER_SERVICE_PORT_HTTP': '8080', 'FRAMESD_PORT': 'tcp://10.195.81.133:8080', 'V3IO_WEBAPI_PORT_8443_TCP_PROTO': 'tcp', 'MYSQL_PORT_3306_TCP_ADDR': '10.192.99.140', 'SHELL_PORT_8080_TCP_ADDR': '10.194.75.172', 'SPARK_MASTER_PORT_7077_TCP_PORT': '7077', 'MARIADB_SERVICE_HOST': '10.193.66.192', 'PRESTO_PORT_8080_TCP_ADDR': '10.198.206.206', 'NUCLIO_GIT_TEST_SH_PORT_8090_TCP_PROTO': 'tcp', 'FRAMESD_SERVICE_HOST': '10.195.81.133', 'SCALA_VERSION': '2.11.12', 'NUCLIO_SK_PROJECT_SKLEARN_SERVER_V2_PORT': 'tcp://10.198.77.78:8080', 'V3IO_WEBAPI_PORT_8081_TCP_PORT': '8081', 'PYTHON_VERSION': '3.6.8', 'DOCKER_REGISTRY_SERVICE_PORT_REGISTRY': '5000', 'METRICS_SERVER_EXPORTER_SERVICE_PORT': '9104', 'ML_PIPELINE_VISUALIZATIONSERVER_PORT_8888_TCP': 'tcp://10.192.61.210:8888', 'DOCKER_REGISTRY_PORT_5000_TCP_ADDR': '10.199.129.54', 'HIVE_PORT': 'tcp://10.198.89.255:9083', 'PWD': '/User', 'NUCLIO_GIT_TEST_SH_PORT_8080_TCP': 'tcp://10.197.52.218:8080', 'MLRUN_UI_PORT_80_TCP_PROTO': 'tcp', 'ML_PIPELINE_PORT_8888_TCP': 'tcp://10.195.14.68:8888', 'SPARK_WEBUI_PORT_8080_TCP': 'tcp://10.199.139.33:8080', 'FRAMESD_PORT_8080_TCP_ADDR': '10.195.81.133', 'MARIADB_PORT_3306_TCP_PORT': '3306', 'GRAFANA_PORT_80_TCP': 'tcp://10.193.148.141:80', 'ML_PIPELINE_UI_PORT_80_TCP_PROTO': 'tcp', 'ADMIN_JUPYTER_SERVICE_HOST': '10.193.0.242', 'SPARK_MASTER_PORT': 'tcp://10.198.18.155:7077', 'METADATA_SERVICE_PORT_8080_TCP': 'tcp://10.194.167.161:8080', 'NUCLIO_SK_PROJECT_SKLEARN_SERVER_V2_SERVICE_PORT': '8080', 'V3IO_WEBAPI_SERVICE_HOST': '10.197.140.128', 'NUCLIO_FILES_WATCHER_SERVICE_HOST': '10.198.207.197', 'PRESTO_PORT_8443_TCP_ADDR': '10.198.206.206', 'ML_PIPELINE_SERVICE_PORT_HTTP': '8888', 'ML_PIPELINE_SERVICE_PORT': '8888', 'ML_PIPELINE_VISUALIZATIONSERVER_SERVICE_HOST': '10.192.61.210', 'IGUAZIO_HOME': '/igz', 'KUBERNETES_SERVICE_PORT_HTTPS': '443', 'SHLVL': '1', 'NUCLIO_GIT_TEST_SH_PORT': 'tcp://10.197.52.218:8080', 'MLRUN_UI_PORT_80_TCP_PORT': '80', 'TILLER_DEPLOY_PORT': 'tcp://10.197.43.42:44134', 'NUCLIO_GIT_TEST_SH_SERVICE_PORT_HTTP': '8080', 'V3IO_WEBAPI_PORT_8081_TCP': 'tcp://10.197.140.128:8081', 'V3IO_HOME_URL': 'v3io://users/admin', 'NUCLIO_GIT_TEST_SH_PORT_8080_TCP_PROTO': 'tcp', 'PRESTO_SERVICE_HOST': '10.198.206.206', 'JAVA_HOME': '/igz/jdk-8u181', 'HIVE_SERVICE_HOST': '10.198.89.255', 'TILLER_DEPLOY_PORT_44134_TCP_PROTO': 'tcp', 'SPARK_SCALA_VERSION': '2.12', 'NUCLIO_FILES_WATCHER_PORT': 'tcp://10.198.207.197:8080', 'MLRUN_API_PORT': 'tcp://10.196.181.140:8080', 'SPARK_HOME': '/spark', 'V3IOD_LOCATOR_PORT_8080_TCP_PORT': '8080', 'ML_PIPELINE_UI_PORT': 'tcp://10.193.42.72:80', 'NUCLIO_DLX_PORT_8080_TCP_ADDR': '10.199.201.20', 'MONITORING_PROMETHEUS_SERVER_PORT_80_TCP_PORT': '80', 'V3IOD_LOCATOR_SERVICE_PORT': '8080', 'ML_PIPELINE_UI_SERVICE_HOST': '10.193.42.72', 'KUBERNETES_PORT_443_TCP_ADDR': '10.192.0.1', 'IGZ_DATA_CONFIG_FILE': '/igz/java/conf/v3io.conf', 'NUCLIO_DASHBOARD_PORT_8070_TCP_PORT': '8070', 'NUCLIO_FILES_WATCHER_PORT_8080_TCP_PORT': '8080', 'HADOOP_OPTS': '-Dsun.zip.disableMemoryMapping=true -Dv3io.client.close-channel-on-shutdown=true', 'METADATA_SERVICE_PORT_8080_TCP_ADDR': '10.194.167.161', 'MARIADB_PORT_3306_TCP': 'tcp://10.193.66.192:3306', 'METADATA_ENVOY_SERVICE_PORT_9090_TCP_PROTO': 'tcp', 'V3IO_USERNAME': 'admin', 'SPARK_WEBUI_SERVICE_HOST': '10.199.139.33', 'METRICS_SERVER_EXPORTER_PORT': 'tcp://10.198.224.2:9104', 'NUCLIO_FILES_WATCHER_SERVICE_PORT_METRICS': '8090', 'METADATA_ENVOY_SERVICE_PORT': 'tcp://10.198.121.236:9090', 'GRAFANA_PORT_80_TCP_ADDR': '10.193.148.141', 'PYTHONUNBUFFERED': 'YES', 'SHELL_PORT': 'tcp://10.194.75.172:8080', 'METRICS_SERVER_EXPORTER_PORT_9104_TCP_ADDR': '10.198.224.2', 'ML_PIPELINE_PORT_8887_TCP_PORT': '8887', 'NUCLIO_FILES_WATCHER_PORT_8090_TCP_ADDR': '10.198.207.197', 'NUCLIO_SK_PROJECT_SKLEARN_SERVER_V2_PORT_8090_TCP': 'tcp://10.198.77.78:8090', 'IGZ_VERSION': '2.8_b142_20200426085608', 'FRAMESD_PORT_8081_TCP_PORT': '8081', 'HIVE_PORT_9083_TCP': 'tcp://10.198.89.255:9083', 'SPARK_MASTER_SERVICE_HOST': '10.198.18.155', 'FRAMESD_PORT_8081_TCP': 'tcp://10.195.81.133:8081', 'MYSQL_PORT_3306_TCP_PORT': '3306', 'METADATA_ENVOY_SERVICE_SERVICE_PORT_MD_ENVOY': '9090', 'SPARK_ENV_LOADED': '1', 'ML_PIPELINE_PORT_8888_TCP_ADDR': '10.195.14.68', 'PRESTO_SERVICE_PORT': '8080', 'DOCKER_REGISTRY_SERVICE_PORT': '5000', 'PYTHON_PIP_VERSION': '19.1.1', 'ML_PIPELINE_SERVICE_PORT_GRPC': '8887', 'V3IO_WEBAPI_PORT': 'tcp://10.197.140.128:8081', 'NUCLIO_GIT_TEST_SH_PORT_8080_TCP_PORT': '8080', 'SHELL_PORT_8080_TCP_PORT': '8080', 'HIVE_PORT_9083_TCP_PORT': '9083', 'HIVE_SERVICE_PORT_METASTORE': '9083', 'NUCLIO_FILES_WATCHER_PORT_8090_TCP_PROTO': 'tcp', 'ADMIN_JUPYTER_PORT_8080_TCP_PORT': '8080', 'KUBERNETES_PORT_443_TCP': 'tcp://10.192.0.1:443', 'PYTHONPATH': '/igz/java/libs/v3io-py.zip:/spark/python/lib/pyspark.zip:/spark/python/lib/py4j-0.10.7-src.zip:/spark/jars/spark-core_2.11-2.4.4.jar:/spark/python:/spark/python/lib/py4j-0.10.7-src.zip:/igz/java/libs/v3io-py-435956327165934200101.zip', 'V3IO_WEBAPI_PORT_8443_TCP_ADDR': '10.197.140.128', 'NUCLIO_SK_PROJECT_SKLEARN_SERVER_V2_PORT_8080_TCP': 'tcp://10.198.77.78:8080', 'SPARK_WEBUI_PORT_8080_TCP_ADDR': '10.199.139.33', 'NUCLIO_GIT_TEST_SH_SERVICE_PORT_METRICS': '8090', 'TILLER_DEPLOY_PORT_44134_TCP_ADDR': '10.197.43.42', 'V3IO_HOME': 'users/admin', 'NUCLIO_DLX_SERVICE_PORT_PROXY': '8080', 'ADMIN_JUPYTER_PORT': 'tcp://10.193.0.242:8080', 'PRESTO_SERVICE_PORT_HTTP_COORD': '8080', 'MARIADB_SERVICE_PORT_MARIADB': '3306', 'FRAMESD_PORT_8080_TCP_PORT': '8080', 'MLRUN_API_PORT_8080_TCP_PROTO': 'tcp', 'SPARK_WEBUI_PORT': 'tcp://10.199.139.33:8080', 'METADATA_SERVICE_SERVICE_HOST': '10.194.167.161', 'MONITORING_PROMETHEUS_SERVER_SERVICE_PORT': '80', 'MYSQL_SERVICE_PORT_MYSQL': '3306', 'NUCLIO_SK_PROJECT_SKLEARN_SERVER_V2_SERVICE_HOST': '10.198.77.78', 'MLRUN_API_SERVICE_PORT_HTTP': '8080', 'MLRUN_UI_PORT_80_TCP_ADDR': '10.194.17.108', 'NUCLIO_DLX_PORT_8080_TCP_PROTO': 'tcp', 'PRESTO_PORT_8443_TCP': 'tcp://10.198.206.206:8443', 'NUCLIO_SK_PROJECT_SKLEARN_SERVER_V2_SERVICE_PORT_METRICS': '8090', 'KUBERNETES_SERVICE_HOST': '10.192.0.1', 'LANG': 'C.UTF-8', 'NUCLIO_GIT_TEST_SH_PORT_8090_TCP': 'tcp://10.197.52.218:8090', 'NUCLIO_DLX_SERVICE_PORT': '8080', 'MYSQL_PORT': 'tcp://10.192.99.140:3306', 'DOCKER_REGISTRY_PORT': 'tcp://10.199.129.54:5000', 'SPARK_MASTER_PORT_7077_TCP': 'tcp://10.198.18.155:7077', 'TILLER_DEPLOY_SERVICE_HOST': '10.197.43.42', 'MLRUN_API_PORT_8080_TCP_PORT': '8080', 'SCALA_MAJOR_VERSION': '2.11', 'V3IOD_LOCATOR_PORT': 'tcp://10.197.133.31:8080', 'NUCLIO_DASHBOARD_SERVICE_HOST': '10.195.44.112', 'PYTHONHASHSEED': '0', 'PRESTO_PORT_8080_TCP': 'tcp://10.198.206.206:8080', 'METADATA_ENVOY_SERVICE_PORT_9090_TCP_ADDR': '10.198.121.236', 'MLRUN_UI_SERVICE_PORT': '80', 'GRAFANA_SERVICE_PORT_SERVICE': '80', 'MARIADB_PORT_3306_TCP_PROTO': 'tcp', 'METRICS_SERVER_EXPORTER_PORT_9104_TCP_PROTO': 'tcp', 'V3IO_WEBAPI_PORT_8443_TCP': 'tcp://10.197.140.128:8443', 'NUCLIO_FILES_WATCHER_SERVICE_PORT': '8080', 'PYSPARK_GATEWAY_SECRET': 'f736b2ca207b4465e1d80040d538364cd2f4b60d8d4ed8eba284d369b1e3160c', 'ADMIN_JUPYTER_PORT_8080_TCP': 'tcp://10.193.0.242:8080', 'MLRUN_UI_PORT': 'tcp://10.194.17.108:80', 'SHELL_SERVICE_PORT': '8080', 'PYSPARK_GATEWAY_PORT': '45100', 'MLRUN_API_SERVICE_HOST': '10.196.181.140', 'KUBERNETES_PORT_443_TCP_PORT': '443', 'MYSQL_SERVICE_PORT': '3306', 'V3IOD_LOCATOR_PORT_8080_TCP_ADDR': '10.197.133.31', 'V3IO_ACCESS_KEY': '9dce1ad2-ba7f-411b-a267-a12ee278bb91', 'IGUAZIO_JAVA': '/igz/java'})\n",
      "\n",
      "> 2020-08-13 20:50:21,594 [info] RC: 0\n",
      "> 2020-08-13 20:50:21,622 [info] run executed, status=completed\n",
      "final state: succeeded\n"
     ]
    },
    {
     "data": {
      "text/html": [
       "<style>\n",
       ".dictlist {\n",
       "  background-color: #b3edff;\n",
       "  text-align: center;\n",
       "  margin: 4px;\n",
       "  border-radius: 3px; padding: 0px 3px 1px 3px; display: inline-block;}\n",
       ".artifact {\n",
       "  cursor: pointer;\n",
       "  background-color: #ffe6cc;\n",
       "  text-align: left;\n",
       "  margin: 4px; border-radius: 3px; padding: 0px 3px 1px 3px; display: inline-block;\n",
       "}\n",
       "div.block.hidden {\n",
       "  display: none;\n",
       "}\n",
       ".clickable {\n",
       "  cursor: pointer;\n",
       "}\n",
       ".ellipsis {\n",
       "  display: inline-block;\n",
       "  max-width: 60px;\n",
       "  white-space: nowrap;\n",
       "  overflow: hidden;\n",
       "  text-overflow: ellipsis;\n",
       "}\n",
       ".master-wrapper {\n",
       "  display: flex;\n",
       "  flex-flow: row nowrap;\n",
       "  justify-content: flex-start;\n",
       "  align-items: stretch;\n",
       "}\n",
       ".master-tbl {\n",
       "  flex: 3\n",
       "}\n",
       ".master-wrapper > div {\n",
       "  margin: 4px;\n",
       "  padding: 10px;\n",
       "}\n",
       "iframe.fileview {\n",
       "  border: 0 none;\n",
       "  height: 100%;\n",
       "  width: 100%;\n",
       "  white-space: pre-wrap;\n",
       "}\n",
       ".pane-header-title {\n",
       "  width: 80%;\n",
       "  font-weight: 500;\n",
       "}\n",
       ".pane-header {\n",
       "  line-height: 1;\n",
       "  background-color: #ffe6cc;\n",
       "  padding: 3px;\n",
       "}\n",
       ".pane-header .close {\n",
       "  font-size: 20px;\n",
       "  font-weight: 700;\n",
       "  float: right;\n",
       "  margin-top: -5px;\n",
       "}\n",
       ".master-wrapper .right-pane {\n",
       "  border: 1px inset silver;\n",
       "  width: 40%;\n",
       "  min-height: 300px;\n",
       "  flex: 3\n",
       "  min-width: 500px;\n",
       "}\n",
       ".master-wrapper * {\n",
       "  box-sizing: border-box;\n",
       "}\n",
       "</style><script>\n",
       "function copyToClipboard(fld) {\n",
       "    if (document.queryCommandSupported && document.queryCommandSupported('copy')) {\n",
       "        var textarea = document.createElement('textarea');\n",
       "        textarea.textContent = fld.innerHTML;\n",
       "        textarea.style.position = 'fixed';\n",
       "        document.body.appendChild(textarea);\n",
       "        textarea.select();\n",
       "\n",
       "        try {\n",
       "            return document.execCommand('copy'); // Security exception may be thrown by some browsers.\n",
       "        } catch (ex) {\n",
       "\n",
       "        } finally {\n",
       "            document.body.removeChild(textarea);\n",
       "        }\n",
       "    }\n",
       "}\n",
       "function expandPanel(el) {\n",
       "  const panelName = \"#\" + el.getAttribute('paneName');\n",
       "  console.log(el.title);\n",
       "\n",
       "  document.querySelector(panelName + \"-title\").innerHTML = el.title\n",
       "  iframe = document.querySelector(panelName + \"-body\");\n",
       "\n",
       "  const tblcss = `<style> body { font-family: Arial, Helvetica, sans-serif;}\n",
       "    #csv { margin-bottom: 15px; }\n",
       "    #csv table { border-collapse: collapse;}\n",
       "    #csv table td { padding: 4px 8px; border: 1px solid silver;} </style>`;\n",
       "\n",
       "  function csvToHtmlTable(str) {\n",
       "    return '<div id=\"csv\"><table><tr><td>' +  str.replace(/[\\n\\r]+$/g, '').replace(/[\\n\\r]+/g, '</td></tr><tr><td>')\n",
       "      .replace(/,/g, '</td><td>') + '</td></tr></table></div>';\n",
       "  }\n",
       "\n",
       "  function reqListener () {\n",
       "    if (el.title.endsWith(\".csv\")) {\n",
       "      iframe.setAttribute(\"srcdoc\", tblcss + csvToHtmlTable(this.responseText));\n",
       "    } else {\n",
       "      iframe.setAttribute(\"srcdoc\", this.responseText);\n",
       "    }\n",
       "    console.log(this.responseText);\n",
       "  }\n",
       "\n",
       "  const oReq = new XMLHttpRequest();\n",
       "  oReq.addEventListener(\"load\", reqListener);\n",
       "  oReq.open(\"GET\", el.title);\n",
       "  oReq.send();\n",
       "\n",
       "\n",
       "  //iframe.src = el.title;\n",
       "  const resultPane = document.querySelector(panelName + \"-pane\");\n",
       "  if (resultPane.classList.contains(\"hidden\")) {\n",
       "    resultPane.classList.remove(\"hidden\");\n",
       "  }\n",
       "}\n",
       "function closePanel(el) {\n",
       "  const panelName = \"#\" + el.getAttribute('paneName')\n",
       "  const resultPane = document.querySelector(panelName + \"-pane\");\n",
       "  if (!resultPane.classList.contains(\"hidden\")) {\n",
       "    resultPane.classList.add(\"hidden\");\n",
       "  }\n",
       "}\n",
       "\n",
       "</script>\n",
       "<div class=\"master-wrapper\">\n",
       "  <div class=\"block master-tbl\"><div>\n",
       "<style scoped>\n",
       "    .dataframe tbody tr th:only-of-type {\n",
       "        vertical-align: middle;\n",
       "    }\n",
       "\n",
       "    .dataframe tbody tr th {\n",
       "        vertical-align: top;\n",
       "    }\n",
       "\n",
       "    .dataframe thead th {\n",
       "        text-align: right;\n",
       "    }\n",
       "</style>\n",
       "<table border=\"1\" class=\"dataframe\">\n",
       "  <thead>\n",
       "    <tr style=\"text-align: right;\">\n",
       "      <th>project</th>\n",
       "      <th>uid</th>\n",
       "      <th>iter</th>\n",
       "      <th>start</th>\n",
       "      <th>state</th>\n",
       "      <th>name</th>\n",
       "      <th>labels</th>\n",
       "      <th>inputs</th>\n",
       "      <th>parameters</th>\n",
       "      <th>results</th>\n",
       "      <th>artifacts</th>\n",
       "    </tr>\n",
       "  </thead>\n",
       "  <tbody>\n",
       "    <tr>\n",
       "      <td>submit-proj</td>\n",
       "      <td><div title=\"8d73b4dd55d247689fa68cd83d1b3811\"><a href=\"https://mlrun-ui.default-tenant.app.mdl0720.iguazio-cd0.com/projects/submit-proj/jobs/8d73b4dd55d247689fa68cd83d1b3811/info\" target=\"_blank\" >...3d1b3811</a></div></td>\n",
       "      <td>0</td>\n",
       "      <td>Aug 13 20:50:18</td>\n",
       "      <td>completed</td>\n",
       "      <td>spark-submit</td>\n",
       "      <td><div class=\"dictlist\">v3io_user=admin</div><div class=\"dictlist\">kind=job</div><div class=\"dictlist\">owner=admin</div><div class=\"dictlist\">host=spark-submit-gvhfd</div></td>\n",
       "      <td></td>\n",
       "      <td><div class=\"dictlist\">pyspark_command=/User/tmp/test.ipynb</div></td>\n",
       "      <td></td>\n",
       "      <td></td>\n",
       "    </tr>\n",
       "  </tbody>\n",
       "</table>\n",
       "</div></div>\n",
       "  <div id=\"result23b9f0ad-pane\" class=\"right-pane block hidden\">\n",
       "    <div class=\"pane-header\">\n",
       "      <span id=\"result23b9f0ad-title\" class=\"pane-header-title\">Title</span>\n",
       "      <span onclick=\"closePanel(this)\" paneName=\"result23b9f0ad\" class=\"close clickable\">&times;</span>\n",
       "    </div>\n",
       "    <iframe class=\"fileview\" id=\"result23b9f0ad-body\"></iframe>\n",
       "  </div>\n",
       "</div>\n"
      ],
      "text/plain": [
       "<IPython.core.display.HTML object>"
      ]
     },
     "metadata": {},
     "output_type": "display_data"
    },
    {
     "name": "stdout",
     "output_type": "stream",
     "text": [
      "to track results use .show() or .logs() or in CLI: \n",
      "!mlrun get run 8d73b4dd55d247689fa68cd83d1b3811 --project submit-proj , !mlrun logs 8d73b4dd55d247689fa68cd83d1b3811 --project submit-proj\n",
      "> 2020-08-13 20:50:23,994 [info] run executed, status=completed\n"
     ]
    }
   ],
   "source": [
    "execute_run = fn.run(execute_task)"
   ]
  },
  {
   "cell_type": "markdown",
   "metadata": {},
   "source": [
    "### Show results"
   ]
  },
  {
   "cell_type": "code",
   "execution_count": null,
   "metadata": {},
   "outputs": [],
   "source": []
  }
 ],
 "metadata": {
  "kernelspec": {
   "display_name": "Python [conda env:.conda-mlrun-0.5.1]",
   "language": "python",
   "name": "conda-env-.conda-mlrun-0.5.1-py"
  },
  "language_info": {
   "codemirror_mode": {
    "name": "ipython",
    "version": 3
   },
   "file_extension": ".py",
   "mimetype": "text/x-python",
   "name": "python",
   "nbconvert_exporter": "python",
   "pygments_lexer": "ipython3",
   "version": "3.7.7"
  }
 },
 "nbformat": 4,
 "nbformat_minor": 4
}
