{
 "cells": [
  {
   "cell_type": "markdown",
   "metadata": {},
   "source": [
    "# Execute Shell command\n",
    "## Pre-Processing"
   ]
  },
  {
   "cell_type": "code",
   "execution_count": 1,
   "metadata": {},
   "outputs": [],
   "source": [
    "# nuclio: ignore\n",
    "import nuclio"
   ]
  },
  {
   "cell_type": "markdown",
   "metadata": {},
   "source": [
    "Define the MLRun environment"
   ]
  },
  {
   "cell_type": "code",
   "execution_count": 2,
   "metadata": {},
   "outputs": [
    {
     "name": "stdout",
     "output_type": "stream",
     "text": [
      "%nuclio: setting kind to 'job'\n",
      "%nuclio: setting spec.image to 'mlrun/mlrun'\n"
     ]
    }
   ],
   "source": [
    "%nuclio config kind = \"job\"\n",
    "%nuclio config spec.image = \"mlrun/mlrun\""
   ]
  },
  {
   "cell_type": "markdown",
   "metadata": {},
   "source": [
    "## Function"
   ]
  },
  {
   "cell_type": "code",
   "execution_count": 3,
   "metadata": {},
   "outputs": [],
   "source": [
    "from mlrun import get_or_create_ctx\n",
    "from kubernetes import config, client\n",
    "from kubernetes.stream import stream"
   ]
  },
  {
   "cell_type": "code",
   "execution_count": 4,
   "metadata": {},
   "outputs": [],
   "source": [
    "def handler(context,cmd,shell_pod_name = 'shell'):\n",
    "    context.logger.info(\"Starting to cmd\")    \n",
    "    context.logger.info(\"Running command \" + cmd)\n",
    "    cli = K8SClient(context.logger)\n",
    "    cli.exec_shell_cmd(cmd, shell_pod_name)\n",
    "\n",
    "class K8SClient(object):\n",
    "\n",
    "    def __init__(self, logger, namespace='default-tenant', config_file=None):\n",
    "        self.namespace = namespace\n",
    "        self.logger = logger\n",
    "        self._init_k8s_config(config_file)\n",
    "        self.v1api = client.CoreV1Api()\n",
    "\n",
    "    def _init_k8s_config(self, config_file):\n",
    "        try:\n",
    "            config.load_incluster_config()\n",
    "            self.logger.info('using in-cluster config.')\n",
    "        except Exception:\n",
    "            try:\n",
    "                config.load_kube_config(config_file)\n",
    "                self.logger.info('using local kubernetes config.')\n",
    "            except Exception:\n",
    "                raise RuntimeError(\n",
    "                    'cannot find local kubernetes config file,'\n",
    "                    ' place it in ~/.kube/config or specify it in '\n",
    "                    'KUBECONFIG env var')\n",
    "\n",
    "    def get_shell_pod_name(self, shell_pod_name):\n",
    "        shell_pod = self.v1api.list_namespaced_pod(namespace=self.namespace)\n",
    "        for i in shell_pod.items:\n",
    "            if shell_pod_name in i.metadata.name:\n",
    "                self.logger.info(\"%s\\t%s\\t%s\" % (i.status.pod_ip, i.metadata.namespace, i.metadata.name))\n",
    "                shell_name = i.metadata.name\n",
    "                break\n",
    "        return shell_name\n",
    "\n",
    "    def exec_shell_cmd(self, cmd, shell_pod_name):\n",
    "        shell_name = self.get_shell_pod_name(shell_pod_name)\n",
    "        # Calling exec and waiting for response\n",
    "        exec_command = [\n",
    "            '/bin/bash',\n",
    "            '-c',\n",
    "            cmd]\n",
    "        resp = stream(self.v1api.connect_get_namespaced_pod_exec,\n",
    "                      shell_name,\n",
    "                      self.namespace,\n",
    "                      command=exec_command,\n",
    "                      stderr=True, stdin=False,\n",
    "                      stdout=True, tty=False)\n",
    "        self.logger.info(\"Response: \" + resp)    \n",
    "    "
   ]
  },
  {
   "cell_type": "code",
   "execution_count": 5,
   "metadata": {},
   "outputs": [],
   "source": [
    "# nuclio: end-code"
   ]
  },
  {
   "cell_type": "markdown",
   "metadata": {},
   "source": [
    "## Test\n",
    "> This test uses the metrics data, created by the [Generator function](https://github.com/mlrun/demo-network-operations/blob/master/notebooks/generator.ipynb) from MLRun's [Network Operations Demo](https://github.com/mlrun/demo-network-operations)  \n",
    "To test it yourself, please generate this dataset or use any of your available csv/parquet datasets."
   ]
  },
  {
   "cell_type": "code",
   "execution_count": 6,
   "metadata": {},
   "outputs": [],
   "source": [
    "from mlrun import code_to_function, mount_v3io, NewTask, mlconf, run_local\n",
    "mlconf.dbpath = mlconf.dbpath or 'http://mlrun-api:8080'\n"
   ]
  },
  {
   "cell_type": "code",
   "execution_count": null,
   "metadata": {},
   "outputs": [],
   "source": []
  },
  {
   "cell_type": "markdown",
   "metadata": {},
   "source": [
    "### Define the execute test task"
   ]
  },
  {
   "cell_type": "code",
   "execution_count": 7,
   "metadata": {},
   "outputs": [],
   "source": [
    "execute_task = NewTask(name='submit',\n",
    "                         project='submit-proj',\n",
    "                         params={'cmd':\"echo \",'shell_pod_name':'shell'},                         \n",
    "                         #params={'cmd':'ls -la /User/parquez/sh/'},     \n",
    "                         handler=handler)"
   ]
  },
  {
   "cell_type": "code",
   "execution_count": 8,
   "metadata": {},
   "outputs": [],
   "source": [
    "#submit_run = run_local(submit_task)"
   ]
  },
  {
   "cell_type": "markdown",
   "metadata": {},
   "source": [
    "### Test on cluster"
   ]
  },
  {
   "cell_type": "markdown",
   "metadata": {},
   "source": [
    "Convert the code to an MLRun function"
   ]
  },
  {
   "cell_type": "code",
   "execution_count": 9,
   "metadata": {},
   "outputs": [
    {
     "name": "stdout",
     "output_type": "stream",
     "text": [
      "[mlrun] 2020-06-10 11:21:11,015 function spec saved to path: function.yaml\n"
     ]
    },
    {
     "data": {
      "text/plain": [
       "<mlrun.runtimes.kubejob.KubejobRuntime at 0x7f40654e8550>"
      ]
     },
     "execution_count": 9,
     "metadata": {},
     "output_type": "execute_result"
    }
   ],
   "source": [
    "fn = code_to_function('submit', handler='handler')\n",
    "fn.spec.service_account='mlrun-api'\n",
    "fn.apply(mount_v3io())\n",
    "fn.export('function.yaml')"
   ]
  },
  {
   "cell_type": "code",
   "execution_count": 10,
   "metadata": {},
   "outputs": [
    {
     "name": "stdout",
     "output_type": "stream",
     "text": [
      "[mlrun] 2020-06-10 11:21:11,024 artifact path is not defined or is local, artifacts will not be visible in the UI\n",
      "[mlrun] 2020-06-10 11:21:11,044 starting run submit uid=440152adda134c5fb0d50075020bfce2  -> http://10.192.248.103:8080\n",
      "[mlrun] 2020-06-10 11:21:11,211 Job is running in the background, pod: submit-bphng\n",
      "[mlrun] 2020-06-10 11:21:17,493 artifact path is not defined or is local, artifacts will not be visible in the UI\n",
      "[mlrun] 2020-06-10 11:21:17,568 Starting to cmd\n",
      "[mlrun] 2020-06-10 11:21:17,568 Running command cd /User/parquez/sh;ls -la;bash ./parquetinizer.sh faker '3 hours' '21 hours' 'h' 'parquez' 'default' 'Parquet' '6' 'k8s'\n",
      "[mlrun] 2020-06-10 11:21:17,569 using in-cluster config.\n",
      "[mlrun] 2020-06-10 11:21:17,784 10.200.0.6\tdefault-tenant\tavi-shell-6d9c467597-89lss\n",
      "[mlrun] 2020-06-10 11:21:18,778 Response: total 0\n",
      "-rwxr-xr-x 1 50 nogroup    327 May 20 13:24 alter_kv_view.sh\n",
      "-rwxr-xr-x 1 50 nogroup   1562 May 20 13:24 hive_partition.sh\n",
      "-rwxr-xr-x 1 50 nogroup    212 May 20 13:24 loggedParquetinizer.sh\n",
      "drwxr-xr-x 2 50 715827850    0 Jun 10 10:49 logs\n",
      "-rwxr-xr-x 1 50 715827850  140 Jun  3 10:10 parquetCronJob.sh\n",
      "-rwxr-xr-x 1 50 nogroup   7790 Jun 10 10:52 parquetinizer.sh\n",
      "mkdir: missing operand\n",
      "Try 'mkdir --help' for more information.\n",
      "parquez_dir:/home/iguazio/parquez\n",
      "kv_table_name:faker\n",
      "kv_window:3 hours\n",
      "historical_window:21 hours\n",
      "partition_by:h\n",
      "v3io_container:parquez\n",
      "hive_schema:default\n",
      "compression_type:Parquet\n",
      "coalesce:\n",
      "user is: iguazio\n",
      "current UTC time: Wed Jun 10 11:21:18 UTC 2020\n",
      "3 hours ago: Wed Jun 10 08:21:18 UTC 2020\n",
      "year is: 2020\n",
      "month is: 06\n",
      "day is: 10\n",
      "hour is: 08\n",
      "current year is: 2020\n",
      "current month is: 06\n",
      "current day is: 10\n",
      "current hour is: 11\n",
      "hitorical window : Tue Jun  9 14:21:18 UTC 2020\n",
      "year is: 2020\n",
      "month is: 06\n",
      "day is: 09\n",
      "hour is: 14\n",
      "source is: v3io://parquez/faker/year=2020/month=06/day=10/hour=08\n",
      "target is: v3io://parquez/faker_Parquet/year=2020/month=06/day=10/hour=08\n",
      "parquetToDelete is: v3io://parquez/faker_Parquet/year=2020/month=06/day=09/hour=14\n",
      "iguazio   34103  34057  0 11:21 ?        00:00:00 grep parquez-assembly\n",
      "No parquez-assembly process is running. Continue...\n",
      "query: where year >= 2020 AND month >= 06 AND day >= 10 AND ( hour > 08 AND hour <= 11 )\n",
      "./parquetinizer.sh: line 239: pushd: /home/iguazio: No such file or directory\n",
      "Error from server (Forbidden): pods is forbidden: User \"system:serviceaccount:default-tenant:default\" cannot list resource \"pods\" in API group \"\" in the namespace \"default-tenant\"\n",
      "\n",
      "error: expected 'exec POD_NAME COMMAND [ARG1] [ARG2] ... [ARGN]'.\n",
      "POD_NAME and COMMAND are required arguments for the exec command\n",
      "See 'kubectl exec -h' for help and examples.\n",
      "KV to parquet finished with success\n",
      "./parquetinizer.sh: line 255: popd: directory stack empty\n",
      "./parquetinizer.sh: line 257: pushd: /home/iguazio/parquez: No such file or directory\n",
      "/home/iguazio/parquez/sh/alter_kv_view.sh faker '3 hours'\n",
      "./parquetinizer.sh: line 263: /home/iguazio/parquez/sh/alter_kv_view.sh: No such file or directory\n",
      "./parquetinizer.sh: line 265: /home/iguazio/parquez/sh/hive_partition.sh: No such file or directory\n",
      "error: expected 'exec POD_NAME COMMAND [ARG1] [ARG2] ... [ARGN]'.\n",
      "POD_NAME and COMMAND are required arguments for the exec command\n",
      "See 'kubectl exec -h' for help and examples.\n",
      "error: expected 'exec POD_NAME COMMAND [ARG1] [ARG2] ... [ARGN]'.\n",
      "POD_NAME and COMMAND are required arguments for the exec command\n",
      "See 'kubectl exec -h' for help and examples.\n",
      "./parquetinizer.sh: line 275: /home/iguazio/parquez/sh/hive_partition.sh: No such file or directory\n",
      "./parquetinizer.sh: line 277: popd: directory stack empty\n",
      "\n",
      "\n",
      "[mlrun] 2020-06-10 11:21:18,792 run executed, status=completed\n",
      "final state: succeeded\n"
     ]
    },
    {
     "data": {
      "text/html": [
       "<style> \n",
       ".dictlist {\n",
       "  background-color: #b3edff; \n",
       "  text-align: center; \n",
       "  margin: 4px; \n",
       "  border-radius: 3px; padding: 0px 3px 1px 3px; display: inline-block;}\n",
       ".artifact {\n",
       "  cursor: pointer; \n",
       "  background-color: #ffe6cc; \n",
       "  text-align: left; \n",
       "  margin: 4px; border-radius: 3px; padding: 0px 3px 1px 3px; display: inline-block;\n",
       "}\n",
       "div.block.hidden {\n",
       "  display: none;\n",
       "}\n",
       ".clickable {\n",
       "  cursor: pointer;\n",
       "}\n",
       ".ellipsis {\n",
       "  display: inline-block;\n",
       "  max-width: 60px;\n",
       "  white-space: nowrap;\n",
       "  overflow: hidden;\n",
       "  text-overflow: ellipsis;\n",
       "}\n",
       ".master-wrapper {\n",
       "  display: flex;\n",
       "  flex-flow: row nowrap;\n",
       "  justify-content: flex-start;\n",
       "  align-items: stretch;\n",
       "}\n",
       ".master-tbl {\n",
       "  flex: 3\n",
       "}\n",
       ".master-wrapper > div {\n",
       "  margin: 4px;\n",
       "  padding: 10px;\n",
       "}\n",
       "iframe.fileview {\n",
       "  border: 0 none;\n",
       "  height: 100%;\n",
       "  width: 100%;\n",
       "  white-space: pre-wrap;\n",
       "}\n",
       ".pane-header-title {\n",
       "  width: 80%;\n",
       "  font-weight: 500;\n",
       "}\n",
       ".pane-header {\n",
       "  line-height: 1;\n",
       "  background-color: #ffe6cc;\n",
       "  padding: 3px;\n",
       "}\n",
       ".pane-header .close {\n",
       "  font-size: 20px;\n",
       "  font-weight: 700;\n",
       "  float: right;\n",
       "  margin-top: -5px;\n",
       "}\n",
       ".master-wrapper .right-pane {\n",
       "  border: 1px inset silver;\n",
       "  width: 40%;\n",
       "  min-height: 300px;\n",
       "  flex: 3\n",
       "  min-width: 500px;\n",
       "}\n",
       ".master-wrapper * {\n",
       "  box-sizing: border-box;\n",
       "}\n",
       "</style><script>\n",
       "function copyToClipboard(fld) {\n",
       "    if (document.queryCommandSupported && document.queryCommandSupported('copy')) {\n",
       "        var textarea = document.createElement('textarea');\n",
       "        textarea.textContent = fld.innerHTML;\n",
       "        textarea.style.position = 'fixed';\n",
       "        document.body.appendChild(textarea);\n",
       "        textarea.select();\n",
       "\n",
       "        try {\n",
       "            return document.execCommand('copy'); // Security exception may be thrown by some browsers.\n",
       "        } catch (ex) {\n",
       "\n",
       "        } finally {\n",
       "            document.body.removeChild(textarea);\n",
       "        }\n",
       "    }\n",
       "}\n",
       "function expandPanel(el) {\n",
       "  const panelName = \"#\" + el.getAttribute('paneName');\n",
       "  console.log(el.title);\n",
       "\n",
       "  document.querySelector(panelName + \"-title\").innerHTML = el.title\n",
       "  iframe = document.querySelector(panelName + \"-body\");\n",
       "  \n",
       "  const tblcss = `<style> body { font-family: Arial, Helvetica, sans-serif;}\n",
       "    #csv { margin-bottom: 15px; }\n",
       "    #csv table { border-collapse: collapse;}\n",
       "    #csv table td { padding: 4px 8px; border: 1px solid silver;} </style>`;\n",
       "\n",
       "  function csvToHtmlTable(str) {\n",
       "    return '<div id=\"csv\"><table><tr><td>' +  str.replace(/[\\n\\r]+$/g, '').replace(/[\\n\\r]+/g, '</td></tr><tr><td>')\n",
       "      .replace(/,/g, '</td><td>') + '</td></tr></table></div>';\n",
       "  }\n",
       "  \n",
       "  function reqListener () {\n",
       "    if (el.title.endsWith(\".csv\")) {\n",
       "      iframe.setAttribute(\"srcdoc\", tblcss + csvToHtmlTable(this.responseText));\n",
       "    } else {\n",
       "      iframe.setAttribute(\"srcdoc\", this.responseText);\n",
       "    }  \n",
       "    console.log(this.responseText);\n",
       "  }\n",
       "\n",
       "  const oReq = new XMLHttpRequest();\n",
       "  oReq.addEventListener(\"load\", reqListener);\n",
       "  oReq.open(\"GET\", el.title);\n",
       "  oReq.send();\n",
       "  \n",
       "  \n",
       "  //iframe.src = el.title;\n",
       "  const resultPane = document.querySelector(panelName + \"-pane\");\n",
       "  if (resultPane.classList.contains(\"hidden\")) {\n",
       "    resultPane.classList.remove(\"hidden\");\n",
       "  }\n",
       "}\n",
       "function closePanel(el) {\n",
       "  const panelName = \"#\" + el.getAttribute('paneName')\n",
       "  const resultPane = document.querySelector(panelName + \"-pane\");\n",
       "  if (!resultPane.classList.contains(\"hidden\")) {\n",
       "    resultPane.classList.add(\"hidden\");\n",
       "  }\n",
       "}\n",
       "\n",
       "</script>\n",
       "<div class=\"master-wrapper\">\n",
       "  <div class=\"block master-tbl\"><div>\n",
       "<style scoped>\n",
       "    .dataframe tbody tr th:only-of-type {\n",
       "        vertical-align: middle;\n",
       "    }\n",
       "\n",
       "    .dataframe tbody tr th {\n",
       "        vertical-align: top;\n",
       "    }\n",
       "\n",
       "    .dataframe thead th {\n",
       "        text-align: right;\n",
       "    }\n",
       "</style>\n",
       "<table border=\"1\" class=\"dataframe\">\n",
       "  <thead>\n",
       "    <tr style=\"text-align: right;\">\n",
       "      <th>project</th>\n",
       "      <th>uid</th>\n",
       "      <th>iter</th>\n",
       "      <th>start</th>\n",
       "      <th>state</th>\n",
       "      <th>name</th>\n",
       "      <th>labels</th>\n",
       "      <th>inputs</th>\n",
       "      <th>parameters</th>\n",
       "      <th>results</th>\n",
       "      <th>artifacts</th>\n",
       "    </tr>\n",
       "  </thead>\n",
       "  <tbody>\n",
       "    <tr>\n",
       "      <td>submit-proj</td>\n",
       "      <td><div title=\"440152adda134c5fb0d50075020bfce2\"><a href=\"https://mlrun-ui.default-tenant.app.dev39.lab.iguazeng.com/projects/submit-proj/jobs/440152adda134c5fb0d50075020bfce2/info\" target=\"_blank\" >...020bfce2</a></div></td>\n",
       "      <td>0</td>\n",
       "      <td>Jun 10 11:21:17</td>\n",
       "      <td>completed</td>\n",
       "      <td>submit</td>\n",
       "      <td><div class=\"dictlist\">host=submit-bphng</div><div class=\"dictlist\">kind=job</div><div class=\"dictlist\">owner=iguazio</div><div class=\"dictlist\">v3io_user=iguazio</div></td>\n",
       "      <td></td>\n",
       "      <td><div class=\"dictlist\">cmd=cd /User/parquez/sh;ls -la;bash ./parquetinizer.sh faker '3 hours' '21 hours' 'h' 'parquez' 'default' 'Parquet' '6' 'k8s'</div><div class=\"dictlist\">shell_pod_name=shell</div></td>\n",
       "      <td></td>\n",
       "      <td></td>\n",
       "    </tr>\n",
       "  </tbody>\n",
       "</table>\n",
       "</div></div>\n",
       "  <div id=\"result7277ba81-pane\" class=\"right-pane block hidden\">\n",
       "    <div class=\"pane-header\">\n",
       "      <span id=\"result7277ba81-title\" class=\"pane-header-title\">Title</span>\n",
       "      <span onclick=\"closePanel(this)\" paneName=\"result7277ba81\" class=\"close clickable\">&times;</span>\n",
       "    </div>\n",
       "    <iframe class=\"fileview\" id=\"result7277ba81-body\"></iframe>\n",
       "  </div>\n",
       "</div>\n"
      ],
      "text/plain": [
       "<IPython.core.display.HTML object>"
      ]
     },
     "metadata": {},
     "output_type": "display_data"
    },
    {
     "name": "stdout",
     "output_type": "stream",
     "text": [
      "to track results use .show() or .logs() or in CLI: \n",
      "!mlrun get run 440152adda134c5fb0d50075020bfce2 --project submit-proj , !mlrun logs 440152adda134c5fb0d50075020bfce2 --project submit-proj\n",
      "[mlrun] 2020-06-10 11:21:20,510 run executed, status=completed\n"
     ]
    }
   ],
   "source": [
    "execute_run = fn.run(execute_task)"
   ]
  },
  {
   "cell_type": "markdown",
   "metadata": {},
   "source": [
    "### Show results"
   ]
  },
  {
   "cell_type": "code",
   "execution_count": null,
   "metadata": {},
   "outputs": [],
   "source": []
  },
  {
   "cell_type": "code",
   "execution_count": null,
   "metadata": {},
   "outputs": [],
   "source": []
  },
  {
   "cell_type": "code",
   "execution_count": null,
   "metadata": {},
   "outputs": [],
   "source": []
  }
 ],
 "metadata": {
  "kernelspec": {
   "display_name": "Python 3",
   "language": "python",
   "name": "python3"
  },
  "language_info": {
   "codemirror_mode": {
    "name": "ipython",
    "version": 3
   },
   "file_extension": ".py",
   "mimetype": "text/x-python",
   "name": "python",
   "nbconvert_exporter": "python",
   "pygments_lexer": "ipython3",
   "version": "3.6.8"
  }
 },
 "nbformat": 4,
 "nbformat_minor": 4
}
