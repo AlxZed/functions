{
 "cells": [
  {
   "cell_type": "code",
   "execution_count": 1,
   "metadata": {},
   "outputs": [],
   "source": [
    "# nuclio: ignore\n",
    "import nuclio"
   ]
  },
  {
   "cell_type": "code",
   "execution_count": null,
   "metadata": {},
   "outputs": [],
   "source": [
    "%nuclio config kind=\"serving\"\n",
    "%nuclio env MODEL_CLASS=\"RNN_Model_Serving\"\n",
    "%nuclio config spec.build.baseImage = \"mlrun/mlrun\"\n",
    "%nuclio cmd python -m pip install tensorflow\n",
    "%nuclio cmd python -m pip install keras"
   ]
  },
  {
   "cell_type": "code",
   "execution_count": null,
   "metadata": {},
   "outputs": [],
   "source": [
    "!pip install storey==0.4.2"
   ]
  },
  {
   "cell_type": "code",
   "execution_count": 4,
   "metadata": {},
   "outputs": [],
   "source": [
    "import os\n",
    "import mlrun\n",
    "import numpy as np\n",
    "import keras\n",
    "import json\n",
    "import requests\n",
    "import warnings \n",
    "warnings.filterwarnings('ignore')"
   ]
  },
  {
   "cell_type": "code",
   "execution_count": 5,
   "metadata": {},
   "outputs": [],
   "source": [
    "class RNN_Model_Serving(mlrun.serving.V2ModelServer):\n",
    "    def load(self):\n",
    "        \"\"\"load and initialize the model and/or other elements\"\"\"\n",
    "        model_file,extra_data = self.get_model(suffix = \".h5\")\n",
    "        self.model = keras.models.load_model(model_file)\n",
    "\n",
    "    def predict(self, body: dict) -> list:\n",
    "        \"\"\"Generate model predictions from sample\"\"\"\n",
    "        feats = np.asarray(body['inputs'])\n",
    "        result = self.model.predict(feats)\n",
    "        result = json.dumps(result.tolist())\n",
    "        return result"
   ]
  },
  {
   "cell_type": "code",
   "execution_count": 6,
   "metadata": {},
   "outputs": [],
   "source": [
    "# nuclio: end-code"
   ]
  },
  {
   "cell_type": "code",
   "execution_count": 7,
   "metadata": {},
   "outputs": [],
   "source": [
    "# test localy"
   ]
  },
  {
   "cell_type": "code",
   "execution_count": 8,
   "metadata": {},
   "outputs": [
    {
     "name": "stdout",
     "output_type": "stream",
     "text": [
      "> 2021-04-29 08:54:10,487 [info] model RNN_stocks was loaded\n",
      "> 2021-04-29 08:54:10,488 [info] Loaded ['RNN_stocks']\n"
     ]
    }
   ],
   "source": [
    "import mlrun\n",
    "\n",
    "fn = mlrun.new_function('RNN_serving_function', kind='serving')\n",
    "\n",
    "# set the topology/router and add models\n",
    "fn.add_model(\"RNN_stocks\", class_name=\"RNN_Model_Serving\", model_path=\"/v3io/users/dani/test/demos/stock-analysis/models/\")\n",
    "\n",
    "# create and use the graph simulator\n",
    "server = fn.to_mock_server()"
   ]
  },
  {
   "cell_type": "code",
   "execution_count": 12,
   "metadata": {},
   "outputs": [],
   "source": [
    "# test remotely"
   ]
  },
  {
   "cell_type": "code",
   "execution_count": 13,
   "metadata": {},
   "outputs": [],
   "source": [
    "from mlrun import new_model_server, mount_v3io\n",
    "import requests\n",
    "import os"
   ]
  },
  {
   "cell_type": "code",
   "execution_count": 14,
   "metadata": {},
   "outputs": [
    {
     "data": {
      "text/plain": [
       "<mlrun.runtimes.serving.ServingRuntime at 0x7ff4fc098890>"
      ]
     },
     "execution_count": 14,
     "metadata": {},
     "output_type": "execute_result"
    }
   ],
   "source": [
    "from mlrun import code_to_function\n",
    "fn = code_to_function('RNN_serving_function', kind='serving')\n",
    "fn.add_model(\"RNN_stocks\", class_name=\"RNN_Model_Serving\", model_path=\"/v3io/users/dani/test/demos/stock-analysis/models/\")\n",
    "fn.apply(mount_v3io())"
   ]
  },
  {
   "cell_type": "code",
   "execution_count": 15,
   "metadata": {},
   "outputs": [
    {
     "name": "stdout",
     "output_type": "stream",
     "text": [
      "> 2021-04-29 08:54:16,271 [info] Starting remote function deploy\n",
      "2021-04-29 08:54:16  (info) Deploying function\n",
      "2021-04-29 08:54:16  (info) Building\n",
      "2021-04-29 08:54:16  (info) Staging files and preparing base images\n",
      "2021-04-29 08:54:16  (info) Building processor image\n",
      "2021-04-29 08:54:20  (info) Build complete\n",
      "2021-04-29 08:54:32  (info) Function deploy complete\n",
      "> 2021-04-29 08:54:33,385 [info] function deployed, address=default-tenant.app.dev8.lab.iguazeng.com:32458\n"
     ]
    }
   ],
   "source": [
    "addr = fn.deploy()"
   ]
  }
 ],
 "metadata": {
  "kernelspec": {
   "display_name": "Python 3",
   "language": "python",
   "name": "python3"
  },
  "language_info": {
   "codemirror_mode": {
    "name": "ipython",
    "version": 3
   },
   "file_extension": ".py",
   "mimetype": "text/x-python",
   "name": "python",
   "nbconvert_exporter": "python",
   "pygments_lexer": "ipython3",
   "version": "3.7.6"
  }
 },
 "nbformat": 4,
 "nbformat_minor": 4
}
