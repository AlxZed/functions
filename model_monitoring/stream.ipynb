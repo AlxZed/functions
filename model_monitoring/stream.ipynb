{
 "cells": [
  {
   "cell_type": "code",
   "execution_count": null,
   "metadata": {
    "collapsed": true
   },
   "outputs": [],
   "source": [
    "from os import environ\n",
    "\n",
    "from mlrun import import_function, mount_v3io\n",
    "\n",
    "from stream import Config\n",
    "\n",
    "\n",
    "fn = import_function(\"stream.yaml\")\n",
    "\n",
    "# In order to configure the stream processing instance, use the Config object\n",
    "config = Config(\n",
    "    project=\"\"\n",
    ")\n",
    "\n",
    "fn.set_envs(\n",
    "    {\n",
    "        \"V3IO_ACCESS_KEY\": environ.get(\"V3IO_ACCESS_KEY\"),\n",
    "        \"V3IO_FRAMESD\": environ.get(\"V3IO_FRAMESD\"),\n",
    "        \"V3IO_API\": environ.get(\"V3IO_API\"),\n",
    "        **config.as_dict()\n",
    "    }\n",
    ")\n",
    "\n",
    "fn.add_v3io_stream_trigger(\n",
    "    stream_path=f\"projects/{config.project}/model-endpoints/stream\",\n",
    "    name=\"monitoring_stream_trigger\",\n",
    ")\n",
    "\n",
    "fn.metadata.project = config.project\n",
    "\n",
    "fn.spec.no_cache=True\n",
    "\n",
    "fn.spec.build.commands = [\n",
    "    \"pip install apscheduler\",\n",
    "]\n",
    "\n",
    "fn.apply(mount_v3io())\n",
    "\n",
    "fn.deploy()"
   ]
  }
 ],
 "metadata": {
  "kernelspec": {
   "display_name": "Python 3",
   "language": "python",
   "name": "python3"
  },
  "language_info": {
   "codemirror_mode": {
    "name": "ipython",
    "version": 2
   },
   "file_extension": ".py",
   "mimetype": "text/x-python",
   "name": "python",
   "nbconvert_exporter": "python",
   "pygments_lexer": "ipython2",
   "version": "2.7.6"
  }
 },
 "nbformat": 4,
 "nbformat_minor": 0
}