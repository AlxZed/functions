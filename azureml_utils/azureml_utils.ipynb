{
 "cells": [
  {
   "cell_type": "markdown",
   "metadata": {},
   "source": [
    "# Azure AutoML Demo\n",
    "MLRun function for using Azure AutoML, Including the following handlers:\n",
    "1. `init_experiment` -     Initialize workspace and experiment in Azure ML.\n",
    "2. `init_compute` -        Initialize Azure ML compute target to run experiment.\n",
    "3. `register_dataset` -    Register dataset object (can be also an Iguazio FeatureVector) in Azure ML.\n",
    "4. `download_model` -      Download trained model from Azure ML to local filesystem.\n",
    "5. `upload_model` -        Upload pre-trained model from local filesystem to Azure ML.\n",
    "6. `submit_training_job` - Submit training job to Azure AutoML and download trained model when completed.\n",
    "7. `automl_train` -        Whole training flow for Azure AutoML:\n",
    "                           - Initializing workspace and experiment in Azure ML\n",
    "                           - Registers dataset/feature vector,\n",
    "                           - submits training job\n",
    "                           - downloads trained model"
   ]
  },
  {
   "cell_type": "markdown",
   "metadata": {},
   "source": [
    "## 1. Setup MLRun Project\n",
    "\n",
    "Creating MLRun project"
   ]
  },
  {
   "cell_type": "code",
   "execution_count": 1,
   "metadata": {},
   "outputs": [
    {
     "name": "stdout",
     "output_type": "stream",
     "text": [
      "> 2021-11-24 15:18:37,573 [info] loaded project azure-automl-iris-demo from MLRun DB\n",
      "Project name: azure-automl-iris-demo-yoni2\n"
     ]
    }
   ],
   "source": [
    "import os\n",
    "import json\n",
    "from os import path\n",
    "import pandas as pd\n",
    "import mlrun\n",
    "import mlrun.feature_store as fstore\n",
    "from mlrun import code_to_function, auto_mount\n",
    "from mlrun.runtimes.utils import generate_function_image_name\n",
    "# Set the base project name\n",
    "project_name_base = 'azure-automl-iris-demo'\n",
    "\n",
    "# Initialize the MLRun project object\n",
    "project = mlrun.get_or_create_project(project_name_base, context=\"./\", user_project=True)\n",
    "\n",
    "# Display the current project name\n",
    "project_name = project.metadata.name\n",
    "print(f'Project name: {project_name}')"
   ]
  },
  {
   "cell_type": "markdown",
   "metadata": {},
   "source": [
    "## 2. Preparing Dataset (Iris)\n",
    "\n",
    "- Loading iris dataset and splitting into train and test sets.\n",
    "\n",
    "- Preparing training URI for the MLRun function"
   ]
  },
  {
   "cell_type": "code",
   "execution_count": 2,
   "metadata": {},
   "outputs": [
    {
     "data": {
      "text/html": [
       "<div>\n",
       "<style scoped>\n",
       "    .dataframe tbody tr th:only-of-type {\n",
       "        vertical-align: middle;\n",
       "    }\n",
       "\n",
       "    .dataframe tbody tr th {\n",
       "        vertical-align: top;\n",
       "    }\n",
       "\n",
       "    .dataframe thead th {\n",
       "        text-align: right;\n",
       "    }\n",
       "</style>\n",
       "<table border=\"1\" class=\"dataframe\">\n",
       "  <thead>\n",
       "    <tr style=\"text-align: right;\">\n",
       "      <th></th>\n",
       "      <th>sepal length (cm)</th>\n",
       "      <th>sepal width (cm)</th>\n",
       "      <th>petal length (cm)</th>\n",
       "      <th>petal width (cm)</th>\n",
       "      <th>label</th>\n",
       "    </tr>\n",
       "  </thead>\n",
       "  <tbody>\n",
       "    <tr>\n",
       "      <th>0</th>\n",
       "      <td>6.1</td>\n",
       "      <td>2.8</td>\n",
       "      <td>4.7</td>\n",
       "      <td>1.2</td>\n",
       "      <td>1</td>\n",
       "    </tr>\n",
       "    <tr>\n",
       "      <th>1</th>\n",
       "      <td>5.7</td>\n",
       "      <td>3.8</td>\n",
       "      <td>1.7</td>\n",
       "      <td>0.3</td>\n",
       "      <td>0</td>\n",
       "    </tr>\n",
       "    <tr>\n",
       "      <th>2</th>\n",
       "      <td>7.7</td>\n",
       "      <td>2.6</td>\n",
       "      <td>6.9</td>\n",
       "      <td>2.3</td>\n",
       "      <td>2</td>\n",
       "    </tr>\n",
       "    <tr>\n",
       "      <th>3</th>\n",
       "      <td>6.0</td>\n",
       "      <td>2.9</td>\n",
       "      <td>4.5</td>\n",
       "      <td>1.5</td>\n",
       "      <td>1</td>\n",
       "    </tr>\n",
       "    <tr>\n",
       "      <th>4</th>\n",
       "      <td>6.8</td>\n",
       "      <td>2.8</td>\n",
       "      <td>4.8</td>\n",
       "      <td>1.4</td>\n",
       "      <td>1</td>\n",
       "    </tr>\n",
       "    <tr>\n",
       "      <th>...</th>\n",
       "      <td>...</td>\n",
       "      <td>...</td>\n",
       "      <td>...</td>\n",
       "      <td>...</td>\n",
       "      <td>...</td>\n",
       "    </tr>\n",
       "    <tr>\n",
       "      <th>115</th>\n",
       "      <td>6.9</td>\n",
       "      <td>3.1</td>\n",
       "      <td>5.4</td>\n",
       "      <td>2.1</td>\n",
       "      <td>2</td>\n",
       "    </tr>\n",
       "    <tr>\n",
       "      <th>116</th>\n",
       "      <td>5.9</td>\n",
       "      <td>3.0</td>\n",
       "      <td>4.2</td>\n",
       "      <td>1.5</td>\n",
       "      <td>1</td>\n",
       "    </tr>\n",
       "    <tr>\n",
       "      <th>117</th>\n",
       "      <td>6.5</td>\n",
       "      <td>3.0</td>\n",
       "      <td>5.2</td>\n",
       "      <td>2.0</td>\n",
       "      <td>2</td>\n",
       "    </tr>\n",
       "    <tr>\n",
       "      <th>118</th>\n",
       "      <td>5.7</td>\n",
       "      <td>2.6</td>\n",
       "      <td>3.5</td>\n",
       "      <td>1.0</td>\n",
       "      <td>1</td>\n",
       "    </tr>\n",
       "    <tr>\n",
       "      <th>119</th>\n",
       "      <td>5.2</td>\n",
       "      <td>2.7</td>\n",
       "      <td>3.9</td>\n",
       "      <td>1.4</td>\n",
       "      <td>1</td>\n",
       "    </tr>\n",
       "  </tbody>\n",
       "</table>\n",
       "<p>120 rows × 5 columns</p>\n",
       "</div>"
      ],
      "text/plain": [
       "     sepal length (cm)  sepal width (cm)  petal length (cm)  petal width (cm)  \\\n",
       "0                  6.1               2.8                4.7               1.2   \n",
       "1                  5.7               3.8                1.7               0.3   \n",
       "2                  7.7               2.6                6.9               2.3   \n",
       "3                  6.0               2.9                4.5               1.5   \n",
       "4                  6.8               2.8                4.8               1.4   \n",
       "..                 ...               ...                ...               ...   \n",
       "115                6.9               3.1                5.4               2.1   \n",
       "116                5.9               3.0                4.2               1.5   \n",
       "117                6.5               3.0                5.2               2.0   \n",
       "118                5.7               2.6                3.5               1.0   \n",
       "119                5.2               2.7                3.9               1.4   \n",
       "\n",
       "     label  \n",
       "0        1  \n",
       "1        0  \n",
       "2        2  \n",
       "3        1  \n",
       "4        1  \n",
       "..     ...  \n",
       "115      2  \n",
       "116      1  \n",
       "117      2  \n",
       "118      1  \n",
       "119      1  \n",
       "\n",
       "[120 rows x 5 columns]"
      ]
     },
     "metadata": {},
     "output_type": "display_data"
    }
   ],
   "source": [
    "DATA_URL = \"https://s3.wasabisys.com/iguazio/data/iris/iris_dataset.csv\"\n",
    "iris_uri = 'v3io:///users/yoni2/azure-automl/iris.csv'\n",
    "label_column_name = 'label' # target label\n",
    "\n",
    "# Create Iris DataFrame:\n",
    "iris_dataset = mlrun.get_dataitem(DATA_URL).as_df()\n",
    "\n",
    "# Split to train, test:\n",
    "train_data = iris_dataset.sample(frac=0.8, random_state=42)\n",
    "test_data = iris_dataset.drop(train_data.index)\n",
    "test_data_no_target = test_data.drop(columns=[\"label\"])\n",
    "\n",
    "train_file = \"iris.csv\"\n",
    "train_data.to_csv(train_file, index=False, header=True)\n",
    "\n",
    "# Showing dataframe from URI:\n",
    "mlrun.get_dataitem(iris_uri).show()"
   ]
  },
  {
   "cell_type": "markdown",
   "metadata": {},
   "source": [
    "## 3. Submit Azure AutoML Training Job"
   ]
  },
  {
   "cell_type": "markdown",
   "metadata": {},
   "source": [
    "### Submit Azure Secrets\n",
    "For more information about working with secrets see:  [MLRun docs: Working with secrets](https://docs.mlrun.org/en/latest/secrets.html)"
   ]
  },
  {
   "cell_type": "markdown",
   "metadata": {},
   "source": [
    "Fill your Azure secrets and run the block below **once** for providing securely MLRun your Azure secrets. (`secrets_uploaded = False`).\n",
    "\n",
    "After running this block delete your secrets and set `secrets_uploaded = True`."
   ]
  },
  {
   "cell_type": "code",
   "execution_count": 3,
   "metadata": {},
   "outputs": [],
   "source": [
    "# Do once and remove for security:\n",
    "secrets_uploaded = True\n",
    "if not secrets_uploaded: \n",
    "    # Fill Azure secrets:\n",
    "    secrets = {\"AZURE_TENANT_ID\": \"\",\n",
    "               \"AZURE_SERVICE_PRINCIPAL_ID\": \"\",\n",
    "               \"AZURE_SERVICE_PRINCIPAL_PASSWORD\": \"\",\n",
    "               \"AZURE_SUBSCRIPTION_ID\": \"\",\n",
    "               \"AZURE_RESOURCE_GROUP\": \"\",\n",
    "               \"AZURE_WORKSPACE_NAME\": \"\",\n",
    "               \"AZURE_STORAGE_CONNECTION_STRING\": \"\"}\n",
    "    \n",
    "    \n",
    "    # Upload secrets to MLRun:\n",
    "    mlrun.get_run_db().create_project_secrets(\n",
    "        project_name,\n",
    "        provider=mlrun.api.schemas.SecretProviderName.kubernetes,\n",
    "        secrets=secrets\n",
    "    )"
   ]
  },
  {
   "cell_type": "code",
   "execution_count": 4,
   "metadata": {},
   "outputs": [],
   "source": [
    "secrets_spec = mlrun.new_task().with_secrets('kubernetes', ['AZURE_TENANT_ID',\n",
    "                                                            'AZURE_SERVICE_PRINCIPAL_ID',\n",
    "                                                            'AZURE_SERVICE_PRINCIPAL_PASSWORD',\n",
    "                                                            'AZURE_SUBSCRIPTION_ID',\n",
    "                                                            'AZURE_RESOURCE_GROUP',\n",
    "                                                            'AZURE_WORKSPACE_NAME',\n",
    "                                                            'AZURE_STORAGE_CONNECTION_STRING'])"
   ]
  },
  {
   "cell_type": "markdown",
   "metadata": {},
   "source": [
    "### Import azureml_utils from marketplace\n",
    "\n"
   ]
  },
  {
   "cell_type": "code",
   "execution_count": 5,
   "metadata": {},
   "outputs": [
    {
     "name": "stdout",
     "output_type": "stream",
     "text": [
      "> 2021-11-24 15:18:38,387 [info] function spec saved to path: function.yaml\n"
     ]
    }
   ],
   "source": [
    "marketplace = False\n",
    "\n",
    "if marketplace:\n",
    "    # Importing serving function from marketplace:\n",
    "    azureml_fn = mlrun.import_function('hub://azureml_utils')\n",
    "\n",
    "else:\n",
    "    azureml_fn = code_to_function(\n",
    "        name=\"azure\",\n",
    "        project=project_name,\n",
    "        filename=\"azure_automl.py\",\n",
    "        kind=\"job\",\n",
    "        image=\"mlrun/mlrun\",\n",
    "        requirements=\"requirements.txt\",\n",
    "        with_doc=False\n",
    "    ).apply(auto_mount())\n",
    "    \n",
    "    # Build Docker image (if not already built)\n",
    "    azureml_fn.deploy(skip_deployed=True)\n",
    "    azureml_fn.spec.image = generate_function_image_name(azureml_fn)\n",
    "    azureml_fn.export()\n",
    "    azureml_fn = mlrun.import_function('function.yaml')\n"
   ]
  },
  {
   "cell_type": "markdown",
   "metadata": {},
   "source": [
    "### Automl configuration & run parameters\n",
    "\n",
    "- The `automl_settings` object is the setup for Azure AutoML. It holds the `task` type, number of  models to train - `iterations`, the desired metric - `primary metric`, the allowed types of models `allowed_models` and more.\n",
    "\n",
    "- The `params` are the parameters for the MLRun function, such as experiment (`experiment_name`) and cpu cluster (`cpu_cluster_name`) names in AzureML, dataset properties for registration, target label for training - `label_column_name`, number of models to download `save_n_models` and more."
   ]
  },
  {
   "cell_type": "code",
   "execution_count": 6,
   "metadata": {},
   "outputs": [],
   "source": [
    "# Configure automl settings:\n",
    "automl_settings = json.dumps({\n",
    "            \"task\": 'classification',\n",
    "            \"debug_log\": 'automl_errors.log',\n",
    "#             \"experiment_exit_score\" : 0.9,\n",
    "            \"enable_early_stopping\": False,\n",
    "            \"allowed_models\": ['LogisticRegression', 'SGD', 'SVM'],\n",
    "            \"iterations\": 2,\n",
    "            \"iteration_timeout_minutes\": 2,\n",
    "            \"max_concurrent_iterations\": 2,\n",
    "            \"max_cores_per_iteration\": -1,\n",
    "            \"n_cross_validations\": 5,\n",
    "            \"primary_metric\": 'accuracy',\n",
    "            \"featurization\": 'off',\n",
    "            \"model_explainability\": False,\n",
    "            \"enable_voting_ensemble\": False,\n",
    "            \"enable_stack_ensemble\": False\n",
    "        })\n",
    "\n",
    "# Setting params to azure_run function:\n",
    "params = {\n",
    "    \"experiment_name\": 'azure-automl-test',\n",
    "    \"cpu_cluster_name\": 'azureml-cpu',\n",
    "    \"dataset_name\": 'iris',\n",
    "    \"dataset_description\": 'iris training data',\n",
    "    \"label_column_name\": label_column_name,\n",
    "    \"create_new_version\": True,\n",
    "    \"register_model_name\": \"iris-model\",\n",
    "    \"save_n_models\": 2,\n",
    "    \"automl_settings\": automl_settings\n",
    "}"
   ]
  },
  {
   "cell_type": "markdown",
   "metadata": {},
   "source": [
    "### Run Azure AutoML train:\n",
    "\n",
    "This MLRun function will perform the following:\n",
    "- Initialize workspace and experiment in your AzureML\n",
    "- Register the dataset/feature vector to Iguazio and to AzureML.\n",
    "- Submit the training job to AzureML and print the live training results fro each model\n",
    "- Generate the top trained models."
   ]
  },
  {
   "cell_type": "code",
   "execution_count": null,
   "metadata": {},
   "outputs": [
    {
     "name": "stdout",
     "output_type": "stream",
     "text": [
      "> 2021-11-24 15:18:38,432 [info] starting run azure-automl_train uid=2741532296df46729bb48bedb571ef3e DB=http://mlrun-api:8080\n",
      "> 2021-11-24 15:18:38,649 [info] Job is running in the background, pod: azure-automl-train-7wmzr\n",
      "Failure while loading azureml_run_type_providers. Failed to load entrypoint automl = azureml.train.automl.run:AutoMLRun._from_run_dto with exception (azure-identity 1.7.1 (/usr/local/lib/python3.7/site-packages), Requirement.parse('azure-identity<1.5.0,>=1.2.0'), {'azureml-dataprep'}).\n",
      "> 2021-11-24 15:18:45,365 [info] Loading AzureML Workspace\n",
      "> 2021-11-24 15:18:47,768 [info] Initializing AzureML experiment\n",
      "> 2021-11-24 15:18:49,025 [info] Initializing AzureML compute target\n",
      "> 2021-11-24 15:18:49,230 [info] Found existing cluster, use it.\n",
      "Succeeded\n",
      "AmlCompute wait for completion finished\n",
      "\n",
      "Minimum number of nodes requested have been provisioned\n",
      "> 2021-11-24 15:18:49,353 [info] Setting up experiment parameters\n",
      "> 2021-11-24 15:18:53,743 [info] Submitting and running experiment\n",
      "Submitting remote run.\n",
      "Parent Run ID: AutoML_225d873c-8db9-435e-a5f1-65325a94bdb0\n",
      "https://ml.azure.com/runs/AutoML_225d873c-8db9-435e-a5f1-65325a94bdb0?wsid=/subscriptions/8d81bc0b-6abd-4395-be83-000251d9fdbe/resourcegroups/nick/workspaces/NickAzureML&tid=af053911-a8b7-450d-9f58-0c08567d4769\n",
      "\n",
      "Current status: ModelSelection. Beginning model selection.\n",
      "\n",
      "****************************************************************************************************\n",
      "DATA GUARDRAILS: \n",
      "\n",
      "TYPE:         Class balancing detection\n",
      "STATUS:       PASSED\n",
      "DESCRIPTION:  Your inputs were analyzed, and all classes are balanced in your training data.\n",
      "              Learn more about imbalanced data: https://aka.ms/AutomatedMLImbalancedData\n",
      "\n",
      "****************************************************************************************************\n",
      "\n",
      "****************************************************************************************************\n",
      "ITERATION: The iteration being evaluated.\n",
      "PIPELINE: A summary description of the pipeline being evaluated.\n",
      "DURATION: Time taken for the current iteration.\n",
      "METRIC: The result of computing score on the fitted pipeline.\n",
      "BEST: The best observed score thus far.\n",
      "****************************************************************************************************\n",
      "\n",
      " ITERATION   PIPELINE                                       DURATION      METRIC      BEST\n"
     ]
    }
   ],
   "source": [
    "azureml_run = azureml_fn.run(\n",
    "    runspec=secrets_spec,\n",
    "    handler=\"automl_train\",\n",
    "    inputs={\"training_data_uri\": DATA_URL},\n",
    "    params=params,\n",
    ")\n"
   ]
  },
  {
   "cell_type": "markdown",
   "metadata": {},
   "source": [
    "## 4. Deploying the Model-Serving Function"
   ]
  },
  {
   "cell_type": "markdown",
   "metadata": {},
   "source": [
    "### Importing `v2_model_server` function from marketplace for serving the model\n",
    "\n",
    "Firstly we collect the model paths from our run object and getting the best model.\n",
    "\n",
    "Then importing the serving function from marketplace and adding our best model to the serving function."
   ]
  },
  {
   "cell_type": "code",
   "execution_count": null,
   "metadata": {},
   "outputs": [],
   "source": [
    "# Get trained models:\n",
    "model_paths = [azureml_run.outputs[key] for key in azureml_run.outputs.keys() if \"model\" in key]\n",
    "best_model_path = model_paths[0]\n",
    "\n",
    "# Data for testing:\n",
    "data_to_test = test_data_no_target.sample(5).values.tolist()\n",
    "my_data = {'inputs': data_to_test}\n",
    "\n",
    "model_name = 'best_model'\n",
    "\n",
    "# Importing serving function from marketplace:\n",
    "serving_fn = mlrun.import_function('hub://v2_model_server')\n",
    "serving_fn.add_model(model_name, model_path=best_model_path)"
   ]
  },
  {
   "cell_type": "markdown",
   "metadata": {},
   "source": [
    "### Building and Deploying the Serving Function"
   ]
  },
  {
   "cell_type": "code",
   "execution_count": null,
   "metadata": {},
   "outputs": [],
   "source": [
    "function_address = serving_fn.deploy()"
   ]
  },
  {
   "cell_type": "markdown",
   "metadata": {},
   "source": [
    "## 5. Using the Live Model-Serving Function"
   ]
  },
  {
   "cell_type": "code",
   "execution_count": null,
   "metadata": {},
   "outputs": [],
   "source": [
    "print (f'The address for the function is {function_address} \\n')\n",
    "\n",
    "!curl $function_address"
   ]
  },
  {
   "cell_type": "markdown",
   "metadata": {},
   "source": [
    "After deploying the serving function with the required model we can make prediction:"
   ]
  },
  {
   "cell_type": "code",
   "execution_count": null,
   "metadata": {},
   "outputs": [],
   "source": [
    "serving_fn.invoke(f'/v2/models/{model_name}/infer', my_data)"
   ]
  },
  {
   "cell_type": "markdown",
   "metadata": {},
   "source": [
    "## 6. Clean up\n",
    "\n",
    "For cleaning up AzureML resources see:\n",
    "https://docs.microsoft.com/en-us/azure/machine-learning/tutorial-auto-train-models#clean-up-resources"
   ]
  }
 ],
 "metadata": {
  "kernelspec": {
   "display_name": "Python [conda env:root] *",
   "language": "python",
   "name": "conda-root-py"
  },
  "language_info": {
   "codemirror_mode": {
    "name": "ipython",
    "version": 3
   },
   "file_extension": ".py",
   "mimetype": "text/x-python",
   "name": "python",
   "nbconvert_exporter": "python",
   "pygments_lexer": "ipython3",
   "version": "3.7.6"
  }
 },
 "nbformat": 4,
 "nbformat_minor": 4
}
