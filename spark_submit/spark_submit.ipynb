{
 "cells": [
  {
   "cell_type": "markdown",
   "metadata": {},
   "source": [
    "# Submiting spark"
   ]
  },
  {
   "cell_type": "code",
   "execution_count": 45,
   "metadata": {},
   "outputs": [],
   "source": [
    "#!pip install mlrun==0.4.7"
   ]
  },
  {
   "cell_type": "code",
   "execution_count": 46,
   "metadata": {},
   "outputs": [],
   "source": [
    "# nuclio: ignore\n",
    "import nuclio"
   ]
  },
  {
   "cell_type": "markdown",
   "metadata": {},
   "source": [
    "Define the MLRun environment"
   ]
  },
  {
   "cell_type": "code",
   "execution_count": 47,
   "metadata": {},
   "outputs": [
    {
     "name": "stdout",
     "output_type": "stream",
     "text": [
      "%nuclio: setting kind to 'job'\n",
      "%nuclio: setting spec.image to 'aviaigz/mlrun'\n"
     ]
    }
   ],
   "source": [
    "%nuclio config kind = \"job\"\n",
    "%nuclio config spec.image = \"aviaigz/mlrun\""
   ]
  },
  {
   "cell_type": "markdown",
   "metadata": {},
   "source": [
    "## Function"
   ]
  },
  {
   "cell_type": "code",
   "execution_count": 48,
   "metadata": {},
   "outputs": [],
   "source": [
    "from mlrun import get_or_create_ctx\n",
    "from kubernetes import config, client\n",
    "from kubernetes.stream import stream\n",
    "from mlrun.k8s_utils import get_k8s_helper"
   ]
  },
  {
   "cell_type": "code",
   "execution_count": 49,
   "metadata": {},
   "outputs": [],
   "source": [
    "def handler(context,v3io_access_key,name=None,class_param=None,jars=None,packages=None,spark_options=''):            \n",
    "    cmd = spark_command_builder(name,class_param,jars,packages,spark_options)\n",
    "    context.logger.info(\"submiting :\" + cmd)\n",
    "    cli = get_k8s_helper()\n",
    "    cli.exec_shell_cmd(cmd, v3io_access_key)\n",
    "    \n",
    "    \n",
    "def spark_command_builder(name,class_param,jars,packages,spark_options):\n",
    "    cmd = 'spark-submit' \n",
    "    if name is not None:\n",
    "        cmd += ' --name ' + name \n",
    "    \n",
    "    if class_param is not None:\n",
    "        cmd += ' --class ' + class_param \n",
    "        \n",
    "    if jars is not None:\n",
    "        cmd += ' --jars ' + jars\n",
    "            \n",
    "    if packages is not None:\n",
    "        cmd += ' --packages ' + packages\n",
    "\n",
    "    if spark_options is not None:\n",
    "        cmd += ' ' + spark_options    \n",
    "    \n",
    "    return cmd    "
   ]
  },
  {
   "cell_type": "code",
   "execution_count": 50,
   "metadata": {},
   "outputs": [],
   "source": [
    "# nuclio: end-code"
   ]
  },
  {
   "cell_type": "markdown",
   "metadata": {},
   "source": [
    "## Test\n",
    "> This test uses the metrics data, created by the [Generator function](https://github.com/mlrun/demo-network-operations/blob/master/notebooks/generator.ipynb) from MLRun's [Network Operations Demo](https://github.com/mlrun/demo-network-operations)  \n",
    "To test it yourself, please generate this dataset or use any of your available csv/parquet datasets."
   ]
  },
  {
   "cell_type": "code",
   "execution_count": 51,
   "metadata": {},
   "outputs": [],
   "source": [
    "from mlrun import code_to_function, mount_v3io, NewTask, mlconf, run_local\n",
    "mlconf.dbpath = mlconf.dbpath or 'http://mlrun-api:8080'\n"
   ]
  },
  {
   "cell_type": "code",
   "execution_count": null,
   "metadata": {},
   "outputs": [],
   "source": []
  },
  {
   "cell_type": "markdown",
   "metadata": {},
   "source": [
    "### Define the execute test task"
   ]
  },
  {
   "cell_type": "code",
   "execution_count": 52,
   "metadata": {},
   "outputs": [],
   "source": [
    "execute_task = NewTask(name='spark-submit',\n",
    "                         project='submit-proj',\n",
    "                         params={'spark_options':\"/spark/examples/jars/spark-examples_2.11-2.4.4.jar 10\",'v3io_access_key':'96ce94f5-8680-4a27-bd0b-9025626d7d2f','class_param':'org.apache.spark.examples.SparkPi'},                                                  \n",
    "                         handler=handler)"
   ]
  },
  {
   "cell_type": "code",
   "execution_count": 53,
   "metadata": {},
   "outputs": [],
   "source": [
    "#submit_run = run_local(submit_task)"
   ]
  },
  {
   "cell_type": "markdown",
   "metadata": {},
   "source": [
    "### Test on cluster"
   ]
  },
  {
   "cell_type": "markdown",
   "metadata": {},
   "source": [
    "Convert the code to an MLRun function"
   ]
  },
  {
   "cell_type": "code",
   "execution_count": 54,
   "metadata": {},
   "outputs": [
    {
     "name": "stdout",
     "output_type": "stream",
     "text": [
      "[mlrun] 2020-06-17 10:02:33,837 function spec saved to path: function.yaml\n"
     ]
    },
    {
     "data": {
      "text/plain": [
       "<mlrun.runtimes.kubejob.KubejobRuntime at 0x7f1e3b067630>"
      ]
     },
     "execution_count": 54,
     "metadata": {},
     "output_type": "execute_result"
    }
   ],
   "source": [
    "fn = code_to_function('submit', handler='handler')\n",
    "fn.spec.service_account='mlrun-api'\n",
    "fn.apply(mount_v3io())\n",
    "fn.export('function.yaml')"
   ]
  },
  {
   "cell_type": "code",
   "execution_count": null,
   "metadata": {},
   "outputs": [
    {
     "name": "stdout",
     "output_type": "stream",
     "text": [
      "[mlrun] 2020-06-17 10:02:33,845 artifact path is not defined or is local, artifacts will not be visible in the UI\n",
      "[mlrun] 2020-06-17 10:02:33,853 starting run spark-submit uid=5c43be949e29421c95939fe2e4e011cb  -> http://10.199.81.213:8080\n",
      "[mlrun] 2020-06-17 10:02:33,949 Job is running in the background, pod: spark-submit-rps2k\n",
      "[mlrun] 2020-06-17 10:02:41,007 artifact path is not defined or is local, artifacts will not be visible in the UI\n",
      "[mlrun] 2020-06-17 10:02:41,017 warning!, server (0.4.7) and client (0.4.9) ver dont match\n",
      "[mlrun] 2020-06-17 10:02:41,030 starting local run: main.py # handler\n",
      "[mlrun] 2020-06-17 10:02:41,036 warning!, server (0.4.7) and client (0.4.9) ver dont match\n"
     ]
    }
   ],
   "source": [
    "execute_run = fn.run(execute_task)"
   ]
  },
  {
   "cell_type": "markdown",
   "metadata": {},
   "source": [
    "### Show results"
   ]
  },
  {
   "cell_type": "code",
   "execution_count": null,
   "metadata": {},
   "outputs": [],
   "source": []
  },
  {
   "cell_type": "code",
   "execution_count": null,
   "metadata": {},
   "outputs": [],
   "source": []
  },
  {
   "cell_type": "code",
   "execution_count": null,
   "metadata": {},
   "outputs": [],
   "source": []
  }
 ],
 "metadata": {
  "kernelspec": {
   "display_name": "Python 3",
   "language": "python",
   "name": "python3"
  },
  "language_info": {
   "codemirror_mode": {
    "name": "ipython",
    "version": 3
   },
   "file_extension": ".py",
   "mimetype": "text/x-python",
   "name": "python",
   "nbconvert_exporter": "python",
   "pygments_lexer": "ipython3",
   "version": "3.6.8"
  }
 },
 "nbformat": 4,
 "nbformat_minor": 4
}
