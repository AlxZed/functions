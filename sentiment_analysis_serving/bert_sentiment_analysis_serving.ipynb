{
 "cells": [
  {
   "cell_type": "markdown",
   "metadata": {},
   "source": [
    "## BERT Based Sentiment Analysis Model Server\n",
    "The model used here, was trained with the concept of transfer learning  i.e. taking huggingface transformers pretrained BERT model and further training it on a custom dataset of reviews. this yields a sentiment analysis model based on the prior knowledge of BERT. \n",
    "The model server is given a list of texts and outputs a list of labels corresponding to its prediction.\n",
    "The labels express the sentiment of the writer towards the topic of the text:\n",
    "0 for negative sentiment, 1 for neutral and 2 for positive.\n",
    "\n",
    "The model file (~430 MB), can be downloaded to your local environment from: https://iguazio-sample-data.s3.amazonaws.com/models/model.pt"
   ]
  },
  {
   "cell_type": "code",
   "execution_count": 33,
   "metadata": {},
   "outputs": [],
   "source": [
    "# nuclio: ignore\n",
    "import nuclio"
   ]
  },
  {
   "cell_type": "markdown",
   "metadata": {},
   "source": [
    "### function code \n",
    "below is the model architecture, implemented with pytorch whose main component is bert."
   ]
  },
  {
   "cell_type": "code",
   "execution_count": 34,
   "metadata": {},
   "outputs": [],
   "source": [
    "import torch\n",
    "import torch.nn as nn\n",
    "from transformers import BertModel, BertTokenizer\n",
    "from cloudpickle import dumps\n",
    "\n",
    "PRETRAINED_MODEL = 'bert-base-cased'\n",
    "tokenizer = BertTokenizer.from_pretrained('bert-base-cased')\n",
    "\n",
    "class BertSentimentClassifier(nn.Module):\n",
    "    def __init__(self, n_classes):\n",
    "        super(BertSentimentClassifier, self).__init__()\n",
    "        self.bert = BertModel.from_pretrained(PRETRAINED_MODEL)\n",
    "        self.dropout = nn.Dropout(p=0.2)\n",
    "        self.out_linear = nn.Linear(self.bert.config.hidden_size, n_classes)\n",
    "        self.softmax = nn.Softmax(dim=1)\n",
    "\n",
    "    def forward(self, input_ids, attention_mask):\n",
    "        _, pooled_out = self.bert(\n",
    "            input_ids=input_ids,\n",
    "            attention_mask=attention_mask\n",
    "        )\n",
    "        out = self.dropout(pooled_out)\n",
    "        out = self.out_linear(out)\n",
    "        return self.softmax(out)"
   ]
  },
  {
   "cell_type": "markdown",
   "metadata": {},
   "source": [
    "#### serving interface\n",
    "The load function essentialy instantiates our custom model with the architecture defined above."
   ]
  },
  {
   "cell_type": "code",
   "execution_count": 35,
   "metadata": {},
   "outputs": [],
   "source": [
    "import mlrun\n",
    "class SentimentClassifierServing(mlrun.serving.V2ModelServer):\n",
    "    def load(self):\n",
    "        model_file, _ = self.get_model('.pt')\n",
    "        device = torch.device('cuda:0') if torch.cuda.is_available() else torch.device('cpu')\n",
    "        model = BertSentimentClassifier(n_classes=3)\n",
    "        model.load_state_dict(torch.load(model_file, map_location=device))\n",
    "        model.eval()\n",
    "        self.model = model\n",
    "    def predict(self, body):\n",
    "        try:\n",
    "            instances = body['inputs']\n",
    "            enc = tokenizer.batch_encode_plus(instances, return_tensors='pt', pad_to_max_length=True)\n",
    "            outputs = self.model(input_ids=enc['input_ids'], attention_mask=enc['attention_mask'])\n",
    "            _, preds = torch.max(outputs, dim=1)\n",
    "            return preds.cpu().tolist()\n",
    "        except Exception as e:\n",
    "            raise Exception(\"Failed to predict %s\" % e)"
   ]
  },
  {
   "cell_type": "code",
   "execution_count": 36,
   "metadata": {},
   "outputs": [],
   "source": [
    "# nuclio: end-code"
   ]
  },
  {
   "cell_type": "markdown",
   "metadata": {},
   "source": [
    "### mlconfig"
   ]
  },
  {
   "cell_type": "code",
   "execution_count": 37,
   "metadata": {},
   "outputs": [],
   "source": [
    "from mlrun import mlconf\n",
    "import os\n",
    "\n",
    "mlconf.dbpath = mlconf.dbpath or 'http://mlrun-api:8080'\n",
    "mlconf.artifact_path = mlconf.artifact_path or f'{os.environ[\"HOME\"]}/artifacts'"
   ]
  },
  {
   "cell_type": "markdown",
   "metadata": {},
   "source": [
    "### test locally\n",
    "You may change model_dir to point at the path where model.pt file is saved"
   ]
  },
  {
   "cell_type": "code",
   "execution_count": 38,
   "metadata": {},
   "outputs": [
    {
     "name": "stdout",
     "output_type": "stream",
     "text": [
      "File ‘/User/myfunctions/functions/sentiment_analysis_serving/models/model.pt’ already there; not retrieving.\n",
      "\n"
     ]
    }
   ],
   "source": [
    "# Run this to download the pre-trained model to your `models` directory\n",
    "import os\n",
    "model_location = 'https://iguazio-sample-data.s3.amazonaws.com/models/model.pt'\n",
    "saved_models_directory = os.path.join(os.path.abspath('./'), 'models')\n",
    "\n",
    "# Create paths\n",
    "os.makedirs(saved_models_directory, exist_ok=1)\n",
    "model_filepath = os.path.join(saved_models_directory, os.path.basename(model_location))\n",
    "!wget -nc -P {saved_models_directory} {model_location} "
   ]
  },
  {
   "cell_type": "code",
   "execution_count": 41,
   "metadata": {},
   "outputs": [
    {
     "name": "stdout",
     "output_type": "stream",
     "text": [
      "> 2021-03-15 12:59:59,405 [info] model model1 was loaded\n",
      "> 2021-03-15 12:59:59,407 [info] Loaded ['model1']\n",
      "> 2021-03-15 12:59:59,424 [info] function spec saved to path: function.yaml\n"
     ]
    },
    {
     "data": {
      "text/plain": [
       "<mlrun.runtimes.serving.ServingRuntime at 0x7f6bdc183490>"
      ]
     },
     "execution_count": 41,
     "metadata": {},
     "output_type": "execute_result"
    }
   ],
   "source": [
    "import mlrun\n",
    "models_path = model_filepath\n",
    "fn = mlrun.code_to_function('my_server', kind='serving')\n",
    "# set the topology/router and add models\n",
    "graph = fn.set_topology(\"router\")\n",
    "fn.add_model(\"model1\", class_name='SentimentClassifierServing', model_path=models_path)\n",
    "# create and use the graph simulator\n",
    "server = fn.to_mock_server()\n",
    "fn.export(\"function.yaml\")"
   ]
  },
  {
   "cell_type": "markdown",
   "metadata": {},
   "source": [
    "#### test 1\n",
    "Here we test a pretty straightforward example for positive sentiment."
   ]
  },
  {
   "cell_type": "code",
   "execution_count": 40,
   "metadata": {},
   "outputs": [
    {
     "name": "stdout",
     "output_type": "stream",
     "text": [
      "[2]\n"
     ]
    }
   ],
   "source": [
    "output = server.test(\"/v2/models/model1/infer\", {\"inputs\":['I had a pleasure to work with such dedicated team. Looking forward to \\\n",
    "             cooperate with each and every one of them again.']})\n",
    "\n",
    "assert output['outputs'] == [2]\n",
    "print(output['outputs'])"
   ]
  },
  {
   "cell_type": "markdown",
   "metadata": {},
   "source": [
    "#### test 2\n",
    "Now we will test a couple more examples. These are arguably harder due to misleading words that express, on their own, an opposite sentiment comparing to the full text. "
   ]
  },
  {
   "cell_type": "code",
   "execution_count": 24,
   "metadata": {},
   "outputs": [
    {
     "name": "stdout",
     "output_type": "stream",
     "text": [
      "[0, 2]\n"
     ]
    }
   ],
   "source": [
    "output2 = server.test(\"/v2/models/model1/infer\",{\"inputs\":['This app is amazingly useless.',\n",
    "                     'As much as I hate to admit it, the new added feature is surprisingly user friendly.']})\n",
    "\n",
    "print(output2['outputs'])\n",
    "assert output['outputs'] == [2]\n",
    "assert output2['outputs'] == [0,2]"
   ]
  },
  {
   "cell_type": "markdown",
   "metadata": {},
   "source": [
    "### remote activation\n",
    "Create a function object with custom specification."
   ]
  },
  {
   "cell_type": "code",
   "execution_count": 25,
   "metadata": {},
   "outputs": [],
   "source": [
    "from mlrun import new_model_server, mount_v3io\n",
    "import requests"
   ]
  },
  {
   "cell_type": "code",
   "execution_count": 26,
   "metadata": {},
   "outputs": [
    {
     "name": "stdout",
     "output_type": "stream",
     "text": [
      "> 2021-03-14 14:49:20,494 [info] function spec saved to path: function.yaml\n"
     ]
    },
    {
     "data": {
      "text/plain": [
       "<mlrun.runtimes.function.RemoteRuntime at 0x7f6bd013f110>"
      ]
     },
     "execution_count": 26,
     "metadata": {},
     "output_type": "execute_result"
    }
   ],
   "source": [
    "fn = new_model_server('sentiment-analysis-serving',\n",
    "                      model_class='SentimentClassifierServing')\n",
    "fn.spec.description = \"BERT based sentiment classification model\"\n",
    "fn.metadata.categories = ['serving', 'NLP', 'BERT', 'sentiment analysis']\n",
    "fn.metadata.labels = {'author': 'roye', 'framework': \"pytorch\"}\n",
    "fn.spec.max_replicas = 1\n",
    "fn.export(\"function.yaml\")\n",
    "\n",
    "fn.add_model('bert_classifier_v1', model_filepath)"
   ]
  },
  {
   "cell_type": "code",
   "execution_count": 31,
   "metadata": {},
   "outputs": [
    {
     "name": "stdout",
     "output_type": "stream",
     "text": [
      "> 2021-03-14 15:04:48,376 [info] function spec saved to path: function.yaml\n"
     ]
    },
    {
     "data": {
      "text/plain": [
       "<mlrun.runtimes.serving.ServingRuntime at 0x7f6be6c6e150>"
      ]
     },
     "execution_count": 31,
     "metadata": {},
     "output_type": "execute_result"
    }
   ],
   "source": [
    "from mlrun import code_to_function, mount_v3io\n",
    "fn = code_to_function('sentiment-analysis-serving', kind='serving')\n",
    "fn.add_model('m1', model_path=model_filepath, class_name='SentimentClassifierServing')\n",
    "fn.apply(mount_v3io())\n",
    "fn.export(\"function.yaml\")"
   ]
  },
  {
   "cell_type": "code",
   "execution_count": 32,
   "metadata": {},
   "outputs": [
    {
     "name": "stdout",
     "output_type": "stream",
     "text": [
      "> 2021-03-14 15:04:49,573 [info] Starting remote function deploy\n",
      "2021-03-14 15:04:49  (info) Deploying function\n",
      "2021-03-14 15:04:49  (info) Building\n",
      "2021-03-14 15:04:50  (info) Staging files and preparing base images\n",
      "2021-03-14 15:04:50  (info) Building processor image\n",
      "2021-03-14 15:04:53  (info) Build complete\n",
      "Failed to deploy. Details:\n",
      "Downloading: 100%|██████████| 213k/213k [00:01<00:00, 125kB/s]  \n",
      "Downloading: 100%|██████████| 433/433 [00:00<00:00, 277kB/s]\n",
      "Downloading: 100%|██████████| 436M/436M [00:08<00:00, 54.1MB/s] \n",
      "Traceback (most recent call last):\n",
      "  File \"/opt/conda/lib/python3.7/site-packages/mlrun/serving/v2_serving.py\", line 88, in _load_and_update_state\n",
      "    self.load()\n",
      "  File \"/opt/nuclio/bert_sentiment_analysis_serving.py\", line 34, in load\n",
      "    model.load_state_dict(torch.load(model_file, map_location=device))\n",
      "  File \"/opt/conda/lib/python3.7/site-packages/torch/nn/modules/module.py\", line 1052, in load_state_dict\n",
      "    self.__class__.__name__, \"\n",
      "\t\".join(error_msgs)))\n",
      "RuntimeError: Error(s) in loading state_dict for BertSentimentClassifier:\n",
      "\tMissing key(s) in state_dict: \"bert.embeddings.position_ids\". \n",
      " [worker_id=\"0\"]\n",
      "Exception raised while running init_context [worker_id=\"0\"]\n",
      "Caught unhandled exception while initializing [err=\"failed to load model m1, Error(s) in loading state_dict for BertSentimentClassifier:\n",
      "\tMissing key(s) in state_dict: \"bert.embeddings.position_ids\". \" || traceback=\"Traceback (most recent call last):\n",
      "  File \"/opt/conda/lib/python3.7/site-packages/mlrun/serving/v2_serving.py\", line 88, in _load_and_update_state\n",
      "    self.load()\n",
      "  File \"/opt/nuclio/bert_sentiment_analysis_serving.py\", line 34, in load\n",
      "    model.load_state_dict(torch.load(model_file, map_location=device))\n",
      "  File \"/opt/conda/lib/python3.7/site-packages/torch/nn/modules/module.py\", line 1052, in load_state_dict\n",
      "    self.__class__.__name__, \"\n",
      "\t\".join(error_msgs)))\n",
      "RuntimeError: Error(s) in loading state_dict for BertSentimentClassifier:\n",
      "\tMissing key(s) in state_dict: \"bert.embeddings.position_ids\". \n",
      "\n",
      "During handling of the above exception, another exception occurred:\n",
      "\n",
      "Traceback (most recent call last):\n",
      "  File \"/opt/nuclio/_nuclio_wrapper.py\", line 350, in run_wrapper\n",
      "    args.trigger_name)\n",
      "  File \"/opt/nuclio/_nuclio_wrapper.py\", line 80, in __init__\n",
      "    getattr(entrypoint_module, 'init_context')(self._context)\n",
      "  File \"/opt/nuclio/bert_sentiment_analysis_serving.py\", line 50, in init_context\n",
      "    nuclio_init_hook(context, globals(), 'serving_v2')\n",
      "  File \"/opt/conda/lib/python3.7/site-packages/mlrun/runtimes/nuclio.py\", line 31, in nuclio_init_hook\n",
      "    v2_serving_init(context, data)\n",
      "  File \"/opt/conda/lib/python3.7/site-packages/mlrun/serving/server.py\", line 234, in v2_serving_init\n",
      "    serving_handler = server.init(context, namespace or get_caller_globals())\n",
      "  File \"/opt/conda/lib/python3.7/site-packages/mlrun/serving/server.py\", line 153, in init\n",
      "    self.graph.init_object(context, namespace, self.load_mode, reset=True)\n",
      "  File \"/opt/conda/lib/python3.7/site-packages/mlrun/serving/states.py\", line 481, in init_object\n",
      "    route.init_object(context, namespace, mode, reset=reset)\n",
      "  File \"/opt/conda/lib/python3.7/site-packages/mlrun/serving/states.py\", line 354, in init_object\n",
      "    self._post_init(mode)\n",
      "  File \"/opt/conda/lib/python3.7/site-packages/mlrun/serving/states.py\", line 379, in _post_init\n",
      "    self._object.post_init(mode)\n",
      "  File \"/opt/conda/lib/python3.7/site-packages/mlrun/serving/v2_serving.py\", line 104, in post_init\n",
      "    self._load_and_update_state()\n",
      "  File \"/opt/conda/lib/python3.7/site-packages/mlrun/serving/v2_serving.py\", line 92, in _load_and_update_state\n",
      "    raise RuntimeError(f\"failed to load model {self.name}, {exc}\")\n",
      "RuntimeError: failed to load model m1, Error(s) in loading state_dict for BertSentimentClassifier:\n",
      "\tMissing key(s) in state_dict: \"bert.embeddings.position_ids\". \n",
      "\" || worker_id=\"0\"]\n",
      "> 2021-03-14 15:05:53,316 [error] Nuclio function failed to deploy\n"
     ]
    },
    {
     "ename": "RunError",
     "evalue": "cannot deploy Failed to deploy. Details:\n\rDownloading:   0%|          | 0.00/213k [00:00<?, ?B/s]\rDownloading:   4%|▍         | 8.19k/213k [00:00<00:03, 58.9kB/s]\rDownloading:  10%|▉         | 20.5k/213k [00:00<00:02, 65.8kB/s]\rDownloading:  17%|█▋        | 36.9k/213k [00:00<00:02, 74.7kB/s]\rDownloading:  21%|██        | 45.1k/213k [00:00<00:02, 68.6kB/s]\rDownloading:  31%|███       | 65.5k/213k [00:00<00:01, 81.5kB/s]\rDownloading:  38%|███▊      | 81.9k/213k [00:00<00:01, 89.3kB/s]\rDownloading:  46%|████▌     | 98.3k/213k [00:00<00:01, 96.2kB/s]\rDownloading:  54%|█████▎    | 115k/213k [00:01<00:00, 101kB/s]  \rDownloading:  63%|██████▎   | 135k/213k [00:01<00:00, 111kB/s]\rDownloading:  71%|███████   | 152k/213k [00:01<00:00, 113kB/s]\rDownloading:  81%|████████  | 172k/213k [00:01<00:00, 121kB/s]\rDownloading:  90%|█████████ | 193k/213k [00:01<00:00, 127kB/s]\rDownloading: 100%|██████████| 213k/213k [00:01<00:00, 125kB/s]\n\rDownloading:   0%|          | 0.00/433 [00:00<?, ?B/s]\rDownloading: 100%|██████████| 433/433 [00:00<00:00, 277kB/s]\n\rDownloading:   0%|          | 0.00/436M [00:00<?, ?B/s]\rDownloading:   1%|          | 4.57M/436M [00:00<00:09, 45.7MB/s]\rDownloading:   2%|▏         | 9.88M/436M [00:00<00:08, 47.7MB/s]\rDownloading:   3%|▎         | 14.7M/436M [00:00<00:08, 47.8MB/s]\rDownloading:   5%|▍         | 20.0M/436M [00:00<00:08, 49.4MB/s]\rDownloading:   6%|▌         | 25.4M/436M [00:00<00:08, 50.7MB/s]\rDownloading:   7%|▋         | 30.9M/436M [00:00<00:07, 51.7MB/s]\rDownloading:   8%|▊         | 36.0M/436M [00:00<00:07, 51.6MB/s]\rDownloading:   9%|▉         | 40.8M/436M [00:00<00:07, 50.2MB/s]\rDownloading:  11%|█         | 45.9M/436M [00:00<00:07, 50.3MB/s]\rDownloading:  12%|█▏        | 51.3M/436M [00:01<00:07, 51.5MB/s]\rDownloading:  13%|█▎        | 56.8M/436M [00:01<00:07, 52.4MB/s]\rDownloading:  14%|█▍        | 62.3M/436M [00:01<00:07, 53.2MB/s]\rDownloading:  16%|█▌        | 67.7M/436M [00:01<00:06, 53.6MB/s]\rDownloading:  17%|█▋        | 73.2M/436M [00:01<00:06, 53.8MB/s]\rDownloading:  18%|█▊        | 78.7M/436M [00:01<00:06, 54.1MB/s]\rDownloading:  19%|█▉        | 84.1M/436M [00:01<00:06, 54.3MB/s]\rDownloading:  21%|██        | 89.6M/436M [00:01<00:06, 54.1MB/s]\rDownloading:  22%|██▏       | 95.0M/436M [00:01<00:06, 54.2MB/s]\rDownloading:  23%|██▎       | 100M/436M [00:01<00:06, 54.4MB/s] \rDownloading:  24%|██▍       | 106M/436M [00:02<00:06, 54.7MB/s]\rDownloading:  26%|██▌       | 112M/436M [00:02<00:05, 54.9MB/s]\rDownloading:  27%|██▋       | 117M/436M [00:02<00:05, 55.0MB/s]\rDownloading:  28%|██▊       | 123M/436M [00:02<00:05, 55.1MB/s]\rDownloading:  29%|██▉       | 128M/436M [00:02<00:05, 55.2MB/s]\rDownloading:  31%|███       | 134M/436M [00:02<00:05, 55.1MB/s]\rDownloading:  32%|███▏      | 139M/436M [00:02<00:05, 54.9MB/s]\rDownloading:  33%|███▎      | 145M/436M [00:02<00:05, 54.9MB/s]\rDownloading:  34%|███▍      | 150M/436M [00:02<00:05, 54.8MB/s]\rDownloading:  36%|███▌      | 156M/436M [00:02<00:05, 54.9MB/s]\rDownloading:  37%|███▋      | 161M/436M [00:03<00:05, 54.9MB/s]\rDownloading:  38%|███▊      | 167M/436M [00:03<00:04, 54.8MB/s]\rDownloading:  40%|███▉      | 172M/436M [00:03<00:04, 54.7MB/s]\rDownloading:  41%|████      | 178M/436M [00:03<00:04, 54.6MB/s]\rDownloading:  42%|████▏     | 183M/436M [00:03<00:04, 54.7MB/s]\rDownloading:  43%|████▎     | 189M/436M [00:03<00:04, 54.8MB/s]\rDownloading:  45%|████▍     | 194M/436M [00:03<00:04, 54.5MB/s]\rDownloading:  46%|████▌     | 200M/436M [00:03<00:04, 54.3MB/s]\rDownloading:  47%|████▋     | 205M/436M [00:03<00:04, 54.3MB/s]\rDownloading:  48%|████▊     | 210M/436M [00:03<00:04, 54.3MB/s]\rDownloading:  50%|████▉     | 216M/436M [00:04<00:04, 53.7MB/s]\rDownloading:  51%|█████     | 221M/436M [00:04<00:03, 53.9MB/s]\rDownloading:  52%|█████▏    | 227M/436M [00:04<00:03, 54.1MB/s]\rDownloading:  53%|█████▎    | 232M/436M [00:04<00:03, 54.3MB/s]\rDownloading:  55%|█████▍    | 238M/436M [00:04<00:03, 54.5MB/s]\rDownloading:  56%|█████▌    | 243M/436M [00:04<00:03, 54.5MB/s]\rDownloading:  57%|█████▋    | 249M/436M [00:04<00:03, 54.4MB/s]\rDownloading:  58%|█████▊    | 254M/436M [00:04<00:03, 54.4MB/s]\rDownloading:  60%|█████▉    | 260M/436M [00:04<00:03, 54.5MB/s]\rDownloading:  61%|██████    | 265M/436M [00:04<00:03, 54.4MB/s]\rDownloading:  62%|██████▏   | 270M/436M [00:05<00:03, 54.2MB/s]\rDownloading:  63%|██████▎   | 276M/436M [00:05<00:02, 54.3MB/s]\rDownloading:  65%|██████▍   | 281M/436M [00:05<00:02, 54.5MB/s]\rDownloading:  66%|██████▌   | 287M/436M [00:05<00:02, 54.5MB/s]\rDownloading:  67%|██████▋   | 292M/436M [00:05<00:02, 54.4MB/s]\rDownloading:  68%|██████▊   | 298M/436M [00:05<00:02, 54.2MB/s]\rDownloading:  70%|██████▉   | 303M/436M [00:05<00:02, 54.1MB/s]\rDownloading:  71%|███████   | 309M/436M [00:05<00:02, 54.1MB/s]\rDownloading:  72%|███████▏  | 314M/436M [00:05<00:02, 52.9MB/s]\rDownloading:  73%|███████▎  | 319M/436M [00:05<00:02, 53.3MB/s]\rDownloading:  75%|███████▍  | 325M/436M [00:06<00:02, 53.4MB/s]\rDownloading:  76%|███████▌  | 330M/436M [00:06<00:01, 53.9MB/s]\rDownloading:  77%|███████▋  | 336M/436M [00:06<00:01, 53.9MB/s]\rDownloading:  78%|███████▊  | 341M/436M [00:06<00:01, 53.8MB/s]\rDownloading:  80%|███████▉  | 346M/436M [00:06<00:01, 53.9MB/s]\rDownloading:  81%|████████  | 352M/436M [00:06<00:01, 54.0MB/s]\rDownloading:  82%|████████▏ | 357M/436M [00:06<00:01, 54.1MB/s]\rDownloading:  83%|████████▎ | 363M/436M [00:06<00:01, 54.1MB/s]\rDownloading:  84%|████████▍ | 368M/436M [00:06<00:01, 54.2MB/s]\rDownloading:  86%|████████▌ | 374M/436M [00:06<00:01, 54.3MB/s]\rDownloading:  87%|████████▋ | 379M/436M [00:07<00:01, 54.5MB/s]\rDownloading:  88%|████████▊ | 385M/436M [00:07<00:00, 54.6MB/s]\rDownloading:  90%|████████▉ | 390M/436M [00:07<00:00, 54.8MB/s]\rDownloading:  91%|█████████ | 396M/436M [00:07<00:00, 54.8MB/s]\rDownloading:  92%|█████████▏| 401M/436M [00:07<00:00, 54.9MB/s]\rDownloading:  93%|█████████▎| 407M/436M [00:07<00:00, 54.9MB/s]\rDownloading:  95%|█████████▍| 412M/436M [00:07<00:00, 54.7MB/s]\rDownloading:  96%|█████████▌| 418M/436M [00:07<00:00, 54.8MB/s]\rDownloading:  97%|█████████▋| 423M/436M [00:07<00:00, 54.9MB/s]\rDownloading:  98%|█████████▊| 429M/436M [00:07<00:00, 54.8MB/s]\rDownloading: 100%|█████████▉| 434M/436M [00:08<00:00, 54.8MB/s]\rDownloading: 100%|██████████| 436M/436M [00:08<00:00, 54.1MB/s]\nTraceback (most recent call last):\n  File \"/opt/conda/lib/python3.7/site-packages/mlrun/serving/v2_serving.py\", line 88, in _load_and_update_state\n    self.load()\n  File \"/opt/nuclio/bert_sentiment_analysis_serving.py\", line 34, in load\n    model.load_state_dict(torch.load(model_file, map_location=device))\n  File \"/opt/conda/lib/python3.7/site-packages/torch/nn/modules/module.py\", line 1052, in load_state_dict\n    self.__class__.__name__, \"\n\t\".join(error_msgs)))\nRuntimeError: Error(s) in loading state_dict for BertSentimentClassifier:\n\tMissing key(s) in state_dict: \"bert.embeddings.position_ids\". \n [worker_id=\"0\"]\nException raised while running init_context [worker_id=\"0\"]\nCaught unhandled exception while initializing [err=\"failed to load model m1, Error(s) in loading state_dict for BertSentimentClassifier:\n\tMissing key(s) in state_dict: \"bert.embeddings.position_ids\". \" || traceback=\"Traceback (most recent call last):\n  File \"/opt/conda/lib/python3.7/site-packages/mlrun/serving/v2_serving.py\", line 88, in _load_and_update_state\n    self.load()\n  File \"/opt/nuclio/bert_sentiment_analysis_serving.py\", line 34, in load\n    model.load_state_dict(torch.load(model_file, map_location=device))\n  File \"/opt/conda/lib/python3.7/site-packages/torch/nn/modules/module.py\", line 1052, in load_state_dict\n    self.__class__.__name__, \"\n\t\".join(error_msgs)))\nRuntimeError: Error(s) in loading state_dict for BertSentimentClassifier:\n\tMissing key(s) in state_dict: \"bert.embeddings.position_ids\". \n\nDuring handling of the above exception, another exception occurred:\n\nTraceback (most recent call last):\n  File \"/opt/nuclio/_nuclio_wrapper.py\", line 350, in run_wrapper\n    args.trigger_name)\n  File \"/opt/nuclio/_nuclio_wrapper.py\", line 80, in __init__\n    getattr(entrypoint_module, 'init_context')(self._context)\n  File \"/opt/nuclio/bert_sentiment_analysis_serving.py\", line 50, in init_context\n    nuclio_init_hook(context, globals(), 'serving_v2')\n  File \"/opt/conda/lib/python3.7/site-packages/mlrun/runtimes/nuclio.py\", line 31, in nuclio_init_hook\n    v2_serving_init(context, data)\n  File \"/opt/conda/lib/python3.7/site-packages/mlrun/serving/server.py\", line 234, in v2_serving_init\n    serving_handler = server.init(context, namespace or get_caller_globals())\n  File \"/opt/conda/lib/python3.7/site-packages/mlrun/serving/server.py\", line 153, in init\n    self.graph.init_object(context, namespace, self.load_mode, reset=True)\n  File \"/opt/conda/lib/python3.7/site-packages/mlrun/serving/states.py\", line 481, in init_object\n    route.init_object(context, namespace, mode, reset=reset)\n  File \"/opt/conda/lib/python3.7/site-packages/mlrun/serving/states.py\", line 354, in init_object\n    self._post_init(mode)\n  File \"/opt/conda/lib/python3.7/site-packages/mlrun/serving/states.py\", line 379, in _post_init\n    self._object.post_init(mode)\n  File \"/opt/conda/lib/python3.7/site-packages/mlrun/serving/v2_serving.py\", line 104, in post_init\n    self._load_and_update_state()\n  File \"/opt/conda/lib/python3.7/site-packages/mlrun/serving/v2_serving.py\", line 92, in _load_and_update_state\n    raise RuntimeError(f\"failed to load model {self.name}, {exc}\")\nRuntimeError: failed to load model m1, Error(s) in loading state_dict for BertSentimentClassifier:\n\tMissing key(s) in state_dict: \"bert.embeddings.position_ids\". \n\" || worker_id=\"0\"]",
     "output_type": "error",
     "traceback": [
      "\u001b[0;31m---------------------------------------------------------------------------\u001b[0m",
      "\u001b[0;31mRunError\u001b[0m                                  Traceback (most recent call last)",
      "\u001b[0;32m<ipython-input-32-5716dc5bd390>\u001b[0m in \u001b[0;36m<module>\u001b[0;34m\u001b[0m\n\u001b[0;32m----> 1\u001b[0;31m \u001b[0maddr\u001b[0m \u001b[0;34m=\u001b[0m \u001b[0mfn\u001b[0m\u001b[0;34m.\u001b[0m\u001b[0mdeploy\u001b[0m\u001b[0;34m(\u001b[0m\u001b[0mproject\u001b[0m\u001b[0;34m=\u001b[0m\u001b[0;34m'nlp-servers'\u001b[0m\u001b[0;34m)\u001b[0m\u001b[0;34m\u001b[0m\u001b[0;34m\u001b[0m\u001b[0m\n\u001b[0m",
      "\u001b[0;32m~/.pythonlibs/jupyter-avia/lib/python3.7/site-packages/mlrun/runtimes/serving.py\u001b[0m in \u001b[0;36mdeploy\u001b[0;34m(self, dashboard, project, tag, verbose)\u001b[0m\n\u001b[1;32m    423\u001b[0m             \u001b[0mlogger\u001b[0m\u001b[0;34m.\u001b[0m\u001b[0minfo\u001b[0m\u001b[0;34m(\u001b[0m\u001b[0;34mf\"deploy root function {self.metadata.name} ...\"\u001b[0m\u001b[0;34m)\u001b[0m\u001b[0;34m\u001b[0m\u001b[0;34m\u001b[0m\u001b[0m\n\u001b[1;32m    424\u001b[0m \u001b[0;34m\u001b[0m\u001b[0m\n\u001b[0;32m--> 425\u001b[0;31m         \u001b[0;32mreturn\u001b[0m \u001b[0msuper\u001b[0m\u001b[0;34m(\u001b[0m\u001b[0;34m)\u001b[0m\u001b[0;34m.\u001b[0m\u001b[0mdeploy\u001b[0m\u001b[0;34m(\u001b[0m\u001b[0mdashboard\u001b[0m\u001b[0;34m,\u001b[0m \u001b[0mproject\u001b[0m\u001b[0;34m,\u001b[0m \u001b[0mtag\u001b[0m\u001b[0;34m,\u001b[0m \u001b[0mverbose\u001b[0m\u001b[0;34m=\u001b[0m\u001b[0mverbose\u001b[0m\u001b[0;34m)\u001b[0m\u001b[0;34m\u001b[0m\u001b[0;34m\u001b[0m\u001b[0m\n\u001b[0m\u001b[1;32m    426\u001b[0m \u001b[0;34m\u001b[0m\u001b[0m\n\u001b[1;32m    427\u001b[0m     \u001b[0;32mdef\u001b[0m \u001b[0m_get_runtime_env\u001b[0m\u001b[0;34m(\u001b[0m\u001b[0mself\u001b[0m\u001b[0;34m)\u001b[0m\u001b[0;34m:\u001b[0m\u001b[0;34m\u001b[0m\u001b[0;34m\u001b[0m\u001b[0m\n",
      "\u001b[0;32m~/.pythonlibs/jupyter-avia/lib/python3.7/site-packages/mlrun/runtimes/function.py\u001b[0m in \u001b[0;36mdeploy\u001b[0;34m(self, dashboard, project, tag, verbose)\u001b[0m\n\u001b[1;32m    288\u001b[0m             \u001b[0;32mif\u001b[0m \u001b[0mstate\u001b[0m \u001b[0;34m!=\u001b[0m \u001b[0;34m\"ready\"\u001b[0m\u001b[0;34m:\u001b[0m\u001b[0;34m\u001b[0m\u001b[0;34m\u001b[0m\u001b[0m\n\u001b[1;32m    289\u001b[0m                 \u001b[0mlogger\u001b[0m\u001b[0;34m.\u001b[0m\u001b[0merror\u001b[0m\u001b[0;34m(\u001b[0m\u001b[0;34m\"Nuclio function failed to deploy\"\u001b[0m\u001b[0;34m)\u001b[0m\u001b[0;34m\u001b[0m\u001b[0;34m\u001b[0m\u001b[0m\n\u001b[0;32m--> 290\u001b[0;31m                 \u001b[0;32mraise\u001b[0m \u001b[0mRunError\u001b[0m\u001b[0;34m(\u001b[0m\u001b[0;34mf\"cannot deploy {text}\"\u001b[0m\u001b[0;34m)\u001b[0m\u001b[0;34m\u001b[0m\u001b[0;34m\u001b[0m\u001b[0m\n\u001b[0m\u001b[1;32m    291\u001b[0m \u001b[0;34m\u001b[0m\u001b[0m\n\u001b[1;32m    292\u001b[0m             \u001b[0;32mif\u001b[0m \u001b[0mself\u001b[0m\u001b[0;34m.\u001b[0m\u001b[0mstatus\u001b[0m\u001b[0;34m.\u001b[0m\u001b[0maddress\u001b[0m\u001b[0;34m:\u001b[0m\u001b[0;34m\u001b[0m\u001b[0;34m\u001b[0m\u001b[0m\n",
      "\u001b[0;31mRunError\u001b[0m: cannot deploy Failed to deploy. Details:\n\rDownloading:   0%|          | 0.00/213k [00:00<?, ?B/s]\rDownloading:   4%|▍         | 8.19k/213k [00:00<00:03, 58.9kB/s]\rDownloading:  10%|▉         | 20.5k/213k [00:00<00:02, 65.8kB/s]\rDownloading:  17%|█▋        | 36.9k/213k [00:00<00:02, 74.7kB/s]\rDownloading:  21%|██        | 45.1k/213k [00:00<00:02, 68.6kB/s]\rDownloading:  31%|███       | 65.5k/213k [00:00<00:01, 81.5kB/s]\rDownloading:  38%|███▊      | 81.9k/213k [00:00<00:01, 89.3kB/s]\rDownloading:  46%|████▌     | 98.3k/213k [00:00<00:01, 96.2kB/s]\rDownloading:  54%|█████▎    | 115k/213k [00:01<00:00, 101kB/s]  \rDownloading:  63%|██████▎   | 135k/213k [00:01<00:00, 111kB/s]\rDownloading:  71%|███████   | 152k/213k [00:01<00:00, 113kB/s]\rDownloading:  81%|████████  | 172k/213k [00:01<00:00, 121kB/s]\rDownloading:  90%|█████████ | 193k/213k [00:01<00:00, 127kB/s]\rDownloading: 100%|██████████| 213k/213k [00:01<00:00, 125kB/s]\n\rDownloading:   0%|          | 0.00/433 [00:00<?, ?B/s]\rDownloading: 100%|██████████| 433/433 [00:00<00:00, 277kB/s]\n\rDownloading:   0%|          | 0.00/436M [00:00<?, ?B/s]\rDownloading:   1%|          | 4.57M/436M [00:00<00:09, 45.7MB/s]\rDownloading:   2%|▏         | 9.88M/436M [00:00<00:08, 47.7MB/s]\rDownloading:   3%|▎         | 14.7M/436M [00:00<00:08, 47.8MB/s]\rDownloading:   5%|▍         | 20.0M/436M [00:00<00:08, 49.4MB/s]\rDownloading:   6%|▌         | 25.4M/436M [00:00<00:08, 50.7MB/s]\rDownloading:   7%|▋         | 30.9M/436M [00:00<00:07, 51.7MB/s]\rDownloading:   8%|▊         | 36.0M/436M [00:00<00:07, 51.6MB/s]\rDownloading:   9%|▉         | 40.8M/436M [00:00<00:07, 50.2MB/s]\rDownloading:  11%|█         | 45.9M/436M [00:00<00:07, 50.3MB/s]\rDownloading:  12%|█▏        | 51.3M/436M [00:01<00:07, 51.5MB/s]\rDownloading:  13%|█▎        | 56.8M/436M [00:01<00:07, 52.4MB/s]\rDownloading:  14%|█▍        | 62.3M/436M [00:01<00:07, 53.2MB/s]\rDownloading:  16%|█▌        | 67.7M/436M [00:01<00:06, 53.6MB/s]\rDownloading:  17%|█▋        | 73.2M/436M [00:01<00:06, 53.8MB/s]\rDownloading:  18%|█▊        | 78.7M/436M [00:01<00:06, 54.1MB/s]\rDownloading:  19%|█▉        | 84.1M/436M [00:01<00:06, 54.3MB/s]\rDownloading:  21%|██        | 89.6M/436M [00:01<00:06, 54.1MB/s]\rDownloading:  22%|██▏       | 95.0M/436M [00:01<00:06, 54.2MB/s]\rDownloading:  23%|██▎       | 100M/436M [00:01<00:06, 54.4MB/s] \rDownloading:  24%|██▍       | 106M/436M [00:02<00:06, 54.7MB/s]\rDownloading:  26%|██▌       | 112M/436M [00:02<00:05, 54.9MB/s]\rDownloading:  27%|██▋       | 117M/436M [00:02<00:05, 55.0MB/s]\rDownloading:  28%|██▊       | 123M/436M [00:02<00:05, 55.1MB/s]\rDownloading:  29%|██▉       | 128M/436M [00:02<00:05, 55.2MB/s]\rDownloading:  31%|███       | 134M/436M [00:02<00:05, 55.1MB/s]\rDownloading:  32%|███▏      | 139M/436M [00:02<00:05, 54.9MB/s]\rDownloading:  33%|███▎      | 145M/436M [00:02<00:05, 54.9MB/s]\rDownloading:  34%|███▍      | 150M/436M [00:02<00:05, 54.8MB/s]\rDownloading:  36%|███▌      | 156M/436M [00:02<00:05, 54.9MB/s]\rDownloading:  37%|███▋      | 161M/436M [00:03<00:05, 54.9MB/s]\rDownloading:  38%|███▊      | 167M/436M [00:03<00:04, 54.8MB/s]\rDownloading:  40%|███▉      | 172M/436M [00:03<00:04, 54.7MB/s]\rDownloading:  41%|████      | 178M/436M [00:03<00:04, 54.6MB/s]\rDownloading:  42%|████▏     | 183M/436M [00:03<00:04, 54.7MB/s]\rDownloading:  43%|████▎     | 189M/436M [00:03<00:04, 54.8MB/s]\rDownloading:  45%|████▍     | 194M/436M [00:03<00:04, 54.5MB/s]\rDownloading:  46%|████▌     | 200M/436M [00:03<00:04, 54.3MB/s]\rDownloading:  47%|████▋     | 205M/436M [00:03<00:04, 54.3MB/s]\rDownloading:  48%|████▊     | 210M/436M [00:03<00:04, 54.3MB/s]\rDownloading:  50%|████▉     | 216M/436M [00:04<00:04, 53.7MB/s]\rDownloading:  51%|█████     | 221M/436M [00:04<00:03, 53.9MB/s]\rDownloading:  52%|█████▏    | 227M/436M [00:04<00:03, 54.1MB/s]\rDownloading:  53%|█████▎    | 232M/436M [00:04<00:03, 54.3MB/s]\rDownloading:  55%|█████▍    | 238M/436M [00:04<00:03, 54.5MB/s]\rDownloading:  56%|█████▌    | 243M/436M [00:04<00:03, 54.5MB/s]\rDownloading:  57%|█████▋    | 249M/436M [00:04<00:03, 54.4MB/s]\rDownloading:  58%|█████▊    | 254M/436M [00:04<00:03, 54.4MB/s]\rDownloading:  60%|█████▉    | 260M/436M [00:04<00:03, 54.5MB/s]\rDownloading:  61%|██████    | 265M/436M [00:04<00:03, 54.4MB/s]\rDownloading:  62%|██████▏   | 270M/436M [00:05<00:03, 54.2MB/s]\rDownloading:  63%|██████▎   | 276M/436M [00:05<00:02, 54.3MB/s]\rDownloading:  65%|██████▍   | 281M/436M [00:05<00:02, 54.5MB/s]\rDownloading:  66%|██████▌   | 287M/436M [00:05<00:02, 54.5MB/s]\rDownloading:  67%|██████▋   | 292M/436M [00:05<00:02, 54.4MB/s]\rDownloading:  68%|██████▊   | 298M/436M [00:05<00:02, 54.2MB/s]\rDownloading:  70%|██████▉   | 303M/436M [00:05<00:02, 54.1MB/s]\rDownloading:  71%|███████   | 309M/436M [00:05<00:02, 54.1MB/s]\rDownloading:  72%|███████▏  | 314M/436M [00:05<00:02, 52.9MB/s]\rDownloading:  73%|███████▎  | 319M/436M [00:05<00:02, 53.3MB/s]\rDownloading:  75%|███████▍  | 325M/436M [00:06<00:02, 53.4MB/s]\rDownloading:  76%|███████▌  | 330M/436M [00:06<00:01, 53.9MB/s]\rDownloading:  77%|███████▋  | 336M/436M [00:06<00:01, 53.9MB/s]\rDownloading:  78%|███████▊  | 341M/436M [00:06<00:01, 53.8MB/s]\rDownloading:  80%|███████▉  | 346M/436M [00:06<00:01, 53.9MB/s]\rDownloading:  81%|████████  | 352M/436M [00:06<00:01, 54.0MB/s]\rDownloading:  82%|████████▏ | 357M/436M [00:06<00:01, 54.1MB/s]\rDownloading:  83%|████████▎ | 363M/436M [00:06<00:01, 54.1MB/s]\rDownloading:  84%|████████▍ | 368M/436M [00:06<00:01, 54.2MB/s]\rDownloading:  86%|████████▌ | 374M/436M [00:06<00:01, 54.3MB/s]\rDownloading:  87%|████████▋ | 379M/436M [00:07<00:01, 54.5MB/s]\rDownloading:  88%|████████▊ | 385M/436M [00:07<00:00, 54.6MB/s]\rDownloading:  90%|████████▉ | 390M/436M [00:07<00:00, 54.8MB/s]\rDownloading:  91%|█████████ | 396M/436M [00:07<00:00, 54.8MB/s]\rDownloading:  92%|█████████▏| 401M/436M [00:07<00:00, 54.9MB/s]\rDownloading:  93%|█████████▎| 407M/436M [00:07<00:00, 54.9MB/s]\rDownloading:  95%|█████████▍| 412M/436M [00:07<00:00, 54.7MB/s]\rDownloading:  96%|█████████▌| 418M/436M [00:07<00:00, 54.8MB/s]\rDownloading:  97%|█████████▋| 423M/436M [00:07<00:00, 54.9MB/s]\rDownloading:  98%|█████████▊| 429M/436M [00:07<00:00, 54.8MB/s]\rDownloading: 100%|█████████▉| 434M/436M [00:08<00:00, 54.8MB/s]\rDownloading: 100%|██████████| 436M/436M [00:08<00:00, 54.1MB/s]\nTraceback (most recent call last):\n  File \"/opt/conda/lib/python3.7/site-packages/mlrun/serving/v2_serving.py\", line 88, in _load_and_update_state\n    self.load()\n  File \"/opt/nuclio/bert_sentiment_analysis_serving.py\", line 34, in load\n    model.load_state_dict(torch.load(model_file, map_location=device))\n  File \"/opt/conda/lib/python3.7/site-packages/torch/nn/modules/module.py\", line 1052, in load_state_dict\n    self.__class__.__name__, \"\n\t\".join(error_msgs)))\nRuntimeError: Error(s) in loading state_dict for BertSentimentClassifier:\n\tMissing key(s) in state_dict: \"bert.embeddings.position_ids\". \n [worker_id=\"0\"]\nException raised while running init_context [worker_id=\"0\"]\nCaught unhandled exception while initializing [err=\"failed to load model m1, Error(s) in loading state_dict for BertSentimentClassifier:\n\tMissing key(s) in state_dict: \"bert.embeddings.position_ids\". \" || traceback=\"Traceback (most recent call last):\n  File \"/opt/conda/lib/python3.7/site-packages/mlrun/serving/v2_serving.py\", line 88, in _load_and_update_state\n    self.load()\n  File \"/opt/nuclio/bert_sentiment_analysis_serving.py\", line 34, in load\n    model.load_state_dict(torch.load(model_file, map_location=device))\n  File \"/opt/conda/lib/python3.7/site-packages/torch/nn/modules/module.py\", line 1052, in load_state_dict\n    self.__class__.__name__, \"\n\t\".join(error_msgs)))\nRuntimeError: Error(s) in loading state_dict for BertSentimentClassifier:\n\tMissing key(s) in state_dict: \"bert.embeddings.position_ids\". \n\nDuring handling of the above exception, another exception occurred:\n\nTraceback (most recent call last):\n  File \"/opt/nuclio/_nuclio_wrapper.py\", line 350, in run_wrapper\n    args.trigger_name)\n  File \"/opt/nuclio/_nuclio_wrapper.py\", line 80, in __init__\n    getattr(entrypoint_module, 'init_context')(self._context)\n  File \"/opt/nuclio/bert_sentiment_analysis_serving.py\", line 50, in init_context\n    nuclio_init_hook(context, globals(), 'serving_v2')\n  File \"/opt/conda/lib/python3.7/site-packages/mlrun/runtimes/nuclio.py\", line 31, in nuclio_init_hook\n    v2_serving_init(context, data)\n  File \"/opt/conda/lib/python3.7/site-packages/mlrun/serving/server.py\", line 234, in v2_serving_init\n    serving_handler = server.init(context, namespace or get_caller_globals())\n  File \"/opt/conda/lib/python3.7/site-packages/mlrun/serving/server.py\", line 153, in init\n    self.graph.init_object(context, namespace, self.load_mode, reset=True)\n  File \"/opt/conda/lib/python3.7/site-packages/mlrun/serving/states.py\", line 481, in init_object\n    route.init_object(context, namespace, mode, reset=reset)\n  File \"/opt/conda/lib/python3.7/site-packages/mlrun/serving/states.py\", line 354, in init_object\n    self._post_init(mode)\n  File \"/opt/conda/lib/python3.7/site-packages/mlrun/serving/states.py\", line 379, in _post_init\n    self._object.post_init(mode)\n  File \"/opt/conda/lib/python3.7/site-packages/mlrun/serving/v2_serving.py\", line 104, in post_init\n    self._load_and_update_state()\n  File \"/opt/conda/lib/python3.7/site-packages/mlrun/serving/v2_serving.py\", line 92, in _load_and_update_state\n    raise RuntimeError(f\"failed to load model {self.name}, {exc}\")\nRuntimeError: failed to load model m1, Error(s) in loading state_dict for BertSentimentClassifier:\n\tMissing key(s) in state_dict: \"bert.embeddings.position_ids\". \n\" || worker_id=\"0\"]"
     ]
    }
   ],
   "source": [
    "addr = fn.deploy(project='nlp-servers')\n"
   ]
  },
  {
   "cell_type": "markdown",
   "metadata": {},
   "source": [
    "#### remote test\n",
    "We will send a sentence to the model server via HTTP request. Note that the url below uses model server notation that directs our event to the predict function."
   ]
  },
  {
   "cell_type": "code",
   "execution_count": null,
   "metadata": {},
   "outputs": [],
   "source": [
    "import json\n",
    "\n",
    "event_data = {'instances': ['I had a somewhat ok experience buying at that store.']}\n",
    "\n",
    "resp = requests.put(addr + '/bert_classifier_v1/predict', json=json.dumps(event_data))"
   ]
  },
  {
   "cell_type": "code",
   "execution_count": null,
   "metadata": {},
   "outputs": [],
   "source": [
    "print(resp.text)"
   ]
  },
  {
   "cell_type": "markdown",
   "metadata": {},
   "source": [
    "The model server classified the sentence as neutral. "
   ]
  }
 ],
 "metadata": {
  "kernelspec": {
   "display_name": "Python 3",
   "language": "python",
   "name": "python3"
  },
  "language_info": {
   "codemirror_mode": {
    "name": "ipython",
    "version": 3
   },
   "file_extension": ".py",
   "mimetype": "text/x-python",
   "name": "python",
   "nbconvert_exporter": "python",
   "pygments_lexer": "ipython3",
   "version": "3.7.6"
  }
 },
 "nbformat": 4,
 "nbformat_minor": 4
}
